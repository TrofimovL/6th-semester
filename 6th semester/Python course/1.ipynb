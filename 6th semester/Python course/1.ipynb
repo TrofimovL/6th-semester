{
 "cells": [
  {
   "cell_type": "markdown",
   "id": "de5c78a0",
   "metadata": {},
   "source": [
    "# The first program"
   ]
  },
  {
   "cell_type": "code",
   "execution_count": 19,
   "id": "f257b2a4",
   "metadata": {},
   "outputs": [
    {
     "name": "stdout",
     "output_type": "stream",
     "text": [
      "String consisting 3 letters: abc\n"
     ]
    }
   ],
   "source": [
    "my_str = input(\"String consisting 3 letters: \")"
   ]
  },
  {
   "cell_type": "code",
   "execution_count": 20,
   "id": "9cc232b3",
   "metadata": {},
   "outputs": [
    {
     "name": "stdout",
     "output_type": "stream",
     "text": [
      "a b c\n",
      "97 98 99\n",
      "294\n"
     ]
    }
   ],
   "source": [
    "print(my_str[0], my_str[1], my_str[2])\n",
    "print(ord(my_str[0]), ord(my_str[1]), ord(my_str[2]))\n",
    "print(ord(my_str[0]) + ord(my_str[1]) + ord(my_str[2]))"
   ]
  },
  {
   "cell_type": "markdown",
   "id": "6f608a4f",
   "metadata": {},
   "source": [
    "# The second part"
   ]
  },
  {
   "cell_type": "code",
   "execution_count": 21,
   "id": "7bf022f0",
   "metadata": {},
   "outputs": [
    {
     "name": "stdout",
     "output_type": "stream",
     "text": [
      "My name: Alex\n",
      "65\n",
      "Vowel letter\n"
     ]
    }
   ],
   "source": [
    "my_name = str(input(\"My name: \"))\n",
    "print(ord(my_name[0]))\n",
    "\n",
    "if(ord(my_name[0]) == 65 or ord(my_name[0]) == 69 or ord(my_name[0]) == 73 or ord(my_name[0]) == 79 or ord(my_name[0]) == 85 or ord(my_name[0]) == 89):\n",
    "    print(\"Vowel letter\")"
   ]
  },
  {
   "cell_type": "code",
   "execution_count": 49,
   "id": "62095eee",
   "metadata": {},
   "outputs": [
    {
     "name": "stdout",
     "output_type": "stream",
     "text": [
      "Ythdyfhfj\n",
      "The word is ythdyfhfj\n",
      "y\n",
      "y\n"
     ]
    }
   ],
   "source": [
    "word = (input()).lower()\n",
    "print(\"The word is\", word)\n",
    "x=('a', 'e', 'o', 'i', 'u', 'y')\n",
    "for i,letter in enumerate(word):\n",
    "    if letter in x:\n",
    "        print(letter)"
   ]
  },
  {
   "cell_type": "code",
   "execution_count": 50,
   "id": "233325dd",
   "metadata": {},
   "outputs": [
    {
     "name": "stdout",
     "output_type": "stream",
     "text": [
      "Detected! y\n"
     ]
    }
   ],
   "source": [
    "if word[0] in x:\n",
    "    print(\"Detected!\", word[0])"
   ]
  },
  {
   "cell_type": "code",
   "execution_count": null,
   "id": "e0d78fe4",
   "metadata": {},
   "outputs": [],
   "source": []
  },
  {
   "cell_type": "markdown",
   "id": "fa7e8feb",
   "metadata": {},
   "source": [
    "# TEST FILE"
   ]
  },
  {
   "cell_type": "code",
   "execution_count": 9,
   "id": "c6ef0598",
   "metadata": {},
   "outputs": [
    {
     "name": "stdout",
     "output_type": "stream",
     "text": [
      "a = 179769313486231590772930519078902473361797697894230657273430081157732675805500963132708477322407536021120113879871393357658789768814416622492847430639474124377767893424865485276302219601246094119453082952085005768838150682342462881473913110540827237163350510684586298239947245938479716304835356329624224137216\n",
      "len(a) = 309\n"
     ]
    }
   ],
   "source": [
    "# FORTRAN\n",
    "a = str(2**1024)\n",
    "print(\"a = \" + a)\n",
    "print(\"len(a) = \" + str(len(a)))"
   ]
  },
  {
   "cell_type": "code",
   "execution_count": 14,
   "id": "8f442d40",
   "metadata": {},
   "outputs": [
    {
     "name": "stdout",
     "output_type": "stream",
     "text": [
      "[0, 1, 2, 3, 4]\n",
      "(0, 1, 2, 3, 4)\n",
      "0\n",
      "1\n",
      "2\n",
      "3\n",
      "4\n"
     ]
    }
   ],
   "source": [
    "def function(*args):\n",
    "    print(args)\n",
    "    for u in args:\n",
    "        print(u)\n",
    "\n",
    "#Create a list of 5 elements\n",
    "a = list(range(5))\n",
    "print(a)\n",
    "\n",
    "function(*a)"
   ]
  },
  {
   "cell_type": "code",
   "execution_count": 27,
   "id": "4bf9ab1a",
   "metadata": {},
   "outputs": [
    {
     "name": "stdout",
     "output_type": "stream",
     "text": [
      "1\n",
      "2\n",
      "3\n",
      "4\n"
     ]
    }
   ],
   "source": [
    "def test_func(*link):\n",
    "    for i in link:\n",
    "        print(i)\n",
    "        \n",
    "abc = [1, 2, 3, 4]\n",
    "test_func(*abc)"
   ]
  },
  {
   "cell_type": "code",
   "execution_count": null,
   "id": "3643b7a5",
   "metadata": {},
   "outputs": [],
   "source": []
  },
  {
   "cell_type": "code",
   "execution_count": null,
   "id": "e74f115b",
   "metadata": {},
   "outputs": [],
   "source": []
  },
  {
   "cell_type": "code",
   "execution_count": null,
   "id": "4c2d0455",
   "metadata": {},
   "outputs": [],
   "source": []
  },
  {
   "cell_type": "code",
   "execution_count": null,
   "id": "185f381d",
   "metadata": {},
   "outputs": [],
   "source": []
  },
  {
   "cell_type": "code",
   "execution_count": null,
   "id": "f2e63699",
   "metadata": {},
   "outputs": [],
   "source": []
  },
  {
   "cell_type": "code",
   "execution_count": null,
   "id": "04e6c2f4",
   "metadata": {},
   "outputs": [],
   "source": []
  }
 ],
 "metadata": {
  "kernelspec": {
   "display_name": "Python 3",
   "language": "python",
   "name": "python3"
  },
  "language_info": {
   "codemirror_mode": {
    "name": "ipython",
    "version": 3
   },
   "file_extension": ".py",
   "mimetype": "text/x-python",
   "name": "python",
   "nbconvert_exporter": "python",
   "pygments_lexer": "ipython3",
   "version": "3.8.8"
  }
 },
 "nbformat": 4,
 "nbformat_minor": 5
}
