{
 "cells": [
  {
   "cell_type": "markdown",
   "id": "9f87496a",
   "metadata": {},
   "source": [
    "# LIBRARIES"
   ]
  },
  {
   "cell_type": "code",
   "execution_count": 7,
   "id": "07503aae",
   "metadata": {},
   "outputs": [],
   "source": [
    "import math"
   ]
  },
  {
   "cell_type": "markdown",
   "id": "3214a97d",
   "metadata": {},
   "source": [
    "### FORTRAN"
   ]
  },
  {
   "cell_type": "code",
   "execution_count": 11,
   "id": "fac35bcf",
   "metadata": {},
   "outputs": [
    {
     "name": "stdout",
     "output_type": "stream",
     "text": [
      "a = 179769313486231590772930519078902473361797697894230657273430081157732675805500963132708477322407536021120113879871393357658789768814416622492847430639474124377767893424865485276302219601246094119453082952085005768838150682342462881473913110540827237163350510684586298239947245938479716304835356329624224137216\n",
      "len(a) = 309\n"
     ]
    }
   ],
   "source": [
    "# FORTRAN\n",
    "a = str(2**1024)\n",
    "print(\"a = \" + a)\n",
    "print(\"len(a) = \" + str(len(a)))"
   ]
  },
  {
   "cell_type": "code",
   "execution_count": 2,
   "id": "8ffd57f6",
   "metadata": {},
   "outputs": [
    {
     "name": "stdout",
     "output_type": "stream",
     "text": [
      "8388608\n"
     ]
    }
   ],
   "source": [
    "print(2**23)"
   ]
  },
  {
   "cell_type": "code",
   "execution_count": 3,
   "id": "24e45524",
   "metadata": {},
   "outputs": [
    {
     "data": {
      "text/plain": [
       "256"
      ]
     },
     "execution_count": 3,
     "metadata": {},
     "output_type": "execute_result"
    }
   ],
   "source": [
    "2**8"
   ]
  },
  {
   "cell_type": "code",
   "execution_count": 4,
   "id": "09caeea5",
   "metadata": {},
   "outputs": [
    {
     "data": {
      "text/plain": [
       "8388608"
      ]
     },
     "execution_count": 4,
     "metadata": {},
     "output_type": "execute_result"
    }
   ],
   "source": [
    "2**23"
   ]
  },
  {
   "cell_type": "code",
   "execution_count": 8,
   "id": "d4851c1e",
   "metadata": {},
   "outputs": [
    {
     "data": {
      "text/plain": [
       "262.92368990027154"
      ]
     },
     "execution_count": 8,
     "metadata": {},
     "output_type": "execute_result"
    }
   ],
   "source": [
    "math.log10(2**23)+256"
   ]
  },
  {
   "cell_type": "markdown",
   "id": "77aedd78",
   "metadata": {},
   "source": [
    "### Python передача массива в аргумент функции"
   ]
  },
  {
   "cell_type": "code",
   "execution_count": 2,
   "id": "df44fefb",
   "metadata": {},
   "outputs": [
    {
     "name": "stdout",
     "output_type": "stream",
     "text": [
      "[0, 1, 2, 3, 4]\n",
      "(0, 1, 2, 3, 4)\n",
      "0\n",
      "1\n",
      "2\n",
      "3\n",
      "4\n"
     ]
    }
   ],
   "source": [
    "def function(*args):\n",
    "    print(args)\n",
    "    for u in args:\n",
    "        print(u)\n",
    "\n",
    "#Create a list of 5 elements\n",
    "a = list(range(5))\n",
    "print(a)\n",
    "\n",
    "function(*a)"
   ]
  },
  {
   "cell_type": "code",
   "execution_count": 6,
   "id": "dd4b1eba",
   "metadata": {},
   "outputs": [
    {
     "name": "stdout",
     "output_type": "stream",
     "text": [
      "1\n",
      "2\n",
      "3\n",
      "4\n",
      "the -1st element = length = 4\n",
      "len(link) = 4\n"
     ]
    }
   ],
   "source": [
    "def test_func(*link):\n",
    "    for i in link:\n",
    "        print(i)\n",
    "    print(\"the -1st element = length =\", link[-1])\n",
    "    print(\"len(link) =\", len(link))\n",
    "        \n",
    "abc = [1, 2, 3, 4]\n",
    "test_func(*abc)"
   ]
  },
  {
   "cell_type": "markdown",
   "id": "bd18ec93",
   "metadata": {},
   "source": [
    "### Type"
   ]
  },
  {
   "cell_type": "code",
   "execution_count": 11,
   "id": "8aec5560",
   "metadata": {},
   "outputs": [
    {
     "name": "stdout",
     "output_type": "stream",
     "text": [
      "word\n"
     ]
    }
   ],
   "source": [
    "a = 'word'\n",
    "print(a)"
   ]
  },
  {
   "cell_type": "markdown",
   "id": "fcc2e526",
   "metadata": {},
   "source": [
    "# LIST -------------------------------------------------------------------------------------------------------"
   ]
  },
  {
   "cell_type": "markdown",
   "id": "10884e73",
   "metadata": {},
   "source": [
    "### List"
   ]
  },
  {
   "cell_type": "code",
   "execution_count": 19,
   "id": "7b08ab09",
   "metadata": {},
   "outputs": [
    {
     "name": "stdout",
     "output_type": "stream",
     "text": [
      "[8, 7, 6, 5, 4, 3, 2]\n"
     ]
    }
   ],
   "source": [
    "b = list(range(8,1,-1))\n",
    "print(b)"
   ]
  },
  {
   "cell_type": "markdown",
   "id": "1593917f",
   "metadata": {},
   "source": [
    "### Different types in List"
   ]
  },
  {
   "cell_type": "code",
   "execution_count": 26,
   "id": "7fec30d6",
   "metadata": {},
   "outputs": [
    {
     "name": "stdout",
     "output_type": "stream",
     "text": [
      "[1, 1.2, 'a', 'bcd', True]\n",
      "After remove: [1, 1.2, 'a', True]\n",
      "After del: [1, 'a', True]\n"
     ]
    }
   ],
   "source": [
    "c = [1, 1.2, 'a', \"bcd\", True]\n",
    "print(c)\n",
    "\n",
    "c.remove(\"bcd\")\n",
    "print(\"After remove: \" + str(c))\n",
    "\n",
    "del c[1]\n",
    "print(\"After del: \" + str(c))"
   ]
  },
  {
   "cell_type": "markdown",
   "id": "0934bf67",
   "metadata": {},
   "source": [
    "### Reverse"
   ]
  },
  {
   "cell_type": "code",
   "execution_count": 27,
   "id": "42704644",
   "metadata": {},
   "outputs": [
    {
     "name": "stdout",
     "output_type": "stream",
     "text": [
      "After reverse: [4, 3, 2, 1]\n"
     ]
    }
   ],
   "source": [
    "a = [1, 2, 3, 4]\n",
    "a.reverse()\n",
    "print(\"After reverse: \" + str(a))"
   ]
  },
  {
   "cell_type": "markdown",
   "id": "7ed59b16",
   "metadata": {},
   "source": [
    "### Max Min"
   ]
  },
  {
   "cell_type": "code",
   "execution_count": 30,
   "id": "01448a48",
   "metadata": {},
   "outputs": [
    {
     "name": "stdout",
     "output_type": "stream",
     "text": [
      "4 1\n"
     ]
    }
   ],
   "source": [
    "print(max(a), min(a))"
   ]
  },
  {
   "cell_type": "markdown",
   "id": "67b78cda",
   "metadata": {},
   "source": [
    "# OS ----------------------------------------------------------------------------------------------------------"
   ]
  },
  {
   "cell_type": "code",
   "execution_count": 38,
   "id": "a9fa122c",
   "metadata": {},
   "outputs": [],
   "source": [
    "import os"
   ]
  },
  {
   "cell_type": "code",
   "execution_count": 36,
   "id": "b2eac093",
   "metadata": {},
   "outputs": [
    {
     "name": "stdout",
     "output_type": "stream",
     "text": [
      "Введите путь к файлу: \"G:\\Мой диск\\6 семестр\\Программирование C++, Python, Fortran\\Python\\python_new_lec5.pdf\"\n",
      "Файл не существует\n"
     ]
    }
   ],
   "source": [
    "filename = input(\"Введите путь к файлу: \")\n",
    "if os.path.exists(filename):\n",
    "    print(\"Указанный файл существует\") \n",
    "else:\n",
    "    print(\"Файл не существует\") "
   ]
  },
  {
   "cell_type": "markdown",
   "id": "dae7b36f",
   "metadata": {},
   "source": [
    "### NameError"
   ]
  },
  {
   "cell_type": "code",
   "execution_count": 40,
   "id": "2a0e1a7e",
   "metadata": {},
   "outputs": [
    {
     "ename": "NameError",
     "evalue": "name 'i_don_know' is not defined",
     "output_type": "error",
     "traceback": [
      "\u001b[1;31m---------------------------------------------------------------------------\u001b[0m",
      "\u001b[1;31mNameError\u001b[0m                                 Traceback (most recent call last)",
      "\u001b[1;32m<ipython-input-40-075d46b40043>\u001b[0m in \u001b[0;36m<module>\u001b[1;34m\u001b[0m\n\u001b[1;32m----> 1\u001b[1;33m \u001b[0mprint\u001b[0m\u001b[1;33m(\u001b[0m\u001b[0mi_don_know\u001b[0m\u001b[1;33m)\u001b[0m\u001b[1;33m\u001b[0m\u001b[1;33m\u001b[0m\u001b[0m\n\u001b[0m",
      "\u001b[1;31mNameError\u001b[0m: name 'i_don_know' is not defined"
     ]
    }
   ],
   "source": [
    "print(i_don_know)"
   ]
  },
  {
   "cell_type": "markdown",
   "id": "4f9ff720",
   "metadata": {},
   "source": [
    "# FILES"
   ]
  },
  {
   "cell_type": "code",
   "execution_count": 64,
   "id": "0a213c2c",
   "metadata": {},
   "outputs": [],
   "source": [
    "from random import *"
   ]
  },
  {
   "cell_type": "code",
   "execution_count": 65,
   "id": "ee1c0627",
   "metadata": {},
   "outputs": [],
   "source": [
    "file = open(\"C:/Users/User/Desktop/data.txt\", \"w\")\n",
    "\n",
    "# file=input('Какой файл вы хотите создать? ')\n",
    "# C:\\Users\\User\\Desktop\\data.txt"
   ]
  },
  {
   "cell_type": "code",
   "execution_count": 66,
   "id": "978d270f",
   "metadata": {
    "scrolled": true
   },
   "outputs": [
    {
     "name": "stdout",
     "output_type": "stream",
     "text": [
      "0.9281022347836095\n",
      "0.8497533431051366\n",
      "0.8175854079471399\n",
      "0.43042758520529256\n",
      "0.7581287963455964\n",
      "0.21911186273391747\n",
      "0.9383738941211979\n",
      "0.3320686994073171\n",
      "0.38668741417772445\n",
      "0.29529401381057596\n",
      "0.2842439192698716\n",
      "0.2114679090722884\n",
      "0.813234791940751\n",
      "0.9529022633659984\n",
      "0.12563943919781184\n",
      "0.6666246046182687\n",
      "0.0973463176439342\n",
      "0.66163626258173\n",
      "0.4207592137413396\n",
      "0.9033260375432554\n",
      "0.47596050856154226\n",
      "0.7013153817974375\n",
      "0.6240395938285068\n",
      "0.40486363475443143\n",
      "0.7396541228252662\n",
      "0.18902576286314798\n",
      "0.6940336476298695\n",
      "0.7531512550075588\n",
      "0.7309767713139355\n",
      "0.6073479516520398\n",
      "0.718195964432038\n",
      "0.2184901442873194\n",
      "0.3923600708561844\n",
      "0.8421124216361202\n",
      "0.14461083622992188\n",
      "0.04445891371602362\n",
      "0.3642167029447204\n",
      "0.5295781516472808\n",
      "0.4777294366846164\n",
      "0.3005550561966511\n",
      "0.6224310111236431\n",
      "0.13759893059903727\n",
      "0.8856471787534371\n",
      "0.22699683605032994\n",
      "0.524414556336071\n",
      "0.9940614272013746\n",
      "0.17096774974455875\n",
      "0.059935728373891495\n",
      "0.8289197798588351\n",
      "0.5922908608267162\n",
      "0.6548549242145193\n",
      "0.9962390511974679\n",
      "0.07857700741801987\n",
      "0.5079816352163522\n",
      "0.6795338390697175\n",
      "0.1506510438337043\n",
      "0.3173871044444685\n",
      "0.6680261976255315\n",
      "0.2883724921342118\n",
      "0.7152513983858659\n",
      "0.7629925755736908\n",
      "0.38327589130042183\n",
      "0.2601958785084909\n",
      "0.11796228537530817\n",
      "0.9777654882660817\n",
      "0.9460341124818318\n",
      "0.26654002069855853\n",
      "0.9951901727157342\n",
      "0.5093298756789426\n",
      "0.8849177735348901\n",
      "0.5249122562012052\n",
      "0.5289558908686516\n",
      "0.3970851080626503\n",
      "0.1624859011265698\n",
      "0.11286816858139126\n",
      "0.20526004883096116\n",
      "0.9494592260207438\n",
      "0.40198321185522357\n",
      "0.5971118139712748\n",
      "0.1811375835616239\n",
      "0.09766295935407787\n",
      "0.7076714511006323\n",
      "0.1207045374350657\n",
      "0.65481988806672\n",
      "0.2650354171966932\n",
      "0.29865209862862474\n",
      "0.9676974540818353\n",
      "0.34578072379357094\n",
      "0.5984474143784799\n",
      "0.2850415674450968\n",
      "0.7671982017190595\n",
      "0.9080927365648856\n",
      "0.0639452475487643\n",
      "0.507902054752712\n",
      "0.01852994972769606\n",
      "0.3162316168092769\n",
      "0.8719529032717555\n",
      "0.913436568485479\n",
      "0.08746419961839658\n",
      "0.5549480571907787\n"
     ]
    }
   ],
   "source": [
    "rand = []\n",
    "for i in range(100):\n",
    "    rand.append(str(random()))\n",
    "    print(rand[i])"
   ]
  },
  {
   "cell_type": "markdown",
   "id": "b5e14297",
   "metadata": {},
   "source": [
    "### .join"
   ]
  },
  {
   "cell_type": "code",
   "execution_count": 67,
   "id": "74d3e514",
   "metadata": {
    "scrolled": true
   },
   "outputs": [
    {
     "name": "stdout",
     "output_type": "stream",
     "text": [
      "0.9281022347836095 | meow\n",
      "0.8497533431051366 | meow\n",
      "0.8175854079471399 | meow\n",
      "0.43042758520529256 | meow\n",
      "0.7581287963455964 | meow\n",
      "0.21911186273391747 | meow\n",
      "0.9383738941211979 | meow\n",
      "0.3320686994073171 | meow\n",
      "0.38668741417772445 | meow\n",
      "0.29529401381057596 | meow\n",
      "0.2842439192698716 | meow\n",
      "0.2114679090722884 | meow\n",
      "0.813234791940751 | meow\n",
      "0.9529022633659984 | meow\n",
      "0.12563943919781184 | meow\n",
      "0.6666246046182687 | meow\n",
      "0.0973463176439342 | meow\n",
      "0.66163626258173 | meow\n",
      "0.4207592137413396 | meow\n",
      "0.9033260375432554 | meow\n",
      "0.47596050856154226 | meow\n",
      "0.7013153817974375 | meow\n",
      "0.6240395938285068 | meow\n",
      "0.40486363475443143 | meow\n",
      "0.7396541228252662 | meow\n",
      "0.18902576286314798 | meow\n",
      "0.6940336476298695 | meow\n",
      "0.7531512550075588 | meow\n",
      "0.7309767713139355 | meow\n",
      "0.6073479516520398 | meow\n",
      "0.718195964432038 | meow\n",
      "0.2184901442873194 | meow\n",
      "0.3923600708561844 | meow\n",
      "0.8421124216361202 | meow\n",
      "0.14461083622992188 | meow\n",
      "0.04445891371602362 | meow\n",
      "0.3642167029447204 | meow\n",
      "0.5295781516472808 | meow\n",
      "0.4777294366846164 | meow\n",
      "0.3005550561966511 | meow\n",
      "0.6224310111236431 | meow\n",
      "0.13759893059903727 | meow\n",
      "0.8856471787534371 | meow\n",
      "0.22699683605032994 | meow\n",
      "0.524414556336071 | meow\n",
      "0.9940614272013746 | meow\n",
      "0.17096774974455875 | meow\n",
      "0.059935728373891495 | meow\n",
      "0.8289197798588351 | meow\n",
      "0.5922908608267162 | meow\n",
      "0.6548549242145193 | meow\n",
      "0.9962390511974679 | meow\n",
      "0.07857700741801987 | meow\n",
      "0.5079816352163522 | meow\n",
      "0.6795338390697175 | meow\n",
      "0.1506510438337043 | meow\n",
      "0.3173871044444685 | meow\n",
      "0.6680261976255315 | meow\n",
      "0.2883724921342118 | meow\n",
      "0.7152513983858659 | meow\n",
      "0.7629925755736908 | meow\n",
      "0.38327589130042183 | meow\n",
      "0.2601958785084909 | meow\n",
      "0.11796228537530817 | meow\n",
      "0.9777654882660817 | meow\n",
      "0.9460341124818318 | meow\n",
      "0.26654002069855853 | meow\n",
      "0.9951901727157342 | meow\n",
      "0.5093298756789426 | meow\n",
      "0.8849177735348901 | meow\n",
      "0.5249122562012052 | meow\n",
      "0.5289558908686516 | meow\n",
      "0.3970851080626503 | meow\n",
      "0.1624859011265698 | meow\n",
      "0.11286816858139126 | meow\n",
      "0.20526004883096116 | meow\n",
      "0.9494592260207438 | meow\n",
      "0.40198321185522357 | meow\n",
      "0.5971118139712748 | meow\n",
      "0.1811375835616239 | meow\n",
      "0.09766295935407787 | meow\n",
      "0.7076714511006323 | meow\n",
      "0.1207045374350657 | meow\n",
      "0.65481988806672 | meow\n",
      "0.2650354171966932 | meow\n",
      "0.29865209862862474 | meow\n",
      "0.9676974540818353 | meow\n",
      "0.34578072379357094 | meow\n",
      "0.5984474143784799 | meow\n",
      "0.2850415674450968 | meow\n",
      "0.7671982017190595 | meow\n",
      "0.9080927365648856 | meow\n",
      "0.0639452475487643 | meow\n",
      "0.507902054752712 | meow\n",
      "0.01852994972769606 | meow\n",
      "0.3162316168092769 | meow\n",
      "0.8719529032717555 | meow\n",
      "0.913436568485479 | meow\n",
      "0.08746419961839658 | meow\n",
      "0.5549480571907787\n"
     ]
    }
   ],
   "source": [
    "print(' | meow\\n'.join(rand))"
   ]
  },
  {
   "cell_type": "code",
   "execution_count": 68,
   "id": "9c4d0344",
   "metadata": {},
   "outputs": [
    {
     "data": {
      "text/plain": [
       "2610"
      ]
     },
     "execution_count": 68,
     "metadata": {},
     "output_type": "execute_result"
    }
   ],
   "source": [
    "file.write(' | meow\\n'.join(rand))"
   ]
  },
  {
   "cell_type": "markdown",
   "id": "3831bd2f",
   "metadata": {},
   "source": [
    "### Close the file"
   ]
  },
  {
   "cell_type": "code",
   "execution_count": 69,
   "id": "6a2dde52",
   "metadata": {},
   "outputs": [
    {
     "ename": "ValueError",
     "evalue": "I/O operation on closed file.",
     "output_type": "error",
     "traceback": [
      "\u001b[1;31m---------------------------------------------------------------------------\u001b[0m",
      "\u001b[1;31mValueError\u001b[0m                                Traceback (most recent call last)",
      "\u001b[1;32m<ipython-input-69-a9033dbc578c>\u001b[0m in \u001b[0;36m<module>\u001b[1;34m\u001b[0m\n\u001b[0;32m      1\u001b[0m \u001b[0mfile\u001b[0m\u001b[1;33m.\u001b[0m\u001b[0mclose\u001b[0m\u001b[1;33m(\u001b[0m\u001b[1;33m)\u001b[0m\u001b[1;33m\u001b[0m\u001b[1;33m\u001b[0m\u001b[0m\n\u001b[1;32m----> 2\u001b[1;33m \u001b[0mfile\u001b[0m\u001b[1;33m.\u001b[0m\u001b[0mwrite\u001b[0m\u001b[1;33m(\u001b[0m\u001b[1;34m'text'\u001b[0m\u001b[1;33m)\u001b[0m\u001b[1;33m\u001b[0m\u001b[1;33m\u001b[0m\u001b[0m\n\u001b[0m",
      "\u001b[1;31mValueError\u001b[0m: I/O operation on closed file."
     ]
    }
   ],
   "source": [
    "file.close()\n",
    "file.write('text')"
   ]
  },
  {
   "cell_type": "markdown",
   "id": "6de131c2",
   "metadata": {},
   "source": [
    "### Если файла не существует, то должен создаться"
   ]
  },
  {
   "cell_type": "code",
   "execution_count": 70,
   "id": "120ae10d",
   "metadata": {},
   "outputs": [],
   "source": [
    "file = open(\"C:/Users/User/Desktop/data.txt\", \"r\")"
   ]
  },
  {
   "cell_type": "code",
   "execution_count": 75,
   "id": "d92d700d",
   "metadata": {},
   "outputs": [
    {
     "name": "stdout",
     "output_type": "stream",
     "text": [
      " meow\n",
      "0.12563943919781184 | meow\n",
      "0.6666246046182687 | meow\n",
      "0.0973463176439342 | meow\n",
      "0.6616362625817\n"
     ]
    }
   ],
   "source": [
    "file.read(100)\n",
    "print(file.read(100))"
   ]
  },
  {
   "cell_type": "code",
   "execution_count": 82,
   "id": "a702e7f9",
   "metadata": {},
   "outputs": [],
   "source": [
    "file.close()\n",
    "file = open(\"C:/Users/User/Desktop/data.txt\", \"a\")"
   ]
  },
  {
   "cell_type": "code",
   "execution_count": 83,
   "id": "452b6d33",
   "metadata": {},
   "outputs": [
    {
     "data": {
      "text/plain": [
       "10"
      ]
     },
     "execution_count": 83,
     "metadata": {},
     "output_type": "execute_result"
    }
   ],
   "source": [
    "file.write('\\nДозапись!')"
   ]
  },
  {
   "cell_type": "code",
   "execution_count": 84,
   "id": "0ec209bc",
   "metadata": {},
   "outputs": [
    {
     "data": {
      "text/plain": [
       "41"
      ]
     },
     "execution_count": 84,
     "metadata": {},
     "output_type": "execute_result"
    }
   ],
   "source": [
    "file.write(\"\\nОго, это почему-то работает, удивительно\")"
   ]
  },
  {
   "cell_type": "markdown",
   "id": "fddb8383",
   "metadata": {},
   "source": [
    "### read by lines"
   ]
  },
  {
   "cell_type": "code",
   "execution_count": 98,
   "id": "2d86f871",
   "metadata": {
    "scrolled": true
   },
   "outputs": [
    {
     "name": "stdout",
     "output_type": "stream",
     "text": [
      "0.9281022347836095 | meow\n",
      "\n"
     ]
    }
   ],
   "source": [
    "file = open(\"C:/Users/User/Desktop/data.txt\", \"r\")\n",
    "lines = file.readline()\n",
    "print(lines)"
   ]
  },
  {
   "cell_type": "code",
   "execution_count": 99,
   "id": "6a97099a",
   "metadata": {
    "scrolled": true
   },
   "outputs": [
    {
     "name": "stdout",
     "output_type": "stream",
     "text": [
      "['0.8497533431051366 | meow\\n', '0.8175854079471399 | meow\\n', '0.43042758520529256 | meow\\n', '0.7581287963455964 | meow\\n', '0.21911186273391747 | meow\\n', '0.9383738941211979 | meow\\n', '0.3320686994073171 | meow\\n', '0.38668741417772445 | meow\\n', '0.29529401381057596 | meow\\n', '0.2842439192698716 | meow\\n', '0.2114679090722884 | meow\\n', '0.813234791940751 | meow\\n', '0.9529022633659984 | meow\\n', '0.12563943919781184 | meow\\n', '0.6666246046182687 | meow\\n', '0.0973463176439342 | meow\\n', '0.66163626258173 | meow\\n', '0.4207592137413396 | meow\\n', '0.9033260375432554 | meow\\n', '0.47596050856154226 | meow\\n', '0.7013153817974375 | meow\\n', '0.6240395938285068 | meow\\n', '0.40486363475443143 | meow\\n', '0.7396541228252662 | meow\\n', '0.18902576286314798 | meow\\n', '0.6940336476298695 | meow\\n', '0.7531512550075588 | meow\\n', '0.7309767713139355 | meow\\n', '0.6073479516520398 | meow\\n', '0.718195964432038 | meow\\n', '0.2184901442873194 | meow\\n', '0.3923600708561844 | meow\\n', '0.8421124216361202 | meow\\n', '0.14461083622992188 | meow\\n', '0.04445891371602362 | meow\\n', '0.3642167029447204 | meow\\n', '0.5295781516472808 | meow\\n', '0.4777294366846164 | meow\\n', '0.3005550561966511 | meow\\n', '0.6224310111236431 | meow\\n', '0.13759893059903727 | meow\\n', '0.8856471787534371 | meow\\n', '0.22699683605032994 | meow\\n', '0.524414556336071 | meow\\n', '0.9940614272013746 | meow\\n', '0.17096774974455875 | meow\\n', '0.059935728373891495 | meow\\n', '0.8289197798588351 | meow\\n', '0.5922908608267162 | meow\\n', '0.6548549242145193 | meow\\n', '0.9962390511974679 | meow\\n', '0.07857700741801987 | meow\\n', '0.5079816352163522 | meow\\n', '0.6795338390697175 | meow\\n', '0.1506510438337043 | meow\\n', '0.3173871044444685 | meow\\n', '0.6680261976255315 | meow\\n', '0.2883724921342118 | meow\\n', '0.7152513983858659 | meow\\n', '0.7629925755736908 | meow\\n', '0.38327589130042183 | meow\\n', '0.2601958785084909 | meow\\n', '0.11796228537530817 | meow\\n', '0.9777654882660817 | meow\\n', '0.9460341124818318 | meow\\n', '0.26654002069855853 | meow\\n', '0.9951901727157342 | meow\\n', '0.5093298756789426 | meow\\n', '0.8849177735348901 | meow\\n', '0.5249122562012052 | meow\\n', '0.5289558908686516 | meow\\n', '0.3970851080626503 | meow\\n', '0.1624859011265698 | meow\\n', '0.11286816858139126 | meow\\n', '0.20526004883096116 | meow\\n', '0.9494592260207438 | meow\\n', '0.40198321185522357 | meow\\n', '0.5971118139712748 | meow\\n', '0.1811375835616239 | meow\\n', '0.09766295935407787 | meow\\n', '0.7076714511006323 | meow\\n', '0.1207045374350657 | meow\\n', '0.65481988806672 | meow\\n', '0.2650354171966932 | meow\\n', '0.29865209862862474 | meow\\n', '0.9676974540818353 | meow\\n', '0.34578072379357094 | meow\\n', '0.5984474143784799 | meow\\n', '0.2850415674450968 | meow\\n', '0.7671982017190595 | meow\\n', '0.9080927365648856 | meow\\n', '0.0639452475487643 | meow\\n', '0.507902054752712 | meow\\n', '0.01852994972769606 | meow\\n', '0.3162316168092769 | meow\\n', '0.8719529032717555 | meow\\n', '0.913436568485479 | meow\\n', '0.08746419961839658 | meow\\n', '0.5549480571907787\\n', 'Дозапись!\\n', 'Дозапись!\\n', 'Ого, это почему-то работает, удивительно\\n', 'Ого, это почему-то работает, удивительно\\n', 'Дозапись!\\n', 'Ого, это почему-то работает, удивительно']\n"
     ]
    }
   ],
   "source": [
    "lines = file.readlines()\n",
    "print(lines)"
   ]
  },
  {
   "cell_type": "markdown",
   "id": "1b52c04e",
   "metadata": {},
   "source": [
    "# TUPLE LIST SET"
   ]
  },
  {
   "cell_type": "markdown",
   "id": "ccbc1247",
   "metadata": {},
   "source": [
    "### Set - множество. Удаляет дубликаты. Остальные не удаляют"
   ]
  },
  {
   "cell_type": "code",
   "execution_count": 101,
   "id": "e3e8c171",
   "metadata": {},
   "outputs": [
    {
     "name": "stdout",
     "output_type": "stream",
     "text": [
      "{1, 2, 3}\n",
      "{'🍐', '🍓', '🍎'}\n"
     ]
    }
   ],
   "source": [
    "set_example = {1, 1, 2, 3, 3, 3}\n",
    "print(set_example)\n",
    "\n",
    "fruit_set = {'🍎', '🍓', '🍐', '🍎', '🍎', '🍓'}\n",
    "print(fruit_set)"
   ]
  },
  {
   "cell_type": "code",
   "execution_count": 103,
   "id": "398974ec",
   "metadata": {},
   "outputs": [
    {
     "name": "stdout",
     "output_type": "stream",
     "text": [
      "{'🍎': 12, '🍇': 20, '🍐': 16}\n"
     ]
    }
   ],
   "source": [
    "fruit_size = {} # dictionary словарь\n",
    "fruit_size['🍎'] = 12 \n",
    "fruit_size['🍇'] = 20 \n",
    "fruit_size['🍐'] = 16 \n",
    "print(fruit_size)"
   ]
  },
  {
   "cell_type": "code",
   "execution_count": 8,
   "id": "ba58190d",
   "metadata": {},
   "outputs": [
    {
     "name": "stdout",
     "output_type": "stream",
     "text": [
      "(1, 2, 3, 4, 5)\n"
     ]
    },
    {
     "data": {
      "text/plain": [
       "64"
      ]
     },
     "execution_count": 8,
     "metadata": {},
     "output_type": "execute_result"
    }
   ],
   "source": [
    "# кортеж\n",
    "\n",
    "a = (1,2,3,4,5)\n",
    "print(a)\n",
    "a.__sizeof__()"
   ]
  },
  {
   "cell_type": "code",
   "execution_count": 9,
   "id": "2ad3a944",
   "metadata": {},
   "outputs": [
    {
     "name": "stdout",
     "output_type": "stream",
     "text": [
      "[1, 2, 3, 4, 5]\n"
     ]
    },
    {
     "data": {
      "text/plain": [
       "80"
      ]
     },
     "execution_count": 9,
     "metadata": {},
     "output_type": "execute_result"
    }
   ],
   "source": [
    "b = [1,2,3,4,5]\n",
    "print(b)\n",
    "b.__sizeof__()"
   ]
  },
  {
   "cell_type": "code",
   "execution_count": null,
   "id": "ac8bcab1",
   "metadata": {},
   "outputs": [],
   "source": []
  },
  {
   "cell_type": "code",
   "execution_count": null,
   "id": "0e3f15a8",
   "metadata": {},
   "outputs": [],
   "source": []
  },
  {
   "cell_type": "code",
   "execution_count": null,
   "id": "33973d7d",
   "metadata": {},
   "outputs": [],
   "source": []
  },
  {
   "cell_type": "code",
   "execution_count": null,
   "id": "17096a97",
   "metadata": {},
   "outputs": [],
   "source": []
  },
  {
   "cell_type": "code",
   "execution_count": 110,
   "id": "6f5f5079",
   "metadata": {},
   "outputs": [],
   "source": [
    "if 2 in range(-2,2):\n",
    "    print(\"meow\")"
   ]
  },
  {
   "cell_type": "code",
   "execution_count": null,
   "id": "7813cc4d",
   "metadata": {},
   "outputs": [],
   "source": []
  },
  {
   "cell_type": "code",
   "execution_count": 111,
   "id": "bb4a0e8d",
   "metadata": {},
   "outputs": [
    {
     "name": "stdout",
     "output_type": "stream",
     "text": [
      "print(value, ..., sep=' ', end='\\n', file=sys.stdout, flush=False)\n",
      "\n",
      "Prints the values to a stream, or to sys.stdout by default.\n",
      "Optional keyword arguments:\n",
      "file:  a file-like object (stream); defaults to the current sys.stdout.\n",
      "sep:   string inserted between values, default a space.\n",
      "end:   string appended after the last value, default a newline.\n",
      "flush: whether to forcibly flush the stream.\n"
     ]
    }
   ],
   "source": [
    "print(print.__doc__)"
   ]
  },
  {
   "cell_type": "code",
   "execution_count": 113,
   "id": "59cfe0f7",
   "metadata": {},
   "outputs": [
    {
     "name": "stdout",
     "output_type": "stream",
     "text": [
      "something works\n",
      "Documentation. Meow twice in a row, please\n"
     ]
    }
   ],
   "source": [
    "def my_func():\n",
    "    '''Documentation. Meow twice in a row, please'''\n",
    "    print(\"something works\")\n",
    "    \n",
    "my_func()\n",
    "print(my_func.__doc__)"
   ]
  },
  {
   "cell_type": "markdown",
   "id": "a922c00b",
   "metadata": {},
   "source": [
    "### do while ?"
   ]
  },
  {
   "cell_type": "code",
   "execution_count": 21,
   "id": "72534a77",
   "metadata": {},
   "outputs": [],
   "source": [
    "# there is no do-while loop"
   ]
  },
  {
   "cell_type": "code",
   "execution_count": 24,
   "id": "5374c869",
   "metadata": {},
   "outputs": [
    {
     "data": {
      "text/plain": [
       "18446744073709551616"
      ]
     },
     "execution_count": 24,
     "metadata": {},
     "output_type": "execute_result"
    }
   ],
   "source": [
    "2**64"
   ]
  },
  {
   "cell_type": "code",
   "execution_count": null,
   "id": "99885141",
   "metadata": {},
   "outputs": [],
   "source": []
  },
  {
   "cell_type": "markdown",
   "id": "5764dada",
   "metadata": {},
   "source": [
    "# OOP -------------------------------------------------------------------------------------------------------"
   ]
  },
  {
   "cell_type": "code",
   "execution_count": 20,
   "id": "452d1ca1",
   "metadata": {},
   "outputs": [],
   "source": [
    "class A:\n",
    "    def __init__(self, x):\n",
    "        self.__x = x\n",
    "    @property\n",
    "    def func(x):\n",
    "        print(\"x is \" + str(x))\n",
    "\n",
    "# class B(A):\n",
    "#     def __init__(self, x):\n",
    "        "
   ]
  },
  {
   "cell_type": "code",
   "execution_count": null,
   "id": "b1ad4b66",
   "metadata": {},
   "outputs": [],
   "source": []
  },
  {
   "cell_type": "markdown",
   "id": "4c994536",
   "metadata": {},
   "source": [
    "# Списки массивы кортежи"
   ]
  },
  {
   "cell_type": "code",
   "execution_count": 28,
   "id": "d447cf5f",
   "metadata": {},
   "outputs": [
    {
     "name": "stdout",
     "output_type": "stream",
     "text": [
      "(1, 4, 3)\n"
     ]
    }
   ],
   "source": [
    "t = tuple([1,4,3]) # constant\n",
    "print(t)"
   ]
  },
  {
   "cell_type": "code",
   "execution_count": 29,
   "id": "6ff0a1b1",
   "metadata": {},
   "outputs": [
    {
     "name": "stdout",
     "output_type": "stream",
     "text": [
      "[1, 4, 3]\n"
     ]
    }
   ],
   "source": [
    "l = list(t)\n",
    "print(l)"
   ]
  },
  {
   "cell_type": "code",
   "execution_count": 30,
   "id": "97fb6bc7",
   "metadata": {},
   "outputs": [
    {
     "name": "stdout",
     "output_type": "stream",
     "text": [
      "{'one': 1, 'two': 2, 'three': 3}\n"
     ]
    }
   ],
   "source": [
    "my_dict = {}\n",
    "another_dict = dict()\n",
    " \n",
    "my_other_dict = {\"one\":1, \"two\":2, \"three\":3}\n",
    "print(my_other_dict)"
   ]
  },
  {
   "cell_type": "code",
   "execution_count": null,
   "id": "fa603880",
   "metadata": {},
   "outputs": [],
   "source": []
  },
  {
   "cell_type": "code",
   "execution_count": null,
   "id": "deff3f88",
   "metadata": {},
   "outputs": [],
   "source": []
  },
  {
   "cell_type": "code",
   "execution_count": null,
   "id": "ecc9a94b",
   "metadata": {},
   "outputs": [],
   "source": []
  },
  {
   "cell_type": "code",
   "execution_count": null,
   "id": "8bdb9aa5",
   "metadata": {},
   "outputs": [],
   "source": []
  },
  {
   "cell_type": "code",
   "execution_count": null,
   "id": "eaa5c183",
   "metadata": {},
   "outputs": [],
   "source": []
  },
  {
   "cell_type": "code",
   "execution_count": null,
   "id": "eb2a0614",
   "metadata": {},
   "outputs": [],
   "source": []
  },
  {
   "cell_type": "code",
   "execution_count": null,
   "id": "1a187c76",
   "metadata": {},
   "outputs": [],
   "source": []
  },
  {
   "cell_type": "code",
   "execution_count": null,
   "id": "48ee3e7e",
   "metadata": {},
   "outputs": [],
   "source": []
  },
  {
   "cell_type": "code",
   "execution_count": null,
   "id": "299daf12",
   "metadata": {},
   "outputs": [],
   "source": []
  },
  {
   "cell_type": "code",
   "execution_count": null,
   "id": "6bf7ba9c",
   "metadata": {},
   "outputs": [],
   "source": []
  },
  {
   "cell_type": "code",
   "execution_count": null,
   "id": "7187b9b9",
   "metadata": {},
   "outputs": [],
   "source": []
  },
  {
   "cell_type": "code",
   "execution_count": null,
   "id": "7be7c56a",
   "metadata": {},
   "outputs": [],
   "source": []
  },
  {
   "cell_type": "code",
   "execution_count": null,
   "id": "beff37da",
   "metadata": {},
   "outputs": [],
   "source": []
  },
  {
   "cell_type": "code",
   "execution_count": null,
   "id": "13ca3902",
   "metadata": {},
   "outputs": [],
   "source": []
  },
  {
   "cell_type": "code",
   "execution_count": null,
   "id": "6b8015ff",
   "metadata": {},
   "outputs": [],
   "source": []
  },
  {
   "cell_type": "code",
   "execution_count": null,
   "id": "c8fb0649",
   "metadata": {},
   "outputs": [],
   "source": []
  },
  {
   "cell_type": "code",
   "execution_count": null,
   "id": "23203c78",
   "metadata": {},
   "outputs": [],
   "source": []
  },
  {
   "cell_type": "code",
   "execution_count": null,
   "id": "3022d30e",
   "metadata": {},
   "outputs": [],
   "source": []
  },
  {
   "cell_type": "code",
   "execution_count": null,
   "id": "37e6f1b9",
   "metadata": {},
   "outputs": [],
   "source": []
  },
  {
   "cell_type": "code",
   "execution_count": null,
   "id": "5e3d5bdd",
   "metadata": {},
   "outputs": [],
   "source": []
  },
  {
   "cell_type": "code",
   "execution_count": null,
   "id": "03ef8cfb",
   "metadata": {},
   "outputs": [],
   "source": []
  },
  {
   "cell_type": "code",
   "execution_count": null,
   "id": "8f11a46b",
   "metadata": {},
   "outputs": [],
   "source": []
  }
 ],
 "metadata": {
  "kernelspec": {
   "display_name": "Python 3",
   "language": "python",
   "name": "python3"
  },
  "language_info": {
   "codemirror_mode": {
    "name": "ipython",
    "version": 3
   },
   "file_extension": ".py",
   "mimetype": "text/x-python",
   "name": "python",
   "nbconvert_exporter": "python",
   "pygments_lexer": "ipython3",
   "version": "3.8.8"
  }
 },
 "nbformat": 4,
 "nbformat_minor": 5
}
