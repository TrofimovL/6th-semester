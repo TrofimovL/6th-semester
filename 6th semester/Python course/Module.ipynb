{
 "cells": [
  {
   "cell_type": "code",
   "execution_count": 1,
   "id": "4b65b5ff",
   "metadata": {},
   "outputs": [],
   "source": [
    "def foot(number):\n",
    "    return number * 0.3048\n",
    "\n",
    "def temp_f(number):\n",
    "    return 9 * number / 5 + 32"
   ]
  }
 ],
 "metadata": {
  "kernelspec": {
   "display_name": "Python 3",
   "language": "python",
   "name": "python3"
  },
  "language_info": {
   "codemirror_mode": {
    "name": "ipython",
    "version": 3
   },
   "file_extension": ".py",
   "mimetype": "text/x-python",
   "name": "python",
   "nbconvert_exporter": "python",
   "pygments_lexer": "ipython3",
   "version": "3.8.8"
  }
 },
 "nbformat": 4,
 "nbformat_minor": 5
}
