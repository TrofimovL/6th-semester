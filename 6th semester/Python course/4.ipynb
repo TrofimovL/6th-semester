{
 "cells": [
  {
   "cell_type": "markdown",
   "id": "48b7ddeb",
   "metadata": {},
   "source": [
    "# 3 лекция"
   ]
  },
  {
   "cell_type": "code",
   "execution_count": 26,
   "id": "32f936e4",
   "metadata": {},
   "outputs": [],
   "source": [
    "from random import *"
   ]
  },
  {
   "cell_type": "code",
   "execution_count": 27,
   "id": "07fb2107",
   "metadata": {},
   "outputs": [],
   "source": [
    "file = open(\"C:/Users/User/Desktop/data.txt\", \"w\")"
   ]
  },
  {
   "cell_type": "code",
   "execution_count": 28,
   "id": "7e09836e",
   "metadata": {
    "scrolled": true
   },
   "outputs": [
    {
     "name": "stdout",
     "output_type": "stream",
     "text": [
      "0.2185563296742581\n",
      "0.44570366292041375\n",
      "0.3488689950198518\n",
      "0.7688962898764359\n",
      "0.15416511522716192\n",
      "0.45210254586183685\n",
      "0.0712383050403601\n",
      "0.014705960501858462\n",
      "0.561282038772647\n",
      "0.43220960653674534\n",
      "0.32133096910105574\n",
      "0.6623108185206168\n",
      "0.6685167074920317\n",
      "0.7112182780273172\n",
      "0.377264244591616\n",
      "0.36699020033302154\n",
      "0.8424711929831029\n",
      "0.12732468981682432\n",
      "0.18219678577659437\n",
      "0.1677051704747604\n",
      "0.3661909692663905\n",
      "0.8486497832923355\n",
      "0.9570225874153423\n",
      "0.6833991469279996\n",
      "0.3865111475912132\n",
      "0.9979514535847601\n",
      "0.36901230929160833\n",
      "0.6264809532773119\n",
      "0.30922480553304077\n",
      "0.10019921612791904\n",
      "0.7741259284858282\n",
      "0.43126443989476804\n",
      "0.428947809770615\n",
      "0.25201971694503045\n",
      "0.8030770721167331\n",
      "0.10624654026266112\n",
      "0.4822433229077312\n",
      "0.8703984697864503\n",
      "0.03471796844216668\n",
      "0.7708335114319362\n",
      "0.27988472047224544\n",
      "0.1510115813761146\n",
      "0.5008825167558274\n",
      "0.6187824264735924\n",
      "0.23593582513324085\n",
      "0.5084287534195024\n",
      "0.44224031937447505\n",
      "0.3479617508386178\n",
      "0.43540892955747756\n",
      "0.36650679897379934\n",
      "0.9054646037454802\n",
      "0.758754079010405\n",
      "0.7711816380173374\n",
      "0.09891005056918722\n",
      "0.27920246082838596\n",
      "0.36500385486658316\n",
      "0.5985823118895596\n",
      "0.004509399124403846\n",
      "0.8047058763089153\n",
      "0.8524654848012707\n",
      "0.4104122287484846\n",
      "0.9169464979082369\n",
      "0.31297256586309863\n",
      "0.3834346676550189\n",
      "0.9412548714087939\n",
      "0.5790810749576695\n",
      "0.5502070709238758\n",
      "0.3805059924262503\n",
      "0.7235520299827196\n",
      "0.3379223661220241\n",
      "0.3847709958676703\n",
      "0.7134276790518178\n",
      "0.3689175456333976\n",
      "0.5440817602691003\n",
      "0.223268629435751\n",
      "0.23635094662221656\n",
      "0.07145650534099157\n",
      "0.13926168986006748\n",
      "0.047582401019254594\n",
      "0.8970277300322324\n",
      "0.05236201917716932\n",
      "0.9342005258318947\n",
      "0.774792473965918\n",
      "0.43231002116449857\n",
      "0.3236774895409984\n",
      "0.8374372106349129\n",
      "0.3267060709019296\n",
      "0.2402456428245725\n",
      "0.9379702918232281\n",
      "0.07560814025968998\n",
      "0.4092589046964896\n",
      "0.725793582021199\n",
      "0.7963127272578525\n",
      "0.04984291025169807\n",
      "0.06005593721360358\n",
      "0.640407235847349\n",
      "0.45087472838192566\n",
      "0.6629703140952723\n",
      "0.29636670939782206\n",
      "0.8289395576126108\n"
     ]
    }
   ],
   "source": [
    "rand = []\n",
    "for i in range(100):\n",
    "    rand.append(str(random()))\n",
    "    print(rand[i])"
   ]
  },
  {
   "cell_type": "code",
   "execution_count": 29,
   "id": "406153c8",
   "metadata": {
    "scrolled": true
   },
   "outputs": [
    {
     "name": "stdout",
     "output_type": "stream",
     "text": [
      "0.2185563296742581 | 0.44570366292041375 | 0.3488689950198518 | 0.7688962898764359 | 0.15416511522716192 | 0.45210254586183685 | 0.0712383050403601 | 0.014705960501858462 | 0.561282038772647 | 0.43220960653674534 | 0.32133096910105574 | 0.6623108185206168 | 0.6685167074920317 | 0.7112182780273172 | 0.377264244591616 | 0.36699020033302154 | 0.8424711929831029 | 0.12732468981682432 | 0.18219678577659437 | 0.1677051704747604 | 0.3661909692663905 | 0.8486497832923355 | 0.9570225874153423 | 0.6833991469279996 | 0.3865111475912132 | 0.9979514535847601 | 0.36901230929160833 | 0.6264809532773119 | 0.30922480553304077 | 0.10019921612791904 | 0.7741259284858282 | 0.43126443989476804 | 0.428947809770615 | 0.25201971694503045 | 0.8030770721167331 | 0.10624654026266112 | 0.4822433229077312 | 0.8703984697864503 | 0.03471796844216668 | 0.7708335114319362 | 0.27988472047224544 | 0.1510115813761146 | 0.5008825167558274 | 0.6187824264735924 | 0.23593582513324085 | 0.5084287534195024 | 0.44224031937447505 | 0.3479617508386178 | 0.43540892955747756 | 0.36650679897379934 | 0.9054646037454802 | 0.758754079010405 | 0.7711816380173374 | 0.09891005056918722 | 0.27920246082838596 | 0.36500385486658316 | 0.5985823118895596 | 0.004509399124403846 | 0.8047058763089153 | 0.8524654848012707 | 0.4104122287484846 | 0.9169464979082369 | 0.31297256586309863 | 0.3834346676550189 | 0.9412548714087939 | 0.5790810749576695 | 0.5502070709238758 | 0.3805059924262503 | 0.7235520299827196 | 0.3379223661220241 | 0.3847709958676703 | 0.7134276790518178 | 0.3689175456333976 | 0.5440817602691003 | 0.223268629435751 | 0.23635094662221656 | 0.07145650534099157 | 0.13926168986006748 | 0.047582401019254594 | 0.8970277300322324 | 0.05236201917716932 | 0.9342005258318947 | 0.774792473965918 | 0.43231002116449857 | 0.3236774895409984 | 0.8374372106349129 | 0.3267060709019296 | 0.2402456428245725 | 0.9379702918232281 | 0.07560814025968998 | 0.4092589046964896 | 0.725793582021199 | 0.7963127272578525 | 0.04984291025169807 | 0.06005593721360358 | 0.640407235847349 | 0.45087472838192566 | 0.6629703140952723 | 0.29636670939782206 | 0.8289395576126108\n"
     ]
    }
   ],
   "source": [
    "print(' | '.join(rand))"
   ]
  },
  {
   "cell_type": "code",
   "execution_count": 30,
   "id": "60dedd8a",
   "metadata": {},
   "outputs": [
    {
     "data": {
      "text/plain": [
       "2129"
      ]
     },
     "execution_count": 30,
     "metadata": {},
     "output_type": "execute_result"
    }
   ],
   "source": [
    "add = ' |\\n'.join(rand)\n",
    "file.write(add)"
   ]
  },
  {
   "cell_type": "code",
   "execution_count": 31,
   "id": "d4f9a1c8",
   "metadata": {},
   "outputs": [
    {
     "name": "stdout",
     "output_type": "stream",
     "text": [
      "0.2185563296742581 |\n",
      "0.44570366292041375 |\n",
      "0.3488689950198518 |\n",
      "0.7688962898764359 |\n",
      "0.15416511522716192 |\n",
      "0.45210254586183685 |\n",
      "0.0712383050403601 |\n",
      "0.014705960501858462 |\n",
      "0.561282038772647 |\n",
      "0.43220960653674534 |\n",
      "0.32133096910105574 |\n",
      "0.6623108185206168 |\n",
      "0.6685167074920317 |\n",
      "0.7112182780273172 |\n",
      "0.377264244591616 |\n",
      "0.36699020033302154 |\n",
      "0.8424711929831029 |\n",
      "0.12732468981682432 |\n",
      "0.18219678577659437 |\n",
      "0.1677051704747604 |\n",
      "0.3661909692663905 |\n",
      "0.8486497832923355 |\n",
      "0.9570225874153423 |\n",
      "0.6833991469279996 |\n",
      "0.3865111475912132 |\n",
      "0.9979514535847601 |\n",
      "0.36901230929160833 |\n",
      "0.6264809532773119 |\n",
      "0.30922480553304077 |\n",
      "0.10019921612791904 |\n",
      "0.7741259284858282 |\n",
      "0.43126443989476804 |\n",
      "0.428947809770615 |\n",
      "0.25201971694503045 |\n",
      "0.8030770721167331 |\n",
      "0.10624654026266112 |\n",
      "0.4822433229077312 |\n",
      "0.8703984697864503 |\n",
      "0.03471796844216668 |\n",
      "0.7708335114319362 |\n",
      "0.27988472047224544 |\n",
      "0.1510115813761146 |\n",
      "0.5008825167558274 |\n",
      "0.6187824264735924 |\n",
      "0.23593582513324085 |\n",
      "0.5084287534195024 |\n",
      "0.44224031937447505 |\n",
      "0.3479617508386178 |\n",
      "0.43540892955747756 |\n",
      "0.36650679897379934 |\n",
      "0.9054646037454802 |\n",
      "0.758754079010405 |\n",
      "0.7711816380173374 |\n",
      "0.09891005056918722 |\n",
      "0.27920246082838596 |\n",
      "0.36500385486658316 |\n",
      "0.5985823118895596 |\n",
      "0.004509399124403846 |\n",
      "0.8047058763089153 |\n",
      "0.8524654848012707 |\n",
      "0.4104122287484846 |\n",
      "0.9169464979082369 |\n",
      "0.31297256586309863 |\n",
      "0.3834346676550189 |\n",
      "0.9412548714087939 |\n",
      "0.5790810749576695 |\n",
      "0.5502070709238758 |\n",
      "0.3805059924262503 |\n",
      "0.7235520299827196 |\n",
      "0.3379223661220241 |\n",
      "0.3847709958676703 |\n",
      "0.7134276790518178 |\n",
      "0.3689175456333976 |\n",
      "0.5440817602691003 |\n",
      "0.223268629435751 |\n",
      "0.23635094662221656 |\n",
      "0.07145650534099157 |\n",
      "0.13926168986006748 |\n",
      "0.047582401019254594 |\n",
      "0.8970277300322324 |\n",
      "0.05236201917716932 |\n",
      "0.9342005258318947 |\n",
      "0.774792473965918 |\n",
      "0.43231002116449857 |\n",
      "0.3236774895409984 |\n",
      "0.8374372106349129 |\n",
      "0.3267060709019296 |\n",
      "0.2402456428245725 |\n",
      "0.9379702918232281 |\n",
      "0.07560814025968998 |\n",
      "0.4092589046964896 |\n",
      "0.725793582021199 |\n",
      "0.7963127272578525 |\n",
      "0.04984291025169807 |\n",
      "0.06005593721360358 |\n",
      "0.640407235847349 |\n",
      "0.45087472838192566 |\n",
      "0.6629703140952723 |\n",
      "0.29636670939782206 |\n",
      "0.8289395576126108\n"
     ]
    }
   ],
   "source": [
    "print(add)"
   ]
  },
  {
   "cell_type": "markdown",
   "id": "fe8aa749",
   "metadata": {},
   "source": [
    "# Множества"
   ]
  },
  {
   "cell_type": "code",
   "execution_count": 38,
   "id": "5b260056",
   "metadata": {},
   "outputs": [
    {
     "name": "stdout",
     "output_type": "stream",
     "text": [
      "{'Король', 'Валет', 'Туз'}\n"
     ]
    }
   ],
   "source": [
    "cards1 = {\"Король\",\"Дама\",\"Туз\", \"Валет\", \"Туз\"}\n",
    "cards2 = {\"Король\",\"Десятка\",\"Туз\", \"Валет\", \"Джокер\"}\n",
    "cards3 = cards1.intersection(cards2)\n",
    "print(cards3)"
   ]
  },
  {
   "cell_type": "code",
   "execution_count": 39,
   "id": "f875db94",
   "metadata": {},
   "outputs": [
    {
     "name": "stdout",
     "output_type": "stream",
     "text": [
      "{'Король', 'Валет', 'Туз'}\n",
      "True\n",
      "False\n"
     ]
    }
   ],
   "source": [
    "print(cards1 & cards2) # Выдаст то же самое.\n",
    "cards3 = cards1.difference(cards2)\n",
    "\n",
    "print(cards3.issubset(cards1)) \n",
    "print(cards3.issuperset(cards1))"
   ]
  },
  {
   "cell_type": "markdown",
   "id": "6e11d328",
   "metadata": {},
   "source": [
    "# Генераторы списков"
   ]
  },
  {
   "cell_type": "code",
   "execution_count": 41,
   "id": "8b89c3e2",
   "metadata": {},
   "outputs": [
    {
     "name": "stdout",
     "output_type": "stream",
     "text": [
      "[1, 3, 5, 7, 9, 11, 13, 15, 17, 19, 21, 23]\n"
     ]
    }
   ],
   "source": [
    "print(list(range(1, 25, 2)))\n"
   ]
  },
  {
   "cell_type": "code",
   "execution_count": 42,
   "id": "c690a094",
   "metadata": {},
   "outputs": [
    {
     "name": "stdout",
     "output_type": "stream",
     "text": [
      "[1, 3, 5, 7, 9, 11, 13, 15, 17, 19, 21, 23]\n"
     ]
    }
   ],
   "source": [
    "print([x for x in range(1, 25, 2)])\n"
   ]
  },
  {
   "cell_type": "code",
   "execution_count": 43,
   "id": "8e3b3905",
   "metadata": {},
   "outputs": [
    {
     "name": "stdout",
     "output_type": "stream",
     "text": [
      "[1, 25, 49, 121, 169, 289, 361, 529]\n"
     ]
    }
   ],
   "source": [
    "print([x**2 for x in range(1, 25, 2) if x % 3 != 0])"
   ]
  },
  {
   "cell_type": "markdown",
   "id": "3b5f018f",
   "metadata": {},
   "source": [
    "# Объектно-оринтированное программирование"
   ]
  },
  {
   "cell_type": "markdown",
   "id": "dfb9f11c",
   "metadata": {},
   "source": [
    "# Инкапсуляция"
   ]
  },
  {
   "cell_type": "code",
   "execution_count": 146,
   "id": "354a9414",
   "metadata": {},
   "outputs": [],
   "source": [
    "class Particle:\n",
    "    name = 'Частица'\n",
    "    charge = 0\n",
    "#     def __init__(self, name, charge):\n",
    "#         self.name = name # устанавливаем атрибут класса: имя частицы\n",
    "#         self.charge = charge # устанавливаем атрибут класса: заряд\n",
    "    def __init__(self, name, charge):\n",
    "        self.__name = name # устанавливаем имя частицы\n",
    "        self.__charge = charge # устанавливаем заряд\n",
    "    def get_charge(self):\n",
    "        return self.__charge\n",
    "    @property # Нужно, чтобы использовать имя в подклассе\n",
    "    def charge(self):\n",
    "        return self.__charge\n",
    "    @charge.setter\n",
    "    def charge(self, value):\n",
    "        if value in range(-2, 2):\n",
    "            self.__charge = value\n",
    "        else:\n",
    "            print(\"Недопустимый заряд!\")\n",
    "    def display_info(self):\n",
    "        print(\"Эта частица - \", self.name, \"\\nЕё заряд: \", self.charge)\n",
    "    def __del__(self):\n",
    "        print(self.name,\"удален из памяти\")\n",
    "\n",
    "        "
   ]
  },
  {
   "cell_type": "code",
   "execution_count": 149,
   "id": "029033c1",
   "metadata": {},
   "outputs": [
    {
     "name": "stdout",
     "output_type": "stream",
     "text": [
      "Частица удален из памяти\n",
      "Эта частица -  Электрон \n",
      "Её заряд:  -1\n",
      "Эта частица -  Электрон \n",
      "Её заряд:  -1\n"
     ]
    }
   ],
   "source": [
    "particle1 = Particle(\"Электрон\", -1)\n",
    "particle1.name = 'Электрон'\n",
    "particle1.display_info()\n",
    "\n",
    "particle1.__name = \"Протон\" # Это ничего не сможет изменить\n",
    "particle1.display_info() "
   ]
  },
  {
   "cell_type": "code",
   "execution_count": 148,
   "id": "b7e09b70",
   "metadata": {},
   "outputs": [
    {
     "name": "stdout",
     "output_type": "stream",
     "text": [
      "Частица удален из памяти\n",
      "-1\n",
      "1\n"
     ]
    }
   ],
   "source": [
    "particle1 = Particle(\"Электрон\", -1)\n",
    "print(particle1.charge)\n",
    "particle1.charge=1\n",
    "print(particle1.charge)\n"
   ]
  },
  {
   "cell_type": "markdown",
   "id": "79444f99",
   "metadata": {},
   "source": [
    "# Наследование"
   ]
  },
  {
   "cell_type": "code",
   "execution_count": 156,
   "id": "08266908",
   "metadata": {},
   "outputs": [],
   "source": [
    "class Particle:\n",
    "    name = 'Частица'\n",
    "    charge = 0\n",
    "    def display_info(self):\n",
    "        print(\"Эта частица - \", self.name)\n",
    "    def __init__(self, name, charge):\n",
    "        self.name = name # устанавливаем атрибут класса: имя частицы\n",
    "        self.charge = charge # устанавливаем атрибут класса: заряд\n",
    "#     def __init__(self, charge, name):\n",
    "#         self.__name = name # устанавливаем имя частицы\n",
    "#         self.__charge = charge # устанавливаем заряд\n",
    "    def get_charge(self):\n",
    "        return self.__charge\n",
    "    @property # Нужно, чтобы использовать имя в подклассе\n",
    "    def charge(self):\n",
    "        return self.__charge\n",
    "    @charge.setter\n",
    "    def charge(self, value):\n",
    "        if value in range(-2, 2):\n",
    "            self.__charge = value\n",
    "        else:\n",
    "            print(\"Недопустимый заряд!\")\n",
    "    def display_info(self):\n",
    "        print(\"Эта частица - \", self.name, \"\\nЕё заряд: \", self.charge)\n",
    "    def __del__(self):\n",
    "        print(self.name,\"удален из памяти\")\n"
   ]
  },
  {
   "cell_type": "code",
   "execution_count": 157,
   "id": "8339c904",
   "metadata": {},
   "outputs": [],
   "source": [
    "class Boson(Particle): # Так реализовано наследование в Python\n",
    "    def details(self, interraction):\n",
    "        print(self.name, \"переносит\", interraction, \"взаимодействие.\") "
   ]
  },
  {
   "cell_type": "code",
   "execution_count": 158,
   "id": "9dd9661a",
   "metadata": {},
   "outputs": [
    {
     "name": "stdout",
     "output_type": "stream",
     "text": [
      "Глюон удален из памяти\n",
      "Глюон переносит сильное взаимодействие.\n"
     ]
    }
   ],
   "source": [
    "particle2 = Boson(\"Глюон\", 0)\n",
    "particle2.details(\"сильное\")"
   ]
  },
  {
   "cell_type": "markdown",
   "id": "a972caa5",
   "metadata": {},
   "source": [
    "# Полиморфизм"
   ]
  },
  {
   "cell_type": "code",
   "execution_count": 89,
   "id": "392ce3de",
   "metadata": {},
   "outputs": [],
   "source": [
    "class Particle:\n",
    "    name = 'Частица'\n",
    "    charge = 0\n",
    "    def display_info(self):\n",
    "        print(\"Эта частица - \", self.name)\n",
    "    def __init__(self, name, charge):\n",
    "        self.name = name # устанавливаем атрибут класса: имя частицы\n",
    "        self.charge = charge # устанавливаем атрибут класса: заряд\n",
    "#     def __init__(self, name, charge):\n",
    "#         self.__name = name # устанавливаем имя частицы\n",
    "#         self.__charge = charge # устанавливаем заряд\n",
    "    def get_charge(self):\n",
    "        return self.__charge\n",
    "    @property # Нужно, чтобы использовать имя в подклассе\n",
    "    def charge(self):\n",
    "        return self.__charge\n",
    "    @charge.setter\n",
    "    def charge(self, value):\n",
    "        if value in range(-2, 2):\n",
    "            self.__charge = value\n",
    "        else:\n",
    "            print(\"Недопустимый заряд!\")\n",
    "    def display_info(self):\n",
    "        print(\"Эта частица - \", self.name, \"\\nЕё заряд: \", self.charge)\n",
    "    def __del__(self):\n",
    "        print(self.name,\"удален из памяти\")"
   ]
  },
  {
   "cell_type": "code",
   "execution_count": 90,
   "id": "2bf419e5",
   "metadata": {},
   "outputs": [],
   "source": [
    "class Boson(Particle): # Так реализовано наследование в Python\n",
    "    def details(self, interraction):\n",
    "        print(self.name, \"переносит\", interraction, \"взаимодействие.\") \n",
    "    def __init__(self, name, charge, interraction):\n",
    "        Particle.__init__(self, name, charge)\n",
    "        self.interraction = interraction\n",
    "    def display_info(self):\n",
    "        Particle.display_info(self)\n",
    "        print(\"Это бозон, переносящий\", self.interraction, \"взаимодействие.\")"
   ]
  },
  {
   "cell_type": "code",
   "execution_count": 91,
   "id": "c22e7ffa",
   "metadata": {},
   "outputs": [],
   "source": [
    "class Fermion(Particle):\n",
    "# определение конструктора\n",
    "    def __init__(self, name, charge, is_stable):\n",
    "        Particle.__init__(self, name, charge)\n",
    "        self.is_stable = is_stable\n",
    "# переопределение метода display_info\n",
    "    def display_info(self):\n",
    "        Particle.display_info(self)\n",
    "        print(\"Это фермион.\")\n",
    "        if self.is_stable:\n",
    "            print(\"И он стабилен.\")\n",
    "        else:\n",
    "            print(\"И он нестабилен.\")"
   ]
  },
  {
   "cell_type": "code",
   "execution_count": 92,
   "id": "46f6e017",
   "metadata": {},
   "outputs": [
    {
     "name": "stdout",
     "output_type": "stream",
     "text": [
      "Глюон удален из памяти\n",
      "Электрон удален из памяти\n"
     ]
    }
   ],
   "source": [
    "particle = [Particle(\"Электрон\", -1), Boson(\"Глюон\", 0, \"сильное\"), \n",
    "Fermion(\"Протон\", +1, True)]"
   ]
  },
  {
   "cell_type": "code",
   "execution_count": 93,
   "id": "aca145e6",
   "metadata": {},
   "outputs": [
    {
     "name": "stdout",
     "output_type": "stream",
     "text": [
      "Протон удален из памяти\n",
      "Эта частица -  Электрон \n",
      "Её заряд:  -1\n",
      "\n",
      "Эта частица -  Глюон \n",
      "Её заряд:  0\n",
      "Это бозон, переносящий сильное взаимодействие.\n",
      "\n",
      "Эта частица -  Протон \n",
      "Её заряд:  1\n",
      "Это фермион.\n",
      "И он стабилен.\n",
      "\n"
     ]
    }
   ],
   "source": [
    "for part in particle:\n",
    "    part.display_info()\n",
    "    print() "
   ]
  },
  {
   "cell_type": "code",
   "execution_count": 95,
   "id": "60968832",
   "metadata": {},
   "outputs": [
    {
     "name": "stdout",
     "output_type": "stream",
     "text": [
      "Электрон\n",
      "\n",
      "сильное\n",
      "Стабилен\n"
     ]
    }
   ],
   "source": [
    "for part in particle:\n",
    "    if isinstance(part, Boson):\n",
    "        print(part.interraction)\n",
    "    elif isinstance(part, Fermion):\n",
    "        if part.is_stable:\n",
    "            print(\"Стабилен\")\n",
    "    else:\n",
    "        print(part.name)\n",
    "        print()"
   ]
  },
  {
   "cell_type": "markdown",
   "id": "55306938",
   "metadata": {},
   "source": [
    "# Свой класс"
   ]
  },
  {
   "cell_type": "code",
   "execution_count": 99,
   "id": "585dcb70",
   "metadata": {},
   "outputs": [],
   "source": [
    "class something:\n",
    "    name = 'meow'\n",
    "    characteristic_1 = 0\n",
    "    def display_name(self):\n",
    "        print('The name of this is ' + self.name)\n",
    "    def __init__(self, name, characteristic_1):\n",
    "        self.name = name\n",
    "        self.characteristic_1 = characteristic_1\n",
    "    def info(self):\n",
    "        print('Name is ' + self.name)\n",
    "        print('1st characteristic is ' + str(self.characteristic_1))\n",
    "        "
   ]
  },
  {
   "cell_type": "code",
   "execution_count": 100,
   "id": "878dad62",
   "metadata": {},
   "outputs": [
    {
     "name": "stdout",
     "output_type": "stream",
     "text": [
      "Name is aaaaaaaaaaa\n",
      "1st characteristic is 23456789\n"
     ]
    }
   ],
   "source": [
    "abc = something('aaaaaaaaaaa', 23456789)\n",
    "abc.info()"
   ]
  },
  {
   "cell_type": "code",
   "execution_count": null,
   "id": "e3fc34f6",
   "metadata": {},
   "outputs": [],
   "source": []
  },
  {
   "cell_type": "code",
   "execution_count": null,
   "id": "3a5a872c",
   "metadata": {},
   "outputs": [],
   "source": []
  },
  {
   "cell_type": "code",
   "execution_count": null,
   "id": "fd0607a3",
   "metadata": {},
   "outputs": [],
   "source": []
  },
  {
   "cell_type": "code",
   "execution_count": null,
   "id": "fbb8944d",
   "metadata": {},
   "outputs": [],
   "source": []
  },
  {
   "cell_type": "code",
   "execution_count": null,
   "id": "b0290408",
   "metadata": {},
   "outputs": [],
   "source": []
  }
 ],
 "metadata": {
  "kernelspec": {
   "display_name": "Python 3",
   "language": "python",
   "name": "python3"
  },
  "language_info": {
   "codemirror_mode": {
    "name": "ipython",
    "version": 3
   },
   "file_extension": ".py",
   "mimetype": "text/x-python",
   "name": "python",
   "nbconvert_exporter": "python",
   "pygments_lexer": "ipython3",
   "version": "3.8.8"
  }
 },
 "nbformat": 4,
 "nbformat_minor": 5
}
