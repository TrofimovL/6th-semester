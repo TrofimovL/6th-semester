{
 "cells": [
  {
   "cell_type": "code",
   "execution_count": 28,
   "id": "d335294c",
   "metadata": {},
   "outputs": [
    {
     "name": "stdout",
     "output_type": "stream",
     "text": [
      "['a', 5]\n"
     ]
    }
   ],
   "source": [
    "new = []\n",
    "new.append(\"a\")\n",
    "new.append(5)\n",
    "print(new)"
   ]
  },
  {
   "cell_type": "code",
   "execution_count": 29,
   "id": "2af824b2",
   "metadata": {},
   "outputs": [
    {
     "name": "stdout",
     "output_type": "stream",
     "text": [
      "[5, 4, 8, 1, 'a']\n"
     ]
    }
   ],
   "source": [
    "new = [5, 4] + [8, 1]\n",
    "new.append('a')\n",
    "print(new)"
   ]
  },
  {
   "cell_type": "code",
   "execution_count": 30,
   "id": "9696203a",
   "metadata": {},
   "outputs": [
    {
     "name": "stdout",
     "output_type": "stream",
     "text": [
      "Detected\n"
     ]
    }
   ],
   "source": [
    "if 'a' in new:\n",
    "    print('Detected')"
   ]
  },
  {
   "cell_type": "code",
   "execution_count": 31,
   "id": "57f7630b",
   "metadata": {},
   "outputs": [
    {
     "name": "stdout",
     "output_type": "stream",
     "text": [
      "[5, 4, 8, 1, 'a', {3: 5, 5: 6}]\n"
     ]
    }
   ],
   "source": [
    "d = {3:5, 5:6}\n",
    "new.append(d)\n",
    "print(new)"
   ]
  },
  {
   "cell_type": "code",
   "execution_count": 32,
   "id": "a21acb0d",
   "metadata": {},
   "outputs": [
    {
     "name": "stdout",
     "output_type": "stream",
     "text": [
      "[5, 4, 1, 'a', {3: 5, 5: 6}]\n"
     ]
    }
   ],
   "source": [
    "del new[2]\n",
    "print(new)"
   ]
  },
  {
   "cell_type": "code",
   "execution_count": 33,
   "id": "3a17cfe8",
   "metadata": {},
   "outputs": [
    {
     "name": "stdout",
     "output_type": "stream",
     "text": [
      "[111, 5, 4, 1, 'a', {3: 5, 5: 6}]\n"
     ]
    }
   ],
   "source": [
    "new.insert(0,111)\n",
    "print(new)"
   ]
  },
  {
   "cell_type": "code",
   "execution_count": 37,
   "id": "f45dfca0",
   "metadata": {},
   "outputs": [
    {
     "name": "stdout",
     "output_type": "stream",
     "text": [
      "[{3: 5, 5: 6}, 'a', 1, 4, 5, 111]\n"
     ]
    }
   ],
   "source": [
    "new.reverse()\n",
    "print(new)"
   ]
  },
  {
   "cell_type": "markdown",
   "id": "540d0ade",
   "metadata": {},
   "source": [
    "# Вывести все чётные элементы"
   ]
  },
  {
   "cell_type": "code",
   "execution_count": 40,
   "id": "b378d61a",
   "metadata": {},
   "outputs": [
    {
     "name": "stdout",
     "output_type": "stream",
     "text": [
      "2\n",
      "4\n",
      "4\n",
      "44\n"
     ]
    }
   ],
   "source": [
    "list1=[1, 2, 3, 5, 4, 4, 35, 44, 79, 91]\n",
    "\n",
    "for number in list1:\n",
    "    if number%2 ==0:\n",
    "        print(number)"
   ]
  },
  {
   "cell_type": "markdown",
   "id": "e3f08e6f",
   "metadata": {},
   "source": [
    "# Список общих элементов\n",
    "\n",
    "Создать вспомогательный список\n",
    "\n",
    "Continue\n",
    "\n",
    "Set"
   ]
  },
  {
   "cell_type": "code",
   "execution_count": 50,
   "id": "c233a8f0",
   "metadata": {},
   "outputs": [
    {
     "name": "stdout",
     "output_type": "stream",
     "text": [
      "1\n",
      "3\n",
      "5\n",
      "44\n"
     ]
    }
   ],
   "source": [
    "list2=[1, 2, 3, 5, 4, 4, 35, 44, 79, 91]\n",
    "list3=[1, 3, 5, 5, 13, 27, 44, 59, 61, 88]\n",
    "\n",
    "common = []\n",
    "\n",
    "for num2 in list2:\n",
    "    for num3 in list3:\n",
    "        if num2 == num3 and (num2 not in common) :\n",
    "            common.append(num2)\n",
    "            print(num2)"
   ]
  },
  {
   "cell_type": "code",
   "execution_count": 51,
   "id": "a5d03a6a",
   "metadata": {},
   "outputs": [
    {
     "name": "stdout",
     "output_type": "stream",
     "text": [
      "{1, 2, 3}\n"
     ]
    }
   ],
   "source": [
    "list2=[1, 2, 3, 5, 4, 4, 35, 44, 79, 91]\n",
    "list3=[1, 3, 5, 5, 13, 27, 44, 59, 61, 88]\n",
    "\n",
    "meow = {1, 2, 3}\n",
    "print(meow)"
   ]
  },
  {
   "cell_type": "code",
   "execution_count": null,
   "id": "625b0358",
   "metadata": {},
   "outputs": [],
   "source": []
  },
  {
   "cell_type": "code",
   "execution_count": 53,
   "id": "0f4458e0",
   "metadata": {},
   "outputs": [
    {
     "name": "stdout",
     "output_type": "stream",
     "text": [
      "[0, 1, 2, 3, 4, 5, 6, 7, 8, 9, 10, 11, 12, 13, 14, 15, 16, 17, 18, 19, 20, 21, 22, 23, 24, 25, 26, 27, 28, 29, 30, 31, 32, 33, 34, 35, 36, 37, 38, 39, 40, 41, 42, 43, 44, 45, 46, 47, 48, 49, 50, 51, 52, 53, 54, 55, 56, 57, 58, 59, 60, 61, 62, 63, 64, 65, 66, 67, 68, 69, 70, 71, 72, 73, 74, 75, 76, 77, 78, 79, 80, 81, 82, 83, 84, 85, 86, 87, 88, 89, 90, 91, 92, 93, 94, 95, 96, 97, 98, 99]\n"
     ]
    }
   ],
   "source": [
    "meow = list(range(100))\n",
    "print(meow)"
   ]
  },
  {
   "cell_type": "markdown",
   "id": "b454b3f8",
   "metadata": {},
   "source": [
    "# Заполнить массив для графика"
   ]
  },
  {
   "cell_type": "code",
   "execution_count": 62,
   "id": "c5f9b62a",
   "metadata": {},
   "outputs": [
    {
     "name": "stdout",
     "output_type": "stream",
     "text": [
      "X [0, 5, 10, 15, 20, 25, 30, 35, 40, 45, 50, 55, 60, 65, 70, 75, 80, 85, 90, 95, 100]\n",
      "Y [2, 12, 72, 182, 342, 552, 812, 1122, 1482, 1892, 2352, 2862, 3422, 4032, 4692, 5402, 6162, 6972, 7832, 8742, 9702]\n",
      "\n",
      "Result :\n",
      "{0: 2, 5: 12, 10: 72, 15: 182, 20: 342, 25: 552, 30: 812, 35: 1122, 40: 1482, 45: 1892, 50: 2352, 55: 2862, 60: 3422, 65: 4032, 70: 4692, 75: 5402, 80: 6162, 85: 6972, 90: 7832, 95: 8742, 100: 9702}\n"
     ]
    }
   ],
   "source": [
    "x = []\n",
    "for i in range(21):\n",
    "    x.append(i*5)\n",
    "print('X ' + str(x))\n",
    "\n",
    "y = []\n",
    "for i in range(21):\n",
    "    y.append(x[i]*x[i] - 3*x[i] + 2)\n",
    "print('Y ' + str(y))\n",
    "\n",
    "result = {}\n",
    "for i in range(21):\n",
    "    result[x[i]] = y[i]\n",
    "print('\\nResult :\\n' + str(result))"
   ]
  },
  {
   "cell_type": "markdown",
   "id": "65146540",
   "metadata": {},
   "source": [
    "# Сумма натуральных кратных чисел"
   ]
  },
  {
   "cell_type": "code",
   "execution_count": 68,
   "id": "881182a8",
   "metadata": {},
   "outputs": [
    {
     "name": "stdout",
     "output_type": "stream",
     "text": [
      "233168\n"
     ]
    }
   ],
   "source": [
    "list3 = []\n",
    "list5 = []\n",
    "\n",
    "List = []\n",
    "\n",
    "for i in range(3, 1000, 3): # меньше 1000\n",
    "    list3.append(i)\n",
    "    \n",
    "for i in range(5, 1000, 5):\n",
    "    if i%3 ==0:\n",
    "        continue\n",
    "    list5.append(i)\n",
    "    \n",
    "print(sum(list3) + sum(list5))"
   ]
  },
  {
   "cell_type": "markdown",
   "id": "05319191",
   "metadata": {},
   "source": [
    "# Числа Фибоначи"
   ]
  },
  {
   "cell_type": "code",
   "execution_count": 93,
   "id": "23515af6",
   "metadata": {},
   "outputs": [
    {
     "name": "stdout",
     "output_type": "stream",
     "text": [
      "ALL [1, 2, 3, 5, 8, 13, 21, 34, 55, 89, 144, 233, 377, 610, 987, 1597, 2584, 4181, 6765, 10946, 17711, 28657, 46368, 75025, 121393, 196418, 317811, 514229, 832040, 1346269, 2178309, 3524578]\n",
      "\n",
      "SUM 4613730\n"
     ]
    }
   ],
   "source": [
    "num = [1, 2]\n",
    "count = 1\n",
    "summ = 0\n",
    "\n",
    "MAX = 4*10**6\n",
    "\n",
    "while(num[-1] < MAX):\n",
    "    if num[count] + num[count-1] > MAX:\n",
    "        break\n",
    "    num.append(num[count] + num[count-1])\n",
    "    count += 1\n",
    "    \n",
    "    if num[count]%2 ==0:\n",
    "        summ += num[count]\n",
    "    \n",
    "print('ALL ' + str(num))\n",
    "print('\\nSUM ' + str(summ))"
   ]
  },
  {
   "cell_type": "code",
   "execution_count": 98,
   "id": "27a48b3d",
   "metadata": {},
   "outputs": [
    {
     "name": "stdout",
     "output_type": "stream",
     "text": [
      "\n",
      "    Documentation:\n",
      "    ljdsjgdsgdsg\n",
      "    \n"
     ]
    }
   ],
   "source": [
    "def yy():\n",
    "    '''\n",
    "    Documentation:\n",
    "    ljdsjgdsgdsg\n",
    "    '''\n",
    "print(yy.__doc__)"
   ]
  },
  {
   "cell_type": "code",
   "execution_count": 165,
   "id": "ffb6380f",
   "metadata": {},
   "outputs": [
    {
     "name": "stdout",
     "output_type": "stream",
     "text": [
      "0.18617355156395365\n"
     ]
    }
   ],
   "source": [
    "from random import *\n",
    "print(random())"
   ]
  },
  {
   "cell_type": "code",
   "execution_count": 166,
   "id": "0fd37cf9",
   "metadata": {},
   "outputs": [
    {
     "name": "stdout",
     "output_type": "stream",
     "text": [
      "3.141592653589793\n"
     ]
    }
   ],
   "source": [
    "import math\n",
    "print(math.pi)"
   ]
  },
  {
   "cell_type": "code",
   "execution_count": 178,
   "id": "d48086f4",
   "metadata": {},
   "outputs": [
    {
     "name": "stdout",
     "output_type": "stream",
     "text": [
      "Сегодняшняя дата: 2022-04-14, время:13:22:05.829699\n"
     ]
    }
   ],
   "source": [
    "from datetime import datetime\n",
    "now = datetime.now()\n",
    "print(\"Сегодняшняя дата: \" + str(now.date()) + \", время:\" + str(now.time()))"
   ]
  },
  {
   "cell_type": "markdown",
   "id": "f03223c3",
   "metadata": {},
   "source": [
    "# Модуль"
   ]
  },
  {
   "cell_type": "code",
   "execution_count": 187,
   "id": "4da5a122",
   "metadata": {},
   "outputs": [
    {
     "name": "stdout",
     "output_type": "stream",
     "text": [
      "Requirement already satisfied: pyowm in c:\\users\\user\\anaconda3\\lib\\site-packages (3.3.0)\n",
      "Requirement already satisfied: requests[socks] in c:\\users\\user\\anaconda3\\lib\\site-packages (from pyowm) (2.25.1)\n",
      "Requirement already satisfied: geojson<3,>=2.3.0 in c:\\users\\user\\anaconda3\\lib\\site-packages (from pyowm) (2.5.0)\n",
      "Requirement already satisfied: PySocks<2,>=1.7.1 in c:\\users\\user\\anaconda3\\lib\\site-packages (from pyowm) (1.7.1)\n",
      "Requirement already satisfied: certifi>=2017.4.17 in c:\\users\\user\\anaconda3\\lib\\site-packages (from requests[socks]->pyowm) (2020.12.5)\n",
      "Requirement already satisfied: idna<3,>=2.5 in c:\\users\\user\\anaconda3\\lib\\site-packages (from requests[socks]->pyowm) (2.10)\n",
      "Requirement already satisfied: chardet<5,>=3.0.2 in c:\\users\\user\\anaconda3\\lib\\site-packages (from requests[socks]->pyowm) (4.0.0)\n",
      "Requirement already satisfied: urllib3<1.27,>=1.21.1 in c:\\users\\user\\anaconda3\\lib\\site-packages (from requests[socks]->pyowm) (1.26.4)\n",
      "Note: you may need to restart the kernel to use updated packages.\n"
     ]
    }
   ],
   "source": [
    "pip install pyowm"
   ]
  },
  {
   "cell_type": "code",
   "execution_count": 204,
   "id": "3414177b",
   "metadata": {},
   "outputs": [
    {
     "name": "stdout",
     "output_type": "stream",
     "text": [
      "Введите город: Moscow\n",
      "Температура: 10.04\n",
      "Также в этом городе scattered clouds\n"
     ]
    }
   ],
   "source": [
    "import pyowm\n",
    "owm = pyowm.OWM('6d00d1d4e704068d70191bad2673e0cc')\n",
    "mgr = owm.weather_manager()\n",
    "city=input(\"Введите город: \")\n",
    "observation = mgr.weather_at_place(city)\n",
    "w = observation.weather\n",
    "print(\"Температура: \" + str(w.temperature('celsius')['temp']) ) \n",
    "print(\"Также в этом городе \"+w.detailed_status)"
   ]
  },
  {
   "cell_type": "code",
   "execution_count": 203,
   "id": "9547baa6",
   "metadata": {},
   "outputs": [
    {
     "name": "stdout",
     "output_type": "stream",
     "text": [
      "Input city name: Москва\n",
      "scattered clouds\n",
      "{'temp': 10.04, 'temp_max': 11.1, 'temp_min': 9.24, 'feels_like': 8.38, 'temp_kf': None}\n",
      "{'speed': 4.12, 'deg': 3, 'gust': 4.96}\n"
     ]
    }
   ],
   "source": [
    "from pyowm import OWM\n",
    "from pyowm.utils import config\n",
    "from pyowm.utils import timestamps\n",
    "\n",
    "# ---------- FREE API KEY examples ---------------------\n",
    "\n",
    "owm = OWM('6d00d1d4e704068d70191bad2673e0cc')\n",
    "mgr = owm.weather_manager()\n",
    "\n",
    "city=input(\"Input city name: \")\n",
    "# Search for current weather in London (Great Britain) and get details\n",
    "observation = mgr.weather_at_place(city)\n",
    "w = observation.weather\n",
    "\n",
    "w.detailed_status         # 'clouds'\n",
    "w.wind()                  # {'speed': 4.6, 'deg': 330}\n",
    "w.humidity                # 87\n",
    "w.temperature('celsius')  # {'temp_max': 10.5, 'temp': 9.7, 'temp_min': 9.0}\n",
    "w.rain                    # {}\n",
    "w.heat_index              # None\n",
    "w.clouds                  # 75\n",
    "\n",
    "print(w.detailed_status)\n",
    "print(w.temperature('celsius'))\n",
    "print(w.wind())"
   ]
  },
  {
   "cell_type": "markdown",
   "id": "ddaf65ea",
   "metadata": {},
   "source": [
    "# Свой модуль"
   ]
  },
  {
   "cell_type": "code",
   "execution_count": 208,
   "id": "6ed90603",
   "metadata": {},
   "outputs": [
    {
     "name": "stdout",
     "output_type": "stream",
     "text": [
      "Collecting import-ipynb\n",
      "  Downloading import-ipynb-0.1.3.tar.gz (4.0 kB)\n",
      "Building wheels for collected packages: import-ipynb\n",
      "  Building wheel for import-ipynb (setup.py): started\n",
      "  Building wheel for import-ipynb (setup.py): finished with status 'done'\n",
      "  Created wheel for import-ipynb: filename=import_ipynb-0.1.3-py3-none-any.whl size=2975 sha256=b55e80f32e3462e1fa277a24754bc6449ea73ddc04677cdd418b0f18a274a327\n",
      "  Stored in directory: c:\\users\\user\\appdata\\local\\pip\\cache\\wheels\\06\\7e\\ad\\1cb03e935234186825cefc7e2c8f3451b4f654b5bc72232a7b\n",
      "Successfully built import-ipynb\n",
      "Installing collected packages: import-ipynb\n",
      "Successfully installed import-ipynb-0.1.3\n",
      "Note: you may need to restart the kernel to use updated packages.\n"
     ]
    }
   ],
   "source": [
    "pip install import-ipynb"
   ]
  },
  {
   "cell_type": "code",
   "execution_count": 1,
   "id": "8de70f85",
   "metadata": {},
   "outputs": [
    {
     "ename": "ModuleNotFoundError",
     "evalue": "No module named 'Module'",
     "output_type": "error",
     "traceback": [
      "\u001b[1;31m---------------------------------------------------------------------------\u001b[0m",
      "\u001b[1;31mModuleNotFoundError\u001b[0m                       Traceback (most recent call last)",
      "\u001b[1;32m<ipython-input-1-1c78721769b1>\u001b[0m in \u001b[0;36m<module>\u001b[1;34m\u001b[0m\n\u001b[1;32m----> 1\u001b[1;33m \u001b[1;32mimport\u001b[0m \u001b[0mModule\u001b[0m\u001b[1;33m\u001b[0m\u001b[1;33m\u001b[0m\u001b[0m\n\u001b[0m",
      "\u001b[1;31mModuleNotFoundError\u001b[0m: No module named 'Module'"
     ]
    }
   ],
   "source": [
    "import Module"
   ]
  },
  {
   "cell_type": "markdown",
   "id": "ce0507ca",
   "metadata": {},
   "source": [
    "# Обработка исключений"
   ]
  },
  {
   "cell_type": "code",
   "execution_count": 6,
   "id": "f601727d",
   "metadata": {},
   "outputs": [
    {
     "ename": "SyntaxError",
     "evalue": "None (<string>)",
     "output_type": "error",
     "traceback": [
      "Traceback \u001b[1;36m(most recent call last)\u001b[0m:\n",
      "  File \u001b[0;32m\"C:\\Users\\User\\anaconda3\\lib\\site-packages\\IPython\\core\\interactiveshell.py\"\u001b[0m, line \u001b[0;32m3437\u001b[0m, in \u001b[0;35mrun_code\u001b[0m\n    exec(code_obj, self.user_global_ns, self.user_ns)\n",
      "\u001b[1;36m  File \u001b[1;32m\"<ipython-input-6-52c234f9b487>\"\u001b[1;36m, line \u001b[1;32m1\u001b[1;36m, in \u001b[1;35m<module>\u001b[1;36m\u001b[0m\n\u001b[1;33m    raise SyntaxError\u001b[0m\n",
      "\u001b[1;36m  File \u001b[1;32m\"<string>\"\u001b[1;36m, line \u001b[1;32munknown\u001b[0m\n\u001b[1;31mSyntaxError\u001b[0m\n"
     ]
    }
   ],
   "source": [
    "raise SyntaxError"
   ]
  },
  {
   "cell_type": "code",
   "execution_count": 5,
   "id": "a195c2ec",
   "metadata": {},
   "outputs": [
    {
     "ename": "RafterError",
     "evalue": "Ошибка моя!",
     "output_type": "error",
     "traceback": [
      "\u001b[1;31m---------------------------------------------------------------------------\u001b[0m",
      "\u001b[1;31mRafterError\u001b[0m                               Traceback (most recent call last)",
      "\u001b[1;32m<ipython-input-5-86891d6e0bb2>\u001b[0m in \u001b[0;36m<module>\u001b[1;34m\u001b[0m\n\u001b[0;32m      1\u001b[0m \u001b[1;32mclass\u001b[0m \u001b[0mRafterError\u001b[0m\u001b[1;33m(\u001b[0m\u001b[0mException\u001b[0m\u001b[1;33m)\u001b[0m\u001b[1;33m:\u001b[0m\u001b[1;33m\u001b[0m\u001b[1;33m\u001b[0m\u001b[0m\n\u001b[0;32m      2\u001b[0m     \u001b[1;32mpass\u001b[0m\u001b[1;33m\u001b[0m\u001b[1;33m\u001b[0m\u001b[0m\n\u001b[1;32m----> 3\u001b[1;33m \u001b[1;32mraise\u001b[0m \u001b[0mRafterError\u001b[0m\u001b[1;33m(\u001b[0m\u001b[1;34m\"Ошибка моя!\"\u001b[0m\u001b[1;33m)\u001b[0m\u001b[1;33m\u001b[0m\u001b[1;33m\u001b[0m\u001b[0m\n\u001b[0m\u001b[0;32m      4\u001b[0m \u001b[0mprint\u001b[0m\u001b[1;33m(\u001b[0m\u001b[1;34m\"Программа завершена!\"\u001b[0m\u001b[1;33m)\u001b[0m\u001b[1;33m\u001b[0m\u001b[1;33m\u001b[0m\u001b[0m\n",
      "\u001b[1;31mRafterError\u001b[0m: Ошибка моя!"
     ]
    }
   ],
   "source": [
    "class RafterError(Exception):\n",
    "    pass\n",
    "raise RafterError(\"Ошибка моя!\")\n",
    "print(\"Программа завершена!\")\n"
   ]
  },
  {
   "cell_type": "code",
   "execution_count": 12,
   "id": "ba3a3cda",
   "metadata": {},
   "outputs": [
    {
     "ename": "AssertionError",
     "evalue": "Both numbers should not be equal 0!",
     "output_type": "error",
     "traceback": [
      "\u001b[1;31m---------------------------------------------------------------------------\u001b[0m",
      "\u001b[1;31mAssertionError\u001b[0m                            Traceback (most recent call last)",
      "\u001b[1;32m<ipython-input-12-25812631da2f>\u001b[0m in \u001b[0;36m<module>\u001b[1;34m\u001b[0m\n\u001b[0;32m      5\u001b[0m     \u001b[1;32melse\u001b[0m\u001b[1;33m:\u001b[0m\u001b[1;33m\u001b[0m\u001b[1;33m\u001b[0m\u001b[0m\n\u001b[0;32m      6\u001b[0m         \u001b[1;32mreturn\u001b[0m \u001b[0mnum2\u001b[0m\u001b[1;33m\u001b[0m\u001b[1;33m\u001b[0m\u001b[0m\n\u001b[1;32m----> 7\u001b[1;33m \u001b[0mprint\u001b[0m\u001b[1;33m(\u001b[0m\u001b[0mmaximum\u001b[0m\u001b[1;33m(\u001b[0m\u001b[1;36m0\u001b[0m\u001b[1;33m,\u001b[0m\u001b[1;36m5\u001b[0m\u001b[1;33m)\u001b[0m\u001b[1;33m)\u001b[0m\u001b[1;33m\u001b[0m\u001b[1;33m\u001b[0m\u001b[0m\n\u001b[0m",
      "\u001b[1;32m<ipython-input-12-25812631da2f>\u001b[0m in \u001b[0;36mmaximum\u001b[1;34m(num1, num2)\u001b[0m\n\u001b[0;32m      1\u001b[0m \u001b[1;32mdef\u001b[0m \u001b[0mmaximum\u001b[0m\u001b[1;33m(\u001b[0m\u001b[0mnum1\u001b[0m\u001b[1;33m,\u001b[0m\u001b[0mnum2\u001b[0m\u001b[1;33m)\u001b[0m\u001b[1;33m:\u001b[0m\u001b[1;33m\u001b[0m\u001b[1;33m\u001b[0m\u001b[0m\n\u001b[1;32m----> 2\u001b[1;33m     \u001b[1;32massert\u001b[0m \u001b[0mnum1\u001b[0m\u001b[1;33m!=\u001b[0m\u001b[1;36m0\u001b[0m \u001b[1;32mand\u001b[0m \u001b[0mnum2\u001b[0m\u001b[1;33m!=\u001b[0m\u001b[1;36m0\u001b[0m\u001b[1;33m,\u001b[0m \u001b[1;34m\"Both numbers should not be equal 0!\"\u001b[0m\u001b[1;33m\u001b[0m\u001b[1;33m\u001b[0m\u001b[0m\n\u001b[0m\u001b[0;32m      3\u001b[0m     \u001b[1;32mif\u001b[0m \u001b[0mnum1\u001b[0m\u001b[1;33m>\u001b[0m\u001b[0mnum2\u001b[0m\u001b[1;33m:\u001b[0m\u001b[1;33m\u001b[0m\u001b[1;33m\u001b[0m\u001b[0m\n\u001b[0;32m      4\u001b[0m         \u001b[1;32mreturn\u001b[0m \u001b[0mnum1\u001b[0m\u001b[1;33m\u001b[0m\u001b[1;33m\u001b[0m\u001b[0m\n\u001b[0;32m      5\u001b[0m     \u001b[1;32melse\u001b[0m\u001b[1;33m:\u001b[0m\u001b[1;33m\u001b[0m\u001b[1;33m\u001b[0m\u001b[0m\n",
      "\u001b[1;31mAssertionError\u001b[0m: Both numbers should not be equal 0!"
     ]
    }
   ],
   "source": [
    "def maximum(num1,num2): \n",
    "    assert num1!=0 and num2!=0, \"Both numbers should not be equal 0!\"\n",
    "    if num1>num2:\n",
    "        return num1\n",
    "    else:\n",
    "        return num2\n",
    "print(maximum(0,5))"
   ]
  },
  {
   "cell_type": "markdown",
   "id": "eb88bb7c",
   "metadata": {},
   "source": [
    "# Работа с файлами"
   ]
  },
  {
   "cell_type": "code",
   "execution_count": 31,
   "id": "8d033799",
   "metadata": {},
   "outputs": [],
   "source": [
    "import os"
   ]
  },
  {
   "cell_type": "code",
   "execution_count": 43,
   "id": "0ed71e12",
   "metadata": {},
   "outputs": [
    {
     "ename": "FileNotFoundError",
     "evalue": "[WinError 2] Не удается найти указанный файл: 'C:/Users/User/Desktop/3.txt' -> 'C:/Users/User/Desktop/MEOW.txt'",
     "output_type": "error",
     "traceback": [
      "\u001b[1;31m---------------------------------------------------------------------------\u001b[0m",
      "\u001b[1;31mFileNotFoundError\u001b[0m                         Traceback (most recent call last)",
      "\u001b[1;32m<ipython-input-43-fcce365803c5>\u001b[0m in \u001b[0;36m<module>\u001b[1;34m\u001b[0m\n\u001b[1;32m----> 1\u001b[1;33m \u001b[0mos\u001b[0m\u001b[1;33m.\u001b[0m\u001b[0mrename\u001b[0m\u001b[1;33m(\u001b[0m\u001b[1;34m\"C:/Users/User/Desktop/3.txt\"\u001b[0m\u001b[1;33m,\u001b[0m \u001b[1;34m\"C:/Users/User/Desktop/MEOW.txt\"\u001b[0m\u001b[1;33m)\u001b[0m\u001b[1;33m\u001b[0m\u001b[1;33m\u001b[0m\u001b[0m\n\u001b[0m",
      "\u001b[1;31mFileNotFoundError\u001b[0m: [WinError 2] Не удается найти указанный файл: 'C:/Users/User/Desktop/3.txt' -> 'C:/Users/User/Desktop/MEOW.txt'"
     ]
    }
   ],
   "source": [
    "os.rename(\"C:/Users/User/Desktop/3.txt\", \"C:/Users/User/Desktop/MEOW.txt\")"
   ]
  },
  {
   "cell_type": "code",
   "execution_count": 37,
   "id": "a25e5404",
   "metadata": {},
   "outputs": [],
   "source": [
    "file = open(\"C:/Users/User/Desktop/3.txt\", \"a\")"
   ]
  },
  {
   "cell_type": "code",
   "execution_count": 38,
   "id": "165f97fd",
   "metadata": {},
   "outputs": [
    {
     "ename": "UnsupportedOperation",
     "evalue": "not readable",
     "output_type": "error",
     "traceback": [
      "\u001b[1;31m---------------------------------------------------------------------------\u001b[0m",
      "\u001b[1;31mUnsupportedOperation\u001b[0m                      Traceback (most recent call last)",
      "\u001b[1;32m<ipython-input-38-68a24059618d>\u001b[0m in \u001b[0;36m<module>\u001b[1;34m\u001b[0m\n\u001b[1;32m----> 1\u001b[1;33m \u001b[0mname\u001b[0m \u001b[1;33m=\u001b[0m \u001b[0mfile\u001b[0m\u001b[1;33m.\u001b[0m\u001b[0mreadline\u001b[0m\u001b[1;33m(\u001b[0m\u001b[1;33m)\u001b[0m\u001b[1;33m.\u001b[0m\u001b[0msplit\u001b[0m\u001b[1;33m(\u001b[0m\u001b[1;33m)\u001b[0m\u001b[1;33m\u001b[0m\u001b[1;33m\u001b[0m\u001b[0m\n\u001b[0m",
      "\u001b[1;31mUnsupportedOperation\u001b[0m: not readable"
     ]
    }
   ],
   "source": [
    "name = file.readline().split()"
   ]
  },
  {
   "cell_type": "code",
   "execution_count": 41,
   "id": "14399c2e",
   "metadata": {},
   "outputs": [],
   "source": [
    "file.close()"
   ]
  },
  {
   "cell_type": "markdown",
   "id": "c483897b",
   "metadata": {},
   "source": [
    "# Кортежи"
   ]
  },
  {
   "cell_type": "code",
   "execution_count": null,
   "id": "35129935",
   "metadata": {},
   "outputs": [],
   "source": []
  },
  {
   "cell_type": "code",
   "execution_count": null,
   "id": "e313ad74",
   "metadata": {},
   "outputs": [],
   "source": []
  },
  {
   "cell_type": "code",
   "execution_count": null,
   "id": "a3d7f262",
   "metadata": {},
   "outputs": [],
   "source": []
  },
  {
   "cell_type": "code",
   "execution_count": null,
   "id": "b33373e4",
   "metadata": {},
   "outputs": [],
   "source": []
  },
  {
   "cell_type": "code",
   "execution_count": null,
   "id": "6eef4472",
   "metadata": {},
   "outputs": [],
   "source": []
  },
  {
   "cell_type": "code",
   "execution_count": null,
   "id": "1ed53070",
   "metadata": {},
   "outputs": [],
   "source": []
  },
  {
   "cell_type": "code",
   "execution_count": null,
   "id": "0560c30c",
   "metadata": {},
   "outputs": [],
   "source": []
  },
  {
   "cell_type": "code",
   "execution_count": null,
   "id": "5e7f999b",
   "metadata": {},
   "outputs": [],
   "source": []
  },
  {
   "cell_type": "code",
   "execution_count": null,
   "id": "5687e2ae",
   "metadata": {},
   "outputs": [],
   "source": []
  }
 ],
 "metadata": {
  "kernelspec": {
   "display_name": "Python 3",
   "language": "python",
   "name": "python3"
  },
  "language_info": {
   "codemirror_mode": {
    "name": "ipython",
    "version": 3
   },
   "file_extension": ".py",
   "mimetype": "text/x-python",
   "name": "python",
   "nbconvert_exporter": "python",
   "pygments_lexer": "ipython3",
   "version": "3.8.8"
  }
 },
 "nbformat": 4,
 "nbformat_minor": 5
}
