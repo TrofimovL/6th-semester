{
 "cells": [
  {
   "cell_type": "code",
   "execution_count": 1,
   "id": "624ccfe6",
   "metadata": {},
   "outputs": [],
   "source": [
    "import matplotlib.pyplot as plt\n",
    "import matplotlib.ticker as ticker\n",
    "import pandas as pd\n",
    "import numpy as np\n",
    "import math"
   ]
  },
  {
   "cell_type": "code",
   "execution_count": 32,
   "id": "fd3d352e",
   "metadata": {},
   "outputs": [],
   "source": [
    "file = open(r\"C:\\Users\\User\\Desktop\\lab03-data.txt\")#Открываем файл\n",
    "numbers = [] #Список со всеми словами\n",
    "line = file.readline().split() #список из слов в строчке\n",
    "while line:\n",
    "    numbers.extend(line) #Вставляем в список с распаковкой\n",
    "    line = file.readline().split() #Заново считываем"
   ]
  },
  {
   "cell_type": "code",
   "execution_count": 33,
   "id": "b87b5613",
   "metadata": {},
   "outputs": [
    {
     "data": {
      "text/plain": [
       "['3075.0',\n",
       " '2712.0',\n",
       " '2496.0',\n",
       " '2255.0',\n",
       " '2071.0',\n",
       " '1915.0',\n",
       " '1746.0',\n",
       " '1629.0',\n",
       " '1446.0',\n",
       " '1297.0',\n",
       " '1269.0',\n",
       " '1146.0',\n",
       " '1041.0',\n",
       " '945.0',\n",
       " '932.0',\n",
       " '820.0',\n",
       " '728.0',\n",
       " '675.0',\n",
       " '595.0',\n",
       " '613.0',\n",
       " '539.0',\n",
       " '508.0',\n",
       " '446.0',\n",
       " '434.0',\n",
       " '422.0',\n",
       " '362.0',\n",
       " '343.0',\n",
       " '328.0',\n",
       " '300.0',\n",
       " '290.0',\n",
       " '269.0',\n",
       " '265.0',\n",
       " '235.0',\n",
       " '205.0',\n",
       " '201.0',\n",
       " '174.0',\n",
       " '201.0',\n",
       " '192.0',\n",
       " '161.0',\n",
       " '154.0',\n",
       " '165.0',\n",
       " '123.0',\n",
       " '137.0',\n",
       " '149.0',\n",
       " '102.0',\n",
       " '111.0',\n",
       " '140.0',\n",
       " '109.0',\n",
       " '110.0',\n",
       " '103.0',\n",
       " '80.0',\n",
       " '94.0',\n",
       " '92.0',\n",
       " '94.0',\n",
       " '91.0',\n",
       " '95.0',\n",
       " '80.0',\n",
       " '81.0',\n",
       " '79.0',\n",
       " '64.0',\n",
       " '88.0',\n",
       " '57.0',\n",
       " '87.0',\n",
       " '72.0',\n",
       " '68.0',\n",
       " '72.0',\n",
       " '74.0',\n",
       " '68.0',\n",
       " '62.0',\n",
       " '52.0',\n",
       " '53.0',\n",
       " '55.0',\n",
       " '59.0',\n",
       " '53.0',\n",
       " '53.0',\n",
       " '55.0',\n",
       " '55.0',\n",
       " '46.0',\n",
       " '53.0',\n",
       " '46.0',\n",
       " '53.0',\n",
       " '40.0',\n",
       " '38.0',\n",
       " '50.0',\n",
       " '42.0',\n",
       " '55.0',\n",
       " '45.0',\n",
       " '33.0',\n",
       " '52.0',\n",
       " '37.0',\n",
       " '37.0',\n",
       " '38.0',\n",
       " '38.0',\n",
       " '52.0',\n",
       " '46.0',\n",
       " '31.0',\n",
       " '45.0',\n",
       " '44.0',\n",
       " '42.0',\n",
       " '42.0',\n",
       " '41.0',\n",
       " '36.0',\n",
       " '41.0',\n",
       " '28.0',\n",
       " '33.0',\n",
       " '44.0',\n",
       " '34.0',\n",
       " '39.0',\n",
       " '35.0',\n",
       " '27.0',\n",
       " '42.0',\n",
       " '33.0',\n",
       " '30.0',\n",
       " '37.0',\n",
       " '41.0',\n",
       " '41.0',\n",
       " '31.0',\n",
       " '35.0',\n",
       " '34.0',\n",
       " '15.0',\n",
       " '22.0',\n",
       " '24.0',\n",
       " '23.0',\n",
       " '36.0',\n",
       " '28.0',\n",
       " '24.0',\n",
       " '32.0',\n",
       " '23.0',\n",
       " '27.0',\n",
       " '21.0',\n",
       " '21.0',\n",
       " '28.0',\n",
       " '26.0',\n",
       " '21.0',\n",
       " '29.0',\n",
       " '19.0',\n",
       " '22.0',\n",
       " '19.0',\n",
       " '23.0',\n",
       " '35.0',\n",
       " '17.0',\n",
       " '21.0',\n",
       " '18.0',\n",
       " '15.0',\n",
       " '20.0',\n",
       " '22.0',\n",
       " '23.0',\n",
       " '21.0',\n",
       " '14.0',\n",
       " '16.0',\n",
       " '20.0',\n",
       " '10.0',\n",
       " '27.0',\n",
       " '21.0',\n",
       " '13.0',\n",
       " '14.0',\n",
       " '22.0',\n",
       " '26.0',\n",
       " '13.0',\n",
       " '21.0',\n",
       " '19.0',\n",
       " '18.0',\n",
       " '18.0',\n",
       " '15.0',\n",
       " '19.0',\n",
       " '19.0',\n",
       " '27.0',\n",
       " '20.0',\n",
       " '14.0',\n",
       " '15.0',\n",
       " '18.0',\n",
       " '14.0',\n",
       " '12.0',\n",
       " '17.0',\n",
       " '18.0',\n",
       " '18.0',\n",
       " '12.0',\n",
       " '22.0',\n",
       " '15.0',\n",
       " '14.0',\n",
       " '11.0',\n",
       " '10.0',\n",
       " '10.0',\n",
       " '11.0',\n",
       " '17.0',\n",
       " '19.0',\n",
       " '12.0',\n",
       " '9.0',\n",
       " '17.0',\n",
       " '11.0',\n",
       " '13.0',\n",
       " '15.0',\n",
       " '13.0',\n",
       " '11.0',\n",
       " '13.0',\n",
       " '11.0',\n",
       " '11.0',\n",
       " '11.0',\n",
       " '11.0',\n",
       " '11.0',\n",
       " '10.0',\n",
       " '14.0',\n",
       " '11.0',\n",
       " '7.0',\n",
       " '13.0',\n",
       " '4.0',\n",
       " '14.0',\n",
       " '19.0',\n",
       " '11.0',\n",
       " '7.0',\n",
       " '13.0',\n",
       " '14.0',\n",
       " '17.0',\n",
       " '15.0',\n",
       " '14.0',\n",
       " '13.0',\n",
       " '16.0',\n",
       " '7.0',\n",
       " '10.0',\n",
       " '11.0',\n",
       " '10.0',\n",
       " '9.0',\n",
       " '14.0',\n",
       " '12.0',\n",
       " '11.0',\n",
       " '8.0',\n",
       " '9.0',\n",
       " '10.0',\n",
       " '11.0',\n",
       " '10.0',\n",
       " '7.0',\n",
       " '7.0',\n",
       " '12.0',\n",
       " '8.0',\n",
       " '7.0',\n",
       " '12.0',\n",
       " '10.0',\n",
       " '10.0',\n",
       " '17.0',\n",
       " '11.0',\n",
       " '5.0',\n",
       " '10.0',\n",
       " '8.0',\n",
       " '12.0',\n",
       " '10.0',\n",
       " '10.0',\n",
       " '6.0',\n",
       " '4.0',\n",
       " '9.0',\n",
       " '9.0',\n",
       " '10.0',\n",
       " '13.0',\n",
       " '11.0',\n",
       " '10.0',\n",
       " '10.0',\n",
       " '12.0',\n",
       " '16.0',\n",
       " '8.0',\n",
       " '12.0',\n",
       " '7.0',\n",
       " '11.0',\n",
       " '14.0',\n",
       " '11.0',\n",
       " '13.0',\n",
       " '11.0',\n",
       " '9.0',\n",
       " '12.0',\n",
       " '9.0',\n",
       " '6.0',\n",
       " '11.0',\n",
       " '8.0',\n",
       " '7.0',\n",
       " '9.0',\n",
       " '10.0',\n",
       " '5.0',\n",
       " '11.0',\n",
       " '7.0',\n",
       " '9.0',\n",
       " '9.0',\n",
       " '12.0',\n",
       " '13.0',\n",
       " '11.0',\n",
       " '9.0',\n",
       " '7.0',\n",
       " '7.0',\n",
       " '7.0',\n",
       " '13.0',\n",
       " '12.0',\n",
       " '6.0',\n",
       " '5.0',\n",
       " '9.0',\n",
       " '8.0',\n",
       " '3.0',\n",
       " '7.0',\n",
       " '9.0',\n",
       " '11.0',\n",
       " '9.0',\n",
       " '11.0',\n",
       " '6.0',\n",
       " '5.0']"
      ]
     },
     "execution_count": 33,
     "metadata": {},
     "output_type": "execute_result"
    }
   ],
   "source": [
    "numbers = numbers[:300]\n",
    "numbers"
   ]
  },
  {
   "cell_type": "markdown",
   "id": "341f2552",
   "metadata": {},
   "source": [
    "# Converting array of string into array of int"
   ]
  },
  {
   "cell_type": "code",
   "execution_count": 34,
   "id": "64fe04de",
   "metadata": {},
   "outputs": [],
   "source": [
    "int_numbers = []\n",
    "for i in range(300):\n",
    "    int_numbers.append(int(float(numbers[i])))"
   ]
  },
  {
   "cell_type": "code",
   "execution_count": 35,
   "id": "2f843709",
   "metadata": {},
   "outputs": [
    {
     "name": "stdout",
     "output_type": "stream",
     "text": [
      "[3075, 2712, 2496, 2255, 2071, 1915, 1746, 1629, 1446, 1297, 1269, 1146, 1041, 945, 932, 820, 728, 675, 595, 613, 539, 508, 446, 434, 422, 362, 343, 328, 300, 290, 269, 265, 235, 205, 201, 174, 201, 192, 161, 154, 165, 123, 137, 149, 102, 111, 140, 109, 110, 103, 80, 94, 92, 94, 91, 95, 80, 81, 79, 64, 88, 57, 87, 72, 68, 72, 74, 68, 62, 52, 53, 55, 59, 53, 53, 55, 55, 46, 53, 46, 53, 40, 38, 50, 42, 55, 45, 33, 52, 37, 37, 38, 38, 52, 46, 31, 45, 44, 42, 42, 41, 36, 41, 28, 33, 44, 34, 39, 35, 27, 42, 33, 30, 37, 41, 41, 31, 35, 34, 15, 22, 24, 23, 36, 28, 24, 32, 23, 27, 21, 21, 28, 26, 21, 29, 19, 22, 19, 23, 35, 17, 21, 18, 15, 20, 22, 23, 21, 14, 16, 20, 10, 27, 21, 13, 14, 22, 26, 13, 21, 19, 18, 18, 15, 19, 19, 27, 20, 14, 15, 18, 14, 12, 17, 18, 18, 12, 22, 15, 14, 11, 10, 10, 11, 17, 19, 12, 9, 17, 11, 13, 15, 13, 11, 13, 11, 11, 11, 11, 11, 10, 14, 11, 7, 13, 4, 14, 19, 11, 7, 13, 14, 17, 15, 14, 13, 16, 7, 10, 11, 10, 9, 14, 12, 11, 8, 9, 10, 11, 10, 7, 7, 12, 8, 7, 12, 10, 10, 17, 11, 5, 10, 8, 12, 10, 10, 6, 4, 9, 9, 10, 13, 11, 10, 10, 12, 16, 8, 12, 7, 11, 14, 11, 13, 11, 9, 12, 9, 6, 11, 8, 7, 9, 10, 5, 11, 7, 9, 9, 12, 13, 11, 9, 7, 7, 7, 13, 12, 6, 5, 9, 8, 3, 7, 9, 11, 9, 11, 6, 5]\n"
     ]
    }
   ],
   "source": [
    "print(int_numbers)"
   ]
  },
  {
   "cell_type": "markdown",
   "id": "97b00210",
   "metadata": {},
   "source": [
    "# Гистограмма"
   ]
  },
  {
   "cell_type": "code",
   "execution_count": 36,
   "id": "3ca132f9",
   "metadata": {},
   "outputs": [],
   "source": [
    "transportation_time = 15\n",
    "time_array = []\n",
    "for i in range(300):\n",
    "    #time_array.append(300-i)\n",
    "    time_array.append(transportation_time + 3*(i+1))"
   ]
  },
  {
   "cell_type": "code",
   "execution_count": 37,
   "id": "b553df87",
   "metadata": {},
   "outputs": [
    {
     "data": {
      "text/plain": [
       "<matplotlib.collections.PathCollection at 0x15d615f6940>"
      ]
     },
     "execution_count": 37,
     "metadata": {},
     "output_type": "execute_result"
    },
    {
     "data": {
      "image/png": "[encoded data removed]",
      "text/plain": [
       "<Figure size 864x432 with 1 Axes>"
      ]
     },
     "metadata": {
      "needs_background": "light"
     },
     "output_type": "display_data"
    }
   ],
   "source": [
    "fig, graph = plt.subplots(figsize=(12,6))\n",
    "graph.set_xlabel(\"t\")\n",
    "graph.set_ylabel(\"Количество событий\")\n",
    "\n",
    "#graph.yaxis.set_major_locator(ticker.MultipleLocator(1000))\n",
    "#graph.yaxis.set_minor_locator(ticker.MultipleLocator(1))\n",
    "#plt.yticks([100, 200, 300, 400], color=\"r\", size=7)\n",
    "\n",
    "graph.scatter(time_array, int_numbers, label = 'Гистограмма', color = 'blue', s=5)"
   ]
  },
  {
   "cell_type": "markdown",
   "id": "2245e8d4",
   "metadata": {},
   "source": [
    "# Logarithm"
   ]
  },
  {
   "cell_type": "code",
   "execution_count": 38,
   "id": "77dd7747",
   "metadata": {},
   "outputs": [],
   "source": [
    "log10_array = []\n",
    "for i in range(300):\n",
    "    log10_array.append(np.log(int_numbers[i]))"
   ]
  },
  {
   "cell_type": "code",
   "execution_count": 39,
   "id": "4e3b76e4",
   "metadata": {},
   "outputs": [
    {
     "data": {
      "text/plain": [
       "<matplotlib.legend.Legend at 0x15d6162fe50>"
      ]
     },
     "execution_count": 39,
     "metadata": {},
     "output_type": "execute_result"
    },
    {
     "data": {
      "image/png": "[encoded data removed]",
      "text/plain": [
       "<Figure size 864x432 with 1 Axes>"
      ]
     },
     "metadata": {
      "needs_background": "light"
     },
     "output_type": "display_data"
    }
   ],
   "source": [
    "fig, graph = plt.subplots(figsize=(12,6))\n",
    "graph.set_xlabel(\"t, сек\")\n",
    "graph.set_ylabel(\"Количество событий, log(N)\")\n",
    "\n",
    "graph.xaxis.set_major_locator(ticker.MultipleLocator(100))\n",
    "\n",
    "label = \"Гистограмма количества распавшихся ядер в \\nлогарифмическом масштабе в зависимости от времени\"\n",
    "graph.scatter(time_array, log10_array, label = label , color = 'blue', s = 5)\n",
    "graph.legend()\n",
    "#graph.set(xlim=(0,100))\n",
    "#graph.set(ylim=(0,5))"
   ]
  },
  {
   "cell_type": "markdown",
   "id": "b8a6fa7a",
   "metadata": {},
   "source": [
    "# МНК"
   ]
  },
  {
   "cell_type": "markdown",
   "id": "3b53f070",
   "metadata": {},
   "source": [
    "## Прямая справа"
   ]
  },
  {
   "cell_type": "code",
   "execution_count": 40,
   "id": "61a392b2",
   "metadata": {},
   "outputs": [
    {
     "name": "stdout",
     "output_type": "stream",
     "text": [
      "n 105.0\n",
      "k2 -0.004080541506481777\n",
      "b2 4.89744039304879\n",
      "48195 317.56954336523376 22989645 142221.9391012052\n"
     ]
    }
   ],
   "source": [
    "t_border_right = 300\n",
    "coef = 600\n",
    "\n",
    "t_border_right = t_border_right - transportation_time #tr time = 15 sec\n",
    "# while(t_border_right%3 != 0):\n",
    "#     t_border_right -= 1\n",
    "n = (coef-t_border_right)/3\n",
    "print(\"n\", n)\n",
    "\n",
    "sum_x = 0\n",
    "for i in range(int(t_border_right/3), int(coef/3)):\n",
    "    sum_x += time_array[i]\n",
    "sum_x2 = 0\n",
    "for i in range(int(t_border_right/3), int(coef/3)):\n",
    "    sum_x2 += time_array[i]**2\n",
    "sum_y = 0\n",
    "for i in range(int(t_border_right/3), int(coef/3)):\n",
    "    sum_y += log10_array[i]\n",
    "sum_xy = 0\n",
    "for i in range(int(t_border_right/3), int(coef/3)):\n",
    "    sum_xy += time_array[i] * log10_array[i]\n",
    "    \n",
    "k2 = (n * sum_xy - sum_x * sum_y) / (n * sum_x2 - (sum_x)**2)\n",
    "b2 = (sum_y - k2 * sum_x) / n\n",
    "\n",
    "x2 = np.linspace(0,900)\n",
    "y2 = k2 * x2 + b2\n",
    "\n",
    "print(\"k2\", k2)\n",
    "print(\"b2\", b2)\n",
    "print(sum_x, sum_y, sum_x2, sum_xy)"
   ]
  },
  {
   "cell_type": "code",
   "execution_count": 41,
   "id": "3253af49",
   "metadata": {},
   "outputs": [
    {
     "name": "stdout",
     "output_type": "stream",
     "text": [
      "245.06551358723837\n"
     ]
    }
   ],
   "source": [
    "tau2 = -1/k2\n",
    "print(tau2)"
   ]
  },
  {
   "cell_type": "code",
   "execution_count": 42,
   "id": "378ad72c",
   "metadata": {},
   "outputs": [
    {
     "data": {
      "text/plain": [
       "<matplotlib.legend.Legend at 0x15d6169bfa0>"
      ]
     },
     "execution_count": 42,
     "metadata": {},
     "output_type": "execute_result"
    },
    {
     "data": {
      "image/png": "[encoded data removed]",
      "text/plain": [
       "<Figure size 1296x648 with 1 Axes>"
      ]
     },
     "metadata": {
      "needs_background": "light"
     },
     "output_type": "display_data"
    }
   ],
   "source": [
    "fig, graph = plt.subplots(figsize=(18,9))\n",
    "graph.set_xlabel(\"t, сек\")\n",
    "graph.set_ylabel(\"Количество событий, log10(N)\")\n",
    "\n",
    "graph.xaxis.set_major_locator(ticker.MultipleLocator(100))\n",
    "\n",
    "label = \"Гистограмма количества распавшихся ядер в \\nлогарифмическом масштабе в зависимости от времени\"\n",
    "graph.scatter(time_array, log10_array, label = label , color = 'blue', s = 15)\n",
    "#graph.plot(x1, y1, color = \"red\")\n",
    "graph.plot(x2, y2, color = \"red\")\n",
    "\n",
    "graph.legend()\n",
    "#graph.set(xlim=(0,100))\n",
    "#graph.set(ylim=(0,5))"
   ]
  },
  {
   "cell_type": "code",
   "execution_count": 43,
   "id": "a4ddb7e0",
   "metadata": {},
   "outputs": [],
   "source": [
    "n_time = 50\n",
    "transportation_time = 15\n",
    "time_array50 = []\n",
    "for i in range(n_time):\n",
    "    time_array50.append(transportation_time + 3*(i+1))"
   ]
  },
  {
   "cell_type": "code",
   "execution_count": 44,
   "id": "ee9c7c02",
   "metadata": {},
   "outputs": [
    {
     "name": "stdout",
     "output_type": "stream",
     "text": [
      "[4.823990645932119, 4.811749021412673, 4.799507396893228, 4.787265772373782, 4.775024147854337, 4.7627825233348915, 4.750540898815446, 4.7382992742960015, 4.726057649776556, 4.713816025257111, 4.701574400737665, 4.68933277621822, 4.677091151698774, 4.664849527179329, 4.652607902659883, 4.640366278140439, 4.6281246536209935, 4.615883029101548, 4.603641404582103, 4.591399780062657, 4.579158155543212, 4.566916531023766, 4.554674906504321, 4.542433281984875, 4.530191657465431, 4.517950032945985, 4.50570840842654, 4.4934667839070945, 4.481225159387649, 4.468983534868204, 4.456741910348758, 4.444500285829314, 4.432258661309868, 4.420017036790423, 4.407775412270977, 4.395533787751532, 4.3832921632320865, 4.371050538712641, 4.358808914193196, 4.34656728967375, 4.334325665154306, 4.32208404063486, 4.309842416115415, 4.297600791595969, 4.285359167076524, 4.273117542557078, 4.260875918037633, 4.2486342935181876, 4.236392668998743, 4.224151044479298]\n"
     ]
    }
   ],
   "source": [
    "x_arr = []\n",
    "for i in range(n_time):\n",
    "    x_arr.append(k2 * (18+3*i) + b2)\n",
    "print(x_arr)"
   ]
  },
  {
   "cell_type": "code",
   "execution_count": 45,
   "id": "332c2ae4",
   "metadata": {},
   "outputs": [],
   "source": [
    "new_arr = []\n",
    "for i in range(n_time):\n",
    "    new_arr.append(int_numbers[i]-np.exp(x_arr[i]))"
   ]
  },
  {
   "cell_type": "code",
   "execution_count": 46,
   "id": "3f47f59e",
   "metadata": {},
   "outputs": [
    {
     "name": "stdout",
     "output_type": "stream",
     "text": [
      "[2950.5392200327424, 2589.053534423527, 2374.5494241501337, 2135.027113385465, 1952.4868235749088, 1797.9287734695286, 1630.353179158843, 1514.7602541032093, 1333.1502091658128, 1185.5232526442658, 1158.8795903018238, 1037.2194253982204, 933.542958720128, 838.8503886112474, 827.1419110020314, 716.417719439047, 625.67800511398, 573.9229568922866, 495.1527613414972, 514.3676027591746, 441.5676632005332, 411.7531225057216, 350.92415832677295, 340.0809461542282, 329.2236593434346, 270.352469140525, 252.46754470808028, 238.5690531504801, 211.65715953894505, 202.7320269362741, 182.79381642128095, 179.84268711293333, 150.87879619419846, 121.90229893559815, 118.91334871847779, 92.91209705799176, 120.89869362580949, 112.8732862725451, 82.83602104991422, 76.78704223262112, 88.72649233997963, 47.65451215727114, 62.5712407568423, 75.47681551894642, 29.371372152331233, 39.255044714576016, 69.12796563218141, 38.990265720414754, 40.842074202913835, 34.68351873105257]\n"
     ]
    }
   ],
   "source": [
    "print(new_arr)"
   ]
  },
  {
   "cell_type": "code",
   "execution_count": 47,
   "id": "476260d1",
   "metadata": {},
   "outputs": [],
   "source": [
    "log_arr = []\n",
    "for i in range(n_time):\n",
    "    log_arr.append(np.log(new_arr[i]))"
   ]
  },
  {
   "cell_type": "code",
   "execution_count": 48,
   "id": "1258fb18",
   "metadata": {},
   "outputs": [
    {
     "name": "stdout",
     "output_type": "stream",
     "text": [
      "50\n"
     ]
    }
   ],
   "source": [
    "print(len(log_arr))"
   ]
  },
  {
   "cell_type": "code",
   "execution_count": null,
   "id": "2c50f87d",
   "metadata": {},
   "outputs": [],
   "source": []
  },
  {
   "cell_type": "code",
   "execution_count": null,
   "id": "60c110c2",
   "metadata": {},
   "outputs": [],
   "source": []
  },
  {
   "cell_type": "code",
   "execution_count": 49,
   "id": "5fa028bb",
   "metadata": {},
   "outputs": [
    {
     "name": "stdout",
     "output_type": "stream",
     "text": [
      "k1 -0.030831656558653994\n",
      "b1 8.508008440421627\n",
      "2415 223.32184482560757 198765 14418.58616773737\n"
     ]
    }
   ],
   "source": [
    "t_border_left = 120\n",
    "\n",
    "t_border_left = t_border_left - transportation_time #tr time = 15 sec\n",
    "n2 = int(t_border_left / 3)\n",
    "\n",
    "\n",
    "sum_x = 0\n",
    "for i in range(n2):\n",
    "    sum_x += time_array50[i]\n",
    "sum_x2 = 0\n",
    "for i in range(n2):\n",
    "    sum_x2 += time_array50[i]**2\n",
    "sum_y = 0\n",
    "for i in range(n2):\n",
    "    sum_y += log_arr[i]\n",
    "sum_xy = 0\n",
    "for i in range(n2):\n",
    "    sum_xy += time_array50[i] * log_arr[i]\n",
    "    \n",
    "k1 = (n2 * sum_xy - sum_x * sum_y) / (n2 * sum_x2 - sum_x**2)\n",
    "b1 = (sum_y - k1 * sum_x) / n2\n",
    "\n",
    "x1 = np.linspace(0,200)\n",
    "y1 = k1 * x1 + b1\n",
    "\n",
    "print(\"k1\", k1)\n",
    "print(\"b1\", b1)\n",
    "print(sum_x, sum_y, sum_x2, sum_xy)"
   ]
  },
  {
   "cell_type": "code",
   "execution_count": 50,
   "id": "fbcc9920",
   "metadata": {},
   "outputs": [
    {
     "data": {
      "text/plain": [
       "<matplotlib.legend.Legend at 0x15d61b1ad30>"
      ]
     },
     "execution_count": 50,
     "metadata": {},
     "output_type": "execute_result"
    },
    {
     "data": {
      "image/png": "[encoded data removed]",
      "text/plain": [
       "<Figure size 1296x648 with 1 Axes>"
      ]
     },
     "metadata": {
      "needs_background": "light"
     },
     "output_type": "display_data"
    }
   ],
   "source": [
    "fig, graph = plt.subplots(figsize=(18,9))\n",
    "graph.set_xlabel(\"t, сек\")\n",
    "graph.set_ylabel(\"Количество событий, ln(N)\")\n",
    "\n",
    "graph.xaxis.set_major_locator(ticker.MultipleLocator(20))\n",
    "\n",
    "label = \"Гистограмма количества распавшихся ядер в \\nлогарифмическом масштабе в зависимости от времени\"\n",
    "graph.scatter(time_array50, log_arr, label = label , color = 'blue', s = 15)\n",
    "graph.plot(x1, y1, color = \"red\")\n",
    "#graph.plot(x2, y2, color = \"red\")\n",
    "\n",
    "graph.legend()\n",
    "#graph.set(xlim=(0,100))\n",
    "#graph.set(ylim=(0,5))"
   ]
  },
  {
   "cell_type": "code",
   "execution_count": 51,
   "id": "a3f4e4b4",
   "metadata": {},
   "outputs": [
    {
     "name": "stdout",
     "output_type": "stream",
     "text": [
      "32.43419626505001\n"
     ]
    }
   ],
   "source": [
    "tau1 = -1/k1\n",
    "print(tau1)"
   ]
  },
  {
   "cell_type": "code",
   "execution_count": 52,
   "id": "1f7c3035",
   "metadata": {},
   "outputs": [
    {
     "name": "stdout",
     "output_type": "stream",
     "text": [
      "245.06551358723837\n"
     ]
    }
   ],
   "source": [
    "print(tau2)"
   ]
  },
  {
   "cell_type": "markdown",
   "id": "2518d5db",
   "metadata": {},
   "source": [
    "# Суммарное"
   ]
  },
  {
   "cell_type": "code",
   "execution_count": 1,
   "id": "aaa7f68f",
   "metadata": {},
   "outputs": [
    {
     "ename": "NameError",
     "evalue": "name 'plt' is not defined",
     "output_type": "error",
     "traceback": [
      "\u001b[1;31m---------------------------------------------------------------------------\u001b[0m",
      "\u001b[1;31mNameError\u001b[0m                                 Traceback (most recent call last)",
      "\u001b[1;32m<ipython-input-1-131fa8e0b15f>\u001b[0m in \u001b[0;36m<module>\u001b[1;34m\u001b[0m\n\u001b[1;32m----> 1\u001b[1;33m \u001b[0mfig\u001b[0m\u001b[1;33m,\u001b[0m \u001b[0mgraph\u001b[0m \u001b[1;33m=\u001b[0m \u001b[0mplt\u001b[0m\u001b[1;33m.\u001b[0m\u001b[0msubplots\u001b[0m\u001b[1;33m(\u001b[0m\u001b[0mfigsize\u001b[0m\u001b[1;33m=\u001b[0m\u001b[1;33m(\u001b[0m\u001b[1;36m18\u001b[0m\u001b[1;33m,\u001b[0m\u001b[1;36m12\u001b[0m\u001b[1;33m)\u001b[0m\u001b[1;33m)\u001b[0m\u001b[1;33m\u001b[0m\u001b[1;33m\u001b[0m\u001b[0m\n\u001b[0m\u001b[0;32m      2\u001b[0m \u001b[0mgraph\u001b[0m\u001b[1;33m.\u001b[0m\u001b[0mset_xlabel\u001b[0m\u001b[1;33m(\u001b[0m\u001b[1;34m\"t, сек\"\u001b[0m\u001b[1;33m)\u001b[0m\u001b[1;33m\u001b[0m\u001b[1;33m\u001b[0m\u001b[0m\n\u001b[0;32m      3\u001b[0m \u001b[0mgraph\u001b[0m\u001b[1;33m.\u001b[0m\u001b[0mset_ylabel\u001b[0m\u001b[1;33m(\u001b[0m\u001b[1;34m\"Количество событий, ln(N)\"\u001b[0m\u001b[1;33m)\u001b[0m\u001b[1;33m\u001b[0m\u001b[1;33m\u001b[0m\u001b[0m\n\u001b[0;32m      4\u001b[0m \u001b[1;33m\u001b[0m\u001b[0m\n\u001b[0;32m      5\u001b[0m \u001b[0mgraph\u001b[0m\u001b[1;33m.\u001b[0m\u001b[0mxaxis\u001b[0m\u001b[1;33m.\u001b[0m\u001b[0mset_major_locator\u001b[0m\u001b[1;33m(\u001b[0m\u001b[0mticker\u001b[0m\u001b[1;33m.\u001b[0m\u001b[0mMultipleLocator\u001b[0m\u001b[1;33m(\u001b[0m\u001b[1;36m100\u001b[0m\u001b[1;33m)\u001b[0m\u001b[1;33m)\u001b[0m\u001b[1;33m\u001b[0m\u001b[1;33m\u001b[0m\u001b[0m\n",
      "\u001b[1;31mNameError\u001b[0m: name 'plt' is not defined"
     ]
    }
   ],
   "source": [
    "fig, graph = plt.subplots(figsize=(18,12))\n",
    "graph.set_xlabel(\"t, сек\")\n",
    "graph.set_ylabel(\"Количество событий, ln(N)\")\n",
    "\n",
    "graph.xaxis.set_major_locator(ticker.MultipleLocator(100))\n",
    "graph.yaxis.set_major_locator(ticker.MultipleLocator(1))\n",
    "graph.grid(which='major',\n",
    "        color = 'k')\n",
    "graph.minorticks_on()\n",
    "graph.grid(which='minor',\n",
    "        color = 'gray',\n",
    "        linestyle = ':')\n",
    "\n",
    "label = \"Гистограмма количества распавшихся ядер в \\nлогарифмическом масштабе в зависимости от времени\"\n",
    "graph.scatter(time_array, log10_array, label = label , color = 'blue', s = 15)\n",
    "graph.scatter(time_array50, log_arr, color = 'black', s = 15)\n",
    "graph.plot(x1, y1, color = \"red\")\n",
    "graph.plot(x2, y2, color = \"red\")\n",
    "\n",
    "graph.legend()\n",
    "#graph.set(xlim=(0,100))\n",
    "#graph.set(ylim=(6,9))"
   ]
  },
  {
   "cell_type": "markdown",
   "id": "9ddbe5b8",
   "metadata": {},
   "source": [
    "# Активности A_01 и A_02"
   ]
  },
  {
   "cell_type": "code",
   "execution_count": 54,
   "id": "f9d6dc06",
   "metadata": {},
   "outputs": [
    {
     "name": "stdout",
     "output_type": "stream",
     "text": [
      "4954.286499948601 133.94649016192648\n"
     ]
    }
   ],
   "source": [
    "A_01 = np.exp(b1)\n",
    "A_02 = np.exp(b2)\n",
    "print(A_01, A_02)"
   ]
  },
  {
   "cell_type": "markdown",
   "id": "08cf0379",
   "metadata": {},
   "source": [
    "# Среднее время жизни радиоактивных ядер tau_1 и tau_2"
   ]
  },
  {
   "cell_type": "code",
   "execution_count": 65,
   "id": "d13b4b4f",
   "metadata": {},
   "outputs": [
    {
     "name": "stdout",
     "output_type": "stream",
     "text": [
      "32.43419626505001 245.06551358723837\n"
     ]
    }
   ],
   "source": [
    "tau_1 = -1/k1\n",
    "tau_2 = -1/k2\n",
    "print(tau_1, tau_2)"
   ]
  },
  {
   "cell_type": "markdown",
   "id": "3b1f70c1",
   "metadata": {},
   "source": [
    "# Отношение (N_01 / N_02)_эксп"
   ]
  },
  {
   "cell_type": "code",
   "execution_count": 63,
   "id": "156bcb06",
   "metadata": {},
   "outputs": [
    {
     "name": "stdout",
     "output_type": "stream",
     "text": [
      "53562.7668975402\n",
      "10941.888468246827\n",
      "(N_01 / N_02)_эксп = 4.895203150075824\n"
     ]
    }
   ],
   "source": [
    "N_01 = A_01 * tau_1 / 3\n",
    "print(N_01)\n",
    "N_02 = A_02 * tau_2 / 3\n",
    "print(N_02)\n",
    "print(\"(N_01 / N_02)_эксп =\", N_01 / N_02)"
   ]
  },
  {
   "cell_type": "markdown",
   "id": "7b9899a7",
   "metadata": {},
   "source": [
    "#  Отношение (N_01 / N_02)_расч"
   ]
  },
  {
   "cell_type": "code",
   "execution_count": 64,
   "id": "85709662",
   "metadata": {},
   "outputs": [
    {
     "name": "stdout",
     "output_type": "stream",
     "text": [
      "(N_01 / N_02)_расч = 2.435549168693645\n"
     ]
    }
   ],
   "source": [
    "a_1 = 0.519\n",
    "a_2 = 0.481\n",
    "\n",
    "sigma_1 = 44 # +-0\n",
    "sigma_2 = 110 # +-20\n",
    "\n",
    "print(\"(N_01 / N_02)_расч =\", (a_1*sigma_1*(180+32/100*60)) / (a_2*sigma_2*(35.3)))"
   ]
  },
  {
   "cell_type": "markdown",
   "id": "e7ba6231",
   "metadata": {},
   "source": [
    "# Хи квадрат"
   ]
  },
  {
   "cell_type": "code",
   "execution_count": 58,
   "id": "e3d4da21",
   "metadata": {},
   "outputs": [
    {
     "name": "stdout",
     "output_type": "stream",
     "text": [
      "4954.286499948601 133.94649016192648\n"
     ]
    }
   ],
   "source": [
    "n_01 = np.exp(b1)\n",
    "n_02 = np.exp(b2)\n",
    "print(n_01, n_02)"
   ]
  },
  {
   "cell_type": "code",
   "execution_count": 67,
   "id": "7e06f3ea",
   "metadata": {},
   "outputs": [
    {
     "name": "stdout",
     "output_type": "stream",
     "text": [
      "402.518741730648\n"
     ]
    }
   ],
   "source": [
    "H2 = 0\n",
    "for i in range(0,300):\n",
    "    H2 += ((int_numbers[i] - n_01 * np.exp(-(time_array[i])/tau_1) - n_02 * np.exp(-(time_array[i])/tau_2)) / np.sqrt(int_numbers[i]))**2\n",
    "print(H2)"
   ]
  },
  {
   "cell_type": "code",
   "execution_count": 60,
   "id": "f78b18c1",
   "metadata": {},
   "outputs": [
    {
     "data": {
      "text/plain": [
       "295"
      ]
     },
     "execution_count": 60,
     "metadata": {},
     "output_type": "execute_result"
    }
   ],
   "source": [
    "300-5"
   ]
  },
  {
   "cell_type": "code",
   "execution_count": 61,
   "id": "2365b161",
   "metadata": {},
   "outputs": [
    {
     "data": {
      "text/plain": [
       "24.289915602982237"
      ]
     },
     "execution_count": 61,
     "metadata": {},
     "output_type": "execute_result"
    }
   ],
   "source": [
    "np.sqrt(2*(300-5))"
   ]
  },
  {
   "cell_type": "code",
   "execution_count": null,
   "id": "c6f6488a",
   "metadata": {},
   "outputs": [],
   "source": []
  },
  {
   "cell_type": "code",
   "execution_count": 115,
   "id": "e76ab4b3",
   "metadata": {},
   "outputs": [
    {
     "name": "stdout",
     "output_type": "stream",
     "text": [
      "106225.47340026271\n",
      "4234.473400262708\n"
     ]
    }
   ],
   "source": [
    "S0 = 101991\n",
    "S = S0\n",
    "\n",
    "n = 2 # months\n",
    "\n",
    "for i in range(n):\n",
    "    S += S * 0.25 * (30/365)\n",
    "print(S)\n",
    "print(S-S0)"
   ]
  },
  {
   "cell_type": "code",
   "execution_count": 89,
   "id": "50bad7f4",
   "metadata": {},
   "outputs": [
    {
     "data": {
      "text/plain": [
       "20.6"
      ]
     },
     "execution_count": 89,
     "metadata": {},
     "output_type": "execute_result"
    }
   ],
   "source": [
    "2+3.6+15"
   ]
  },
  {
   "cell_type": "code",
   "execution_count": null,
   "id": "fee80db6",
   "metadata": {},
   "outputs": [],
   "source": []
  },
  {
   "cell_type": "code",
   "execution_count": null,
   "id": "e64a944a",
   "metadata": {},
   "outputs": [],
   "source": []
  },
  {
   "cell_type": "code",
   "execution_count": null,
   "id": "9344cf88",
   "metadata": {},
   "outputs": [],
   "source": []
  }
 ],
 "metadata": {
  "kernelspec": {
   "display_name": "Python 3",
   "language": "python",
   "name": "python3"
  },
  "language_info": {
   "codemirror_mode": {
    "name": "ipython",
    "version": 3
   },
   "file_extension": ".py",
   "mimetype": "text/x-python",
   "name": "python",
   "nbconvert_exporter": "python",
   "pygments_lexer": "ipython3",
   "version": "3.8.8"
  }
 },
 "nbformat": 4,
 "nbformat_minor": 5
}
