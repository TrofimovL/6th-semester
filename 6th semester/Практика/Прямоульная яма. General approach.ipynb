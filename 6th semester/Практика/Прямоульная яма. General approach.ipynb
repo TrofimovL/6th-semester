{
 "cells": [
  {
   "cell_type": "code",
   "execution_count": 23,
   "id": "3aa42a13",
   "metadata": {},
   "outputs": [],
   "source": [
    "import matplotlib.pyplot as plt\n",
    "import matplotlib.ticker as ticker\n",
    "import numpy as np\n",
    "import math\n",
    "from math import comb as c"
   ]
  },
  {
   "cell_type": "markdown",
   "id": "4f7b2389",
   "metadata": {},
   "source": [
    "# Bringing in the spectrum"
   ]
  },
  {
   "cell_type": "code",
   "execution_count": 179,
   "id": "fd732d9c",
   "metadata": {},
   "outputs": [],
   "source": [
    "E_ceiling = 40\n",
    "\n",
    "info = []\n",
    "\n",
    "for n1 in range(0, E_ceiling+1):\n",
    "    for n2 in range(0, E_ceiling+1):\n",
    "        for n3 in range(0, E_ceiling+1):\n",
    "            E = n1 + n2 + n3\n",
    "            if 0 <= E <= E_ceiling:\n",
    "                info.append([[n1, n2, n3], '+', E])\n",
    "                info.append([[n1, n2, n3], '-', E])"
   ]
  },
  {
   "cell_type": "code",
   "execution_count": 7,
   "id": "543a7506",
   "metadata": {},
   "outputs": [],
   "source": [
    "E_ceiling = 38\n",
    "\n",
    "info = []\n",
    "for n1 in range(1, 33):\n",
    "    for n2 in range(1, 33):\n",
    "        for n3 in range(1, 33):\n",
    "            E = n1**2 + n2**2 + n3**2\n",
    "            if E <= 40:\n",
    "                info.append([[n1, n2, n3], '+', E])\n",
    "                info.append([[n1, n2, n3], '-', E])"
   ]
  },
  {
   "cell_type": "code",
   "execution_count": 4,
   "id": "e71f5652",
   "metadata": {},
   "outputs": [
    {
     "name": "stdout",
     "output_type": "stream",
     "text": [
      "[[1, 1, 1], '+', 3]\n",
      "[[1, 1, 1], '-', 3]\n",
      "[[1, 1, 2], '+', 6]\n",
      "[[1, 1, 2], '-', 6]\n",
      "[[1, 2, 1], '+', 6]\n",
      "[[1, 2, 1], '-', 6]\n",
      "[[2, 1, 1], '+', 6]\n",
      "[[2, 1, 1], '-', 6]\n",
      "[[1, 2, 2], '+', 9]\n",
      "[[1, 2, 2], '-', 9]\n",
      "[[2, 1, 2], '+', 9]\n",
      "[[2, 1, 2], '-', 9]\n",
      "[[2, 2, 1], '+', 9]\n",
      "[[2, 2, 1], '-', 9]\n",
      "[[1, 1, 3], '+', 11]\n",
      "[[1, 1, 3], '-', 11]\n",
      "[[1, 3, 1], '+', 11]\n",
      "[[1, 3, 1], '-', 11]\n",
      "[[3, 1, 1], '+', 11]\n",
      "[[3, 1, 1], '-', 11]\n",
      "[[2, 2, 2], '+', 12]\n",
      "[[2, 2, 2], '-', 12]\n",
      "[[1, 2, 3], '+', 14]\n",
      "[[1, 2, 3], '-', 14]\n",
      "[[1, 3, 2], '+', 14]\n",
      "[[1, 3, 2], '-', 14]\n",
      "[[2, 1, 3], '+', 14]\n",
      "[[2, 1, 3], '-', 14]\n",
      "[[2, 3, 1], '+', 14]\n",
      "[[2, 3, 1], '-', 14]\n",
      "[[3, 1, 2], '+', 14]\n",
      "[[3, 1, 2], '-', 14]\n",
      "[[3, 2, 1], '+', 14]\n",
      "[[3, 2, 1], '-', 14]\n",
      "[[2, 2, 3], '+', 17]\n",
      "[[2, 2, 3], '-', 17]\n",
      "[[2, 3, 2], '+', 17]\n",
      "[[2, 3, 2], '-', 17]\n",
      "[[3, 2, 2], '+', 17]\n",
      "[[3, 2, 2], '-', 17]\n",
      "[[1, 1, 4], '+', 18]\n",
      "[[1, 1, 4], '-', 18]\n",
      "[[1, 4, 1], '+', 18]\n",
      "[[1, 4, 1], '-', 18]\n",
      "[[4, 1, 1], '+', 18]\n",
      "[[4, 1, 1], '-', 18]\n",
      "[[1, 3, 3], '+', 19]\n",
      "[[1, 3, 3], '-', 19]\n",
      "[[3, 1, 3], '+', 19]\n",
      "[[3, 1, 3], '-', 19]\n",
      "[[3, 3, 1], '+', 19]\n",
      "[[3, 3, 1], '-', 19]\n",
      "[[1, 2, 4], '+', 21]\n",
      "[[1, 2, 4], '-', 21]\n",
      "[[1, 4, 2], '+', 21]\n",
      "[[1, 4, 2], '-', 21]\n",
      "[[2, 1, 4], '+', 21]\n",
      "[[2, 1, 4], '-', 21]\n",
      "[[2, 4, 1], '+', 21]\n",
      "[[2, 4, 1], '-', 21]\n",
      "[[4, 1, 2], '+', 21]\n",
      "[[4, 1, 2], '-', 21]\n",
      "[[4, 2, 1], '+', 21]\n",
      "[[4, 2, 1], '-', 21]\n",
      "[[2, 3, 3], '+', 22]\n",
      "[[2, 3, 3], '-', 22]\n",
      "[[3, 2, 3], '+', 22]\n",
      "[[3, 2, 3], '-', 22]\n",
      "[[3, 3, 2], '+', 22]\n",
      "[[3, 3, 2], '-', 22]\n",
      "[[2, 2, 4], '+', 24]\n",
      "[[2, 2, 4], '-', 24]\n",
      "[[2, 4, 2], '+', 24]\n",
      "[[2, 4, 2], '-', 24]\n",
      "[[4, 2, 2], '+', 24]\n",
      "[[4, 2, 2], '-', 24]\n",
      "[[1, 3, 4], '+', 26]\n",
      "[[1, 3, 4], '-', 26]\n",
      "[[1, 4, 3], '+', 26]\n",
      "[[1, 4, 3], '-', 26]\n",
      "[[3, 1, 4], '+', 26]\n",
      "[[3, 1, 4], '-', 26]\n",
      "[[3, 4, 1], '+', 26]\n",
      "[[3, 4, 1], '-', 26]\n",
      "[[4, 1, 3], '+', 26]\n",
      "[[4, 1, 3], '-', 26]\n",
      "[[4, 3, 1], '+', 26]\n",
      "[[4, 3, 1], '-', 26]\n",
      "[[1, 1, 5], '+', 27]\n",
      "[[1, 1, 5], '-', 27]\n",
      "[[1, 5, 1], '+', 27]\n",
      "[[1, 5, 1], '-', 27]\n",
      "[[3, 3, 3], '+', 27]\n",
      "[[3, 3, 3], '-', 27]\n",
      "[[5, 1, 1], '+', 27]\n",
      "[[5, 1, 1], '-', 27]\n",
      "[[2, 3, 4], '+', 29]\n",
      "[[2, 3, 4], '-', 29]\n",
      "[[2, 4, 3], '+', 29]\n",
      "[[2, 4, 3], '-', 29]\n",
      "[[3, 2, 4], '+', 29]\n",
      "[[3, 2, 4], '-', 29]\n",
      "[[3, 4, 2], '+', 29]\n",
      "[[3, 4, 2], '-', 29]\n",
      "[[4, 2, 3], '+', 29]\n",
      "[[4, 2, 3], '-', 29]\n",
      "[[4, 3, 2], '+', 29]\n",
      "[[4, 3, 2], '-', 29]\n",
      "[[1, 2, 5], '+', 30]\n",
      "[[1, 2, 5], '-', 30]\n",
      "[[1, 5, 2], '+', 30]\n",
      "[[1, 5, 2], '-', 30]\n",
      "[[2, 1, 5], '+', 30]\n",
      "[[2, 1, 5], '-', 30]\n",
      "[[2, 5, 1], '+', 30]\n",
      "[[2, 5, 1], '-', 30]\n",
      "[[5, 1, 2], '+', 30]\n",
      "[[5, 1, 2], '-', 30]\n",
      "[[5, 2, 1], '+', 30]\n",
      "[[5, 2, 1], '-', 30]\n",
      "[[1, 4, 4], '+', 33]\n",
      "[[1, 4, 4], '-', 33]\n",
      "[[2, 2, 5], '+', 33]\n",
      "[[2, 2, 5], '-', 33]\n",
      "[[2, 5, 2], '+', 33]\n",
      "[[2, 5, 2], '-', 33]\n",
      "[[4, 1, 4], '+', 33]\n",
      "[[4, 1, 4], '-', 33]\n",
      "[[4, 4, 1], '+', 33]\n",
      "[[4, 4, 1], '-', 33]\n",
      "[[5, 2, 2], '+', 33]\n",
      "[[5, 2, 2], '-', 33]\n",
      "[[3, 3, 4], '+', 34]\n",
      "[[3, 3, 4], '-', 34]\n",
      "[[3, 4, 3], '+', 34]\n",
      "[[3, 4, 3], '-', 34]\n",
      "[[4, 3, 3], '+', 34]\n",
      "[[4, 3, 3], '-', 34]\n",
      "[[1, 3, 5], '+', 35]\n",
      "[[1, 3, 5], '-', 35]\n",
      "[[1, 5, 3], '+', 35]\n",
      "[[1, 5, 3], '-', 35]\n",
      "[[3, 1, 5], '+', 35]\n",
      "[[3, 1, 5], '-', 35]\n",
      "[[3, 5, 1], '+', 35]\n",
      "[[3, 5, 1], '-', 35]\n",
      "[[5, 1, 3], '+', 35]\n",
      "[[5, 1, 3], '-', 35]\n",
      "[[5, 3, 1], '+', 35]\n",
      "[[5, 3, 1], '-', 35]\n",
      "[[2, 4, 4], '+', 36]\n",
      "[[2, 4, 4], '-', 36]\n",
      "[[4, 2, 4], '+', 36]\n",
      "[[4, 2, 4], '-', 36]\n",
      "[[4, 4, 2], '+', 36]\n",
      "[[4, 4, 2], '-', 36]\n",
      "[[1, 1, 6], '+', 38]\n",
      "[[1, 1, 6], '-', 38]\n",
      "[[1, 6, 1], '+', 38]\n",
      "[[1, 6, 1], '-', 38]\n",
      "[[2, 3, 5], '+', 38]\n",
      "[[2, 3, 5], '-', 38]\n",
      "[[2, 5, 3], '+', 38]\n",
      "[[2, 5, 3], '-', 38]\n",
      "[[3, 2, 5], '+', 38]\n",
      "[[3, 2, 5], '-', 38]\n",
      "[[3, 5, 2], '+', 38]\n",
      "[[3, 5, 2], '-', 38]\n",
      "[[5, 2, 3], '+', 38]\n",
      "[[5, 2, 3], '-', 38]\n",
      "[[5, 3, 2], '+', 38]\n",
      "[[5, 3, 2], '-', 38]\n",
      "[[6, 1, 1], '+', 38]\n",
      "[[6, 1, 1], '-', 38]\n"
     ]
    }
   ],
   "source": [
    "def custom_key0(k):\n",
    "    return int(str(k[0][0])+str(k[0][1])+str(k[0][2]))\n",
    "def custom_key1(k):\n",
    "    return k[1]\n",
    "def custom_key2(k):\n",
    "    return k[2]\n",
    "\n",
    "info.sort(key=custom_key0)\n",
    "info.sort(key=custom_key2)\n",
    "\n",
    "# del info[0]\n",
    "# del info[0]\n",
    "\n",
    "for i in range(len(info)):\n",
    "    print(info[i])"
   ]
  },
  {
   "cell_type": "code",
   "execution_count": 9,
   "id": "b0008408",
   "metadata": {},
   "outputs": [
    {
     "name": "stdout",
     "output_type": "stream",
     "text": [
      "[0] 3\n",
      "[1] 3\n",
      "[2] 6\n",
      "[3] 6\n",
      "[4] 11\n",
      "[5] 11\n",
      "[6] 18\n",
      "[7] 18\n",
      "[8] 27\n",
      "[9] 27\n",
      "[10] 38\n",
      "[11] 38\n",
      "[12] 6\n",
      "[13] 6\n",
      "[14] 9\n",
      "[15] 9\n",
      "[16] 14\n",
      "[17] 14\n",
      "[18] 21\n",
      "[19] 21\n",
      "[20] 30\n",
      "[21] 30\n",
      "[22] 11\n",
      "[23] 11\n",
      "[24] 14\n",
      "[25] 14\n",
      "[26] 19\n",
      "[27] 19\n",
      "[28] 26\n",
      "[29] 26\n",
      "[30] 35\n",
      "[31] 35\n",
      "[32] 18\n",
      "[33] 18\n",
      "[34] 21\n",
      "[35] 21\n",
      "[36] 26\n",
      "[37] 26\n",
      "[38] 33\n",
      "[39] 33\n",
      "[40] 27\n",
      "[41] 27\n",
      "[42] 30\n",
      "[43] 30\n",
      "[44] 35\n",
      "[45] 35\n",
      "[46] 38\n",
      "[47] 38\n",
      "[48] 6\n",
      "[49] 6\n",
      "[50] 9\n",
      "[51] 9\n",
      "[52] 14\n",
      "[53] 14\n",
      "[54] 21\n",
      "[55] 21\n",
      "[56] 30\n",
      "[57] 30\n",
      "[58] 9\n",
      "[59] 9\n",
      "[60] 12\n",
      "[61] 12\n",
      "[62] 17\n",
      "[63] 17\n",
      "[64] 24\n",
      "[65] 24\n",
      "[66] 33\n",
      "[67] 33\n",
      "[68] 14\n",
      "[69] 14\n",
      "[70] 17\n",
      "[71] 17\n",
      "[72] 22\n",
      "[73] 22\n",
      "[74] 29\n",
      "[75] 29\n",
      "[76] 38\n",
      "[77] 38\n",
      "[78] 21\n",
      "[79] 21\n",
      "[80] 24\n",
      "[81] 24\n",
      "[82] 29\n",
      "[83] 29\n",
      "[84] 36\n",
      "[85] 36\n",
      "[86] 30\n",
      "[87] 30\n",
      "[88] 33\n",
      "[89] 33\n",
      "[90] 38\n",
      "[91] 38\n",
      "[92] 11\n",
      "[93] 11\n",
      "[94] 14\n",
      "[95] 14\n",
      "[96] 19\n",
      "[97] 19\n",
      "[98] 26\n",
      "[99] 26\n",
      "[100] 35\n",
      "[101] 35\n",
      "[102] 14\n",
      "[103] 14\n",
      "[104] 17\n",
      "[105] 17\n",
      "[106] 22\n",
      "[107] 22\n",
      "[108] 29\n",
      "[109] 29\n",
      "[110] 38\n",
      "[111] 38\n",
      "[112] 19\n",
      "[113] 19\n",
      "[114] 22\n",
      "[115] 22\n",
      "[116] 27\n",
      "[117] 27\n",
      "[118] 34\n",
      "[119] 34\n",
      "[120] 26\n",
      "[121] 26\n",
      "[122] 29\n",
      "[123] 29\n",
      "[124] 34\n",
      "[125] 34\n",
      "[126] 35\n",
      "[127] 35\n",
      "[128] 38\n",
      "[129] 38\n",
      "[130] 18\n",
      "[131] 18\n",
      "[132] 21\n",
      "[133] 21\n",
      "[134] 26\n",
      "[135] 26\n",
      "[136] 33\n",
      "[137] 33\n",
      "[138] 21\n",
      "[139] 21\n",
      "[140] 24\n",
      "[141] 24\n",
      "[142] 29\n",
      "[143] 29\n",
      "[144] 36\n",
      "[145] 36\n",
      "[146] 26\n",
      "[147] 26\n",
      "[148] 29\n",
      "[149] 29\n",
      "[150] 34\n",
      "[151] 34\n",
      "[152] 33\n",
      "[153] 33\n",
      "[154] 36\n",
      "[155] 36\n",
      "[156] 27\n",
      "[157] 27\n",
      "[158] 30\n",
      "[159] 30\n",
      "[160] 35\n",
      "[161] 35\n",
      "[162] 30\n",
      "[163] 30\n",
      "[164] 33\n",
      "[165] 33\n",
      "[166] 38\n",
      "[167] 38\n",
      "[168] 35\n",
      "[169] 35\n",
      "[170] 38\n",
      "[171] 38\n",
      "[172] 38\n",
      "[173] 38\n",
      "174\n"
     ]
    }
   ],
   "source": [
    "E = []\n",
    "\n",
    "for i in range(len(info)):\n",
    "    E.append(info[i][2])\n",
    "    \n",
    "for i in range(len(E)):\n",
    "    print(\"[\" + str(i) + \"] \" + str(E[i]))\n",
    "    \n",
    "print(len(E))"
   ]
  },
  {
   "cell_type": "markdown",
   "id": "8ac859e0",
   "metadata": {},
   "source": [
    "# The spectrum by energies"
   ]
  },
  {
   "cell_type": "code",
   "execution_count": 10,
   "id": "39117f15",
   "metadata": {},
   "outputs": [
    {
     "name": "stdout",
     "output_type": "stream",
     "text": [
      "{0: 0, 1: 0, 2: 0, 3: 2, 4: 0, 5: 0, 6: 6, 7: 0, 8: 0, 9: 6, 10: 0, 11: 6, 12: 2, 13: 0, 14: 12, 15: 0, 16: 0, 17: 6, 18: 6, 19: 6, 20: 0, 21: 12, 22: 6, 23: 0, 24: 6, 25: 0, 26: 12, 27: 8, 28: 0, 29: 12, 30: 12, 31: 0, 32: 0, 33: 12, 34: 6, 35: 12, 36: 6, 37: 0, 38: 18}\n"
     ]
    }
   ],
   "source": [
    "Group = {}\n",
    "count = 0\n",
    "\n",
    "for energy in range(0, E_ceiling+1):\n",
    "    for i in range(len(E)):\n",
    "        if E[i] == energy:\n",
    "            count += 1\n",
    "    Group[energy] = count\n",
    "    count = 0\n",
    "print(Group)"
   ]
  },
  {
   "cell_type": "markdown",
   "id": "9f393a6d",
   "metadata": {},
   "source": [
    "# How many particles?"
   ]
  },
  {
   "cell_type": "code",
   "execution_count": 78,
   "id": "ba04cf52",
   "metadata": {},
   "outputs": [],
   "source": [
    "N = 32"
   ]
  },
  {
   "cell_type": "code",
   "execution_count": 79,
   "id": "f390673e",
   "metadata": {},
   "outputs": [
    {
     "name": "stdout",
     "output_type": "stream",
     "text": [
      "Energy of the 32th particle is 14\n",
      "M = 10\n",
      "i = 14\n"
     ]
    }
   ],
   "source": [
    "M = 0\n",
    "count = 0\n",
    "i = 1\n",
    "\n",
    "while count <= N:\n",
    "    count += Group[i]\n",
    "    i += 1\n",
    "i -= 1\n",
    "\n",
    "count = 0\n",
    "for k in range(i-1):\n",
    "    count += Group[k+1]\n",
    "    \n",
    "if N != count:\n",
    "    M = N - count\n",
    "else:\n",
    "    i -= 1\n",
    "    M = Group[i]\n",
    "    \n",
    "print('Energy of the ' + str(N) + 'th particle is ' + str(i))\n",
    "print('M =', M)\n",
    "print('i =', i)"
   ]
  },
  {
   "cell_type": "markdown",
   "id": "d77be9f5",
   "metadata": {},
   "source": [
    "# Designation\n",
    "\n",
    "В документе от 2022 04 27 используются коминации типа C^{\\mathscr{M}}_{M_i}\n",
    "\n",
    "Здесь\n",
    "\n",
    "\\mathscr{M} = M\n",
    "\n",
    "M_i = Group[i]"
   ]
  },
  {
   "cell_type": "code",
   "execution_count": 80,
   "id": "c19eaf00",
   "metadata": {},
   "outputs": [
    {
     "data": {
      "text/plain": [
       "155117520"
      ]
     },
     "execution_count": 80,
     "metadata": {},
     "output_type": "execute_result"
    }
   ],
   "source": [
    "c(30,15)"
   ]
  },
  {
   "cell_type": "markdown",
   "id": "8e23f9c2",
   "metadata": {},
   "source": [
    "# u = 0"
   ]
  },
  {
   "cell_type": "code",
   "execution_count": 81,
   "id": "d0e7355c",
   "metadata": {},
   "outputs": [
    {
     "name": "stdout",
     "output_type": "stream",
     "text": [
      "[66]\n"
     ]
    }
   ],
   "source": [
    "K_n_0 = []\n",
    "\n",
    "K_n_0.append(c(Group[i], M))\n",
    "print(K_n_0)"
   ]
  },
  {
   "cell_type": "markdown",
   "id": "f16f4a88",
   "metadata": {},
   "source": [
    "# u = 1"
   ]
  },
  {
   "cell_type": "code",
   "execution_count": 86,
   "id": "eae3a444",
   "metadata": {},
   "outputs": [
    {
     "name": "stdout",
     "output_type": "stream",
     "text": [
      "[0, 0]\n",
      "0\n"
     ]
    }
   ],
   "source": [
    "K_n_1 = []\n",
    "\n",
    "K_n_1.append( Group[i+1]*c(Group[i], M-1) )\n",
    "K_n_1.append( Group[i-1]*c(Group[i], M+1) )\n",
    "print(K_n_1)\n",
    "print(sum(K_n_1))"
   ]
  },
  {
   "cell_type": "markdown",
   "id": "1e70a448",
   "metadata": {},
   "source": [
    "# u = 2"
   ]
  },
  {
   "cell_type": "code",
   "execution_count": 99,
   "id": "93cf4693",
   "metadata": {},
   "outputs": [
    {
     "ename": "ValueError",
     "evalue": "k must be a non-negative integer",
     "output_type": "error",
     "traceback": [
      "\u001b[1;31m---------------------------------------------------------------------------\u001b[0m",
      "\u001b[1;31mValueError\u001b[0m                                Traceback (most recent call last)",
      "\u001b[1;32m<ipython-input-99-ff6511d53211>\u001b[0m in \u001b[0;36m<module>\u001b[1;34m\u001b[0m\n\u001b[0;32m      4\u001b[0m \u001b[0mK_n_2\u001b[0m\u001b[1;33m.\u001b[0m\u001b[0mappend\u001b[0m\u001b[1;33m(\u001b[0m \u001b[0mc\u001b[0m\u001b[1;33m(\u001b[0m\u001b[0mGroup\u001b[0m\u001b[1;33m[\u001b[0m\u001b[0mi\u001b[0m\u001b[1;33m+\u001b[0m\u001b[1;36m1\u001b[0m\u001b[1;33m]\u001b[0m\u001b[1;33m,\u001b[0m \u001b[1;36m2\u001b[0m\u001b[1;33m)\u001b[0m \u001b[1;33m*\u001b[0m \u001b[0mc\u001b[0m\u001b[1;33m(\u001b[0m\u001b[0mGroup\u001b[0m\u001b[1;33m[\u001b[0m\u001b[0mi\u001b[0m\u001b[1;33m]\u001b[0m\u001b[1;33m,\u001b[0m \u001b[0mM\u001b[0m\u001b[1;33m-\u001b[0m\u001b[1;36m2\u001b[0m\u001b[1;33m)\u001b[0m \u001b[1;33m)\u001b[0m\u001b[1;33m\u001b[0m\u001b[1;33m\u001b[0m\u001b[0m\n\u001b[0;32m      5\u001b[0m \u001b[0mK_n_2\u001b[0m\u001b[1;33m.\u001b[0m\u001b[0mappend\u001b[0m\u001b[1;33m(\u001b[0m \u001b[0mGroup\u001b[0m\u001b[1;33m[\u001b[0m\u001b[0mi\u001b[0m\u001b[1;33m+\u001b[0m\u001b[1;36m1\u001b[0m\u001b[1;33m]\u001b[0m \u001b[1;33m*\u001b[0m \u001b[0mGroup\u001b[0m\u001b[1;33m[\u001b[0m\u001b[0mi\u001b[0m\u001b[1;33m-\u001b[0m\u001b[1;36m1\u001b[0m\u001b[1;33m]\u001b[0m \u001b[1;33m*\u001b[0m \u001b[0mc\u001b[0m\u001b[1;33m(\u001b[0m\u001b[0mGroup\u001b[0m\u001b[1;33m[\u001b[0m\u001b[0mi\u001b[0m\u001b[1;33m]\u001b[0m\u001b[1;33m,\u001b[0m \u001b[0mM\u001b[0m\u001b[1;33m)\u001b[0m \u001b[1;33m)\u001b[0m\u001b[1;33m\u001b[0m\u001b[1;33m\u001b[0m\u001b[0m\n\u001b[1;32m----> 6\u001b[1;33m \u001b[0mK_n_2\u001b[0m\u001b[1;33m.\u001b[0m\u001b[0mappend\u001b[0m\u001b[1;33m(\u001b[0m \u001b[0mc\u001b[0m\u001b[1;33m(\u001b[0m\u001b[0mGroup\u001b[0m\u001b[1;33m[\u001b[0m\u001b[0mi\u001b[0m\u001b[1;33m]\u001b[0m\u001b[1;33m,\u001b[0m \u001b[0mM\u001b[0m\u001b[1;33m+\u001b[0m\u001b[1;36m2\u001b[0m\u001b[1;33m)\u001b[0m \u001b[1;33m*\u001b[0m \u001b[0mc\u001b[0m\u001b[1;33m(\u001b[0m\u001b[0mGroup\u001b[0m\u001b[1;33m[\u001b[0m\u001b[0mi\u001b[0m\u001b[1;33m-\u001b[0m\u001b[1;36m1\u001b[0m\u001b[1;33m]\u001b[0m\u001b[1;33m,\u001b[0m \u001b[0mGroup\u001b[0m\u001b[1;33m[\u001b[0m\u001b[0mi\u001b[0m\u001b[1;33m-\u001b[0m\u001b[1;36m1\u001b[0m\u001b[1;33m]\u001b[0m\u001b[1;33m-\u001b[0m\u001b[1;36m2\u001b[0m\u001b[1;33m)\u001b[0m \u001b[1;33m)\u001b[0m\u001b[1;33m\u001b[0m\u001b[1;33m\u001b[0m\u001b[0m\n\u001b[0m\u001b[0;32m      7\u001b[0m \u001b[0mK_n_2\u001b[0m\u001b[1;33m.\u001b[0m\u001b[0mappend\u001b[0m\u001b[1;33m(\u001b[0m \u001b[0mc\u001b[0m\u001b[1;33m(\u001b[0m\u001b[0mGroup\u001b[0m\u001b[1;33m[\u001b[0m\u001b[0mi\u001b[0m\u001b[1;33m]\u001b[0m\u001b[1;33m,\u001b[0m \u001b[0mM\u001b[0m\u001b[1;33m+\u001b[0m\u001b[1;36m1\u001b[0m\u001b[1;33m)\u001b[0m \u001b[1;33m*\u001b[0m \u001b[0mGroup\u001b[0m\u001b[1;33m[\u001b[0m\u001b[0mi\u001b[0m\u001b[1;33m-\u001b[0m\u001b[1;36m2\u001b[0m\u001b[1;33m]\u001b[0m\u001b[1;33m)\u001b[0m\u001b[1;33m\u001b[0m\u001b[1;33m\u001b[0m\u001b[0m\n\u001b[0;32m      8\u001b[0m \u001b[0mprint\u001b[0m\u001b[1;33m(\u001b[0m\u001b[0mK_n_2\u001b[0m\u001b[1;33m)\u001b[0m\u001b[1;33m\u001b[0m\u001b[1;33m\u001b[0m\u001b[0m\n",
      "\u001b[1;31mValueError\u001b[0m: k must be a non-negative integer"
     ]
    }
   ],
   "source": [
    "K_n_2 = []\n",
    "\n",
    "K_n_2.append( Group[i+2] * c(Group[i], M-1) )\n",
    "K_n_2.append( c(Group[i+1], 2) * c(Group[i], M-2) )\n",
    "K_n_2.append( Group[i+1] * Group[i-1] * c(Group[i], M) )\n",
    "K_n_2.append( c(Group[i], M+2) * c(Group[i-1], Group[i-1]-2) )\n",
    "K_n_2.append( c(Group[i], M+1) * Group[i-2])\n",
    "print(K_n_2)\n",
    "print(sum(K_n_2))"
   ]
  },
  {
   "cell_type": "code",
   "execution_count": 88,
   "id": "aca08f30",
   "metadata": {},
   "outputs": [],
   "source": [
    "# K_n_3 = []\n",
    "\n",
    "# K_n_3.append( Group[i+3] * c(Group[i], M-1) )\n",
    "# K_n_3.append( Group[i+2] * Group[i+1] * c(Group[i], M-2) )\n",
    "# K_n_3.append( c(Group[i+1], 3) * c(Group[i], M-3) )\n",
    "# K_n_3.append( Group[i+2] * Group[i-1] * c(Group[i], M) )\n",
    "# K_n_3.append( Group[i+1] * c(Group[i], M + 1) * c(Group[i-1], Group[i-1]-2) )\n",
    "# K_n_3.append( c(Group[i], M+3) * c(Group[i-1], Group[i-1]-3) )\n",
    "# #K_n_3.append( Group[i+1] * c(Group[i], M) * Group[i-2] )\n",
    "# #K_n_3.append( c(Group[i], M+2) * Group[i-1] * Group[i-2] )\n",
    "# #K_n_3.append( c(Group[i], M+1) * Group[i-3] )\n",
    "# print(K_n_3)\n",
    "# print(sum(K_n_3))"
   ]
  },
  {
   "cell_type": "code",
   "execution_count": null,
   "id": "4e822773",
   "metadata": {},
   "outputs": [],
   "source": []
  },
  {
   "cell_type": "code",
   "execution_count": 89,
   "id": "8068832b",
   "metadata": {},
   "outputs": [
    {
     "data": {
      "text/plain": [
       "1.7272239597842887"
      ]
     },
     "execution_count": 89,
     "metadata": {},
     "output_type": "execute_result"
    }
   ],
   "source": [
    "math.log10(53.361)"
   ]
  },
  {
   "cell_type": "markdown",
   "id": "5539cfb9",
   "metadata": {},
   "source": [
    "# Finding K_n"
   ]
  },
  {
   "cell_type": "code",
   "execution_count": 90,
   "id": "90d49dad",
   "metadata": {},
   "outputs": [
    {
     "name": "stdout",
     "output_type": "stream",
     "text": [
      "[66, 24, 24]\n"
     ]
    }
   ],
   "source": [
    "K_n = []\n",
    "\n",
    "K_n.append(sum(K_n_0))\n",
    "K_n.append(sum(K_n_2))\n",
    "K_n.append(sum(K_n_2))\n",
    "print(K_n)"
   ]
  },
  {
   "cell_type": "markdown",
   "id": "58a203fa",
   "metadata": {},
   "source": [
    "# Finding K"
   ]
  },
  {
   "cell_type": "code",
   "execution_count": 91,
   "id": "f5dbb2f7",
   "metadata": {},
   "outputs": [],
   "source": [
    "K = []\n",
    "log10K = []"
   ]
  },
  {
   "cell_type": "markdown",
   "id": "52fe121a",
   "metadata": {},
   "source": [
    "## u = 0"
   ]
  },
  {
   "cell_type": "code",
   "execution_count": 92,
   "id": "29f4d905",
   "metadata": {},
   "outputs": [
    {
     "name": "stdout",
     "output_type": "stream",
     "text": [
      "j = 0 K_n_0 = 66 U_excited-i = 0 K_u = 66\n",
      "4356\n",
      "log10: 3.6390878710837375\n"
     ]
    }
   ],
   "source": [
    "U_excited = 0\n",
    "num_of_iters = U_excited + 1\n",
    "K_total = 0\n",
    "\n",
    "for j in range(num_of_iters):\n",
    "    K_total += K_n[j] * K_n[U_excited-j]\n",
    "    print(\"j =\", j, \"K_n_0 =\", K_n_0[j], \"U_excited-i =\", U_excited-j, \"K_u =\", K_n_0[U_excited-j])\n",
    "K.append(K_total)\n",
    "log10K.append(math.log10(K_total))\n",
    "\n",
    "print(K_total)\n",
    "print('log10:', math.log10(K_total))"
   ]
  },
  {
   "cell_type": "markdown",
   "id": "9ce4d2f1",
   "metadata": {},
   "source": [
    "## u = 1"
   ]
  },
  {
   "cell_type": "code",
   "execution_count": 93,
   "id": "87d993a2",
   "metadata": {},
   "outputs": [
    {
     "name": "stdout",
     "output_type": "stream",
     "text": [
      "3168\n",
      "log10: 3.500785172917456\n"
     ]
    }
   ],
   "source": [
    "U_excited = 1\n",
    "num_of_iters = U_excited + 1\n",
    "K_total = 0\n",
    "\n",
    "for j in range(num_of_iters):\n",
    "    K_total += K_n[j] * K_n[U_excited-j]\n",
    "K.append(K_total)\n",
    "log10K.append(math.log10(K_total))\n",
    "    \n",
    "print(K_total)\n",
    "print('log10:', math.log10(K_total))"
   ]
  },
  {
   "cell_type": "markdown",
   "id": "617319d1",
   "metadata": {},
   "source": [
    "## u = 2"
   ]
  },
  {
   "cell_type": "code",
   "execution_count": 94,
   "id": "2a25cd8c",
   "metadata": {},
   "outputs": [
    {
     "name": "stdout",
     "output_type": "stream",
     "text": [
      "3744\n",
      "log10: 3.5733358400660675\n"
     ]
    }
   ],
   "source": [
    "U_excited = 2\n",
    "num_of_iters = U_excited + 1\n",
    "K_total = 0\n",
    "\n",
    "for j in range(num_of_iters):\n",
    "    K_total += K_n[j] * K_n[U_excited-j]\n",
    "K.append(K_total)\n",
    "log10K.append(math.log10(K_total))\n",
    "\n",
    "print(K_total)\n",
    "print('log10:', math.log10(K_total))"
   ]
  },
  {
   "cell_type": "markdown",
   "id": "a38ebcc7",
   "metadata": {},
   "source": [
    "## u = 3"
   ]
  },
  {
   "cell_type": "code",
   "execution_count": 95,
   "id": "cc3a1ab7",
   "metadata": {},
   "outputs": [],
   "source": [
    "# U_excited = 3\n",
    "# num_of_iters = U_excited + 1\n",
    "# K_total = 0\n",
    "\n",
    "# for j in range(num_of_iters):\n",
    "#     K_total += K_n[j] * K_n[U_excited-j]\n",
    "# K.append(K_total)\n",
    "# log10K.append(math.log10(K_total))\n",
    "\n",
    "# print(K_total)\n",
    "# print('log10:', math.log10(K_total))"
   ]
  },
  {
   "cell_type": "code",
   "execution_count": null,
   "id": "f67d9b13",
   "metadata": {},
   "outputs": [],
   "source": []
  },
  {
   "cell_type": "markdown",
   "id": "91c7ffa2",
   "metadata": {},
   "source": [
    "# Plot"
   ]
  },
  {
   "cell_type": "code",
   "execution_count": 96,
   "id": "ae4dc16d",
   "metadata": {},
   "outputs": [
    {
     "name": "stdout",
     "output_type": "stream",
     "text": [
      "[4356, 3168, 3744]\n",
      "[3.6390878710837375, 3.500785172917456, 3.5733358400660675]\n"
     ]
    }
   ],
   "source": [
    "print(K)\n",
    "print(log10K)"
   ]
  },
  {
   "cell_type": "code",
   "execution_count": 97,
   "id": "0d70332a",
   "metadata": {},
   "outputs": [
    {
     "name": "stdout",
     "output_type": "stream",
     "text": [
      "[0, 1, 2]\n"
     ]
    }
   ],
   "source": [
    "u = [] # x axis\n",
    "for l in range(len(K)):\n",
    "    u.append(l)\n",
    "print(u)"
   ]
  },
  {
   "cell_type": "code",
   "execution_count": 98,
   "id": "2fa73b4d",
   "metadata": {},
   "outputs": [
    {
     "data": {
      "text/plain": [
       "<matplotlib.legend.Legend at 0x28f64754a00>"
      ]
     },
     "execution_count": 98,
     "metadata": {},
     "output_type": "execute_result"
    },
    {
     "data": {
      "image/png": "[encoded data removed]",
      "text/plain": [
       "<Figure size 864x432 with 1 Axes>"
      ]
     },
     "metadata": {
      "needs_background": "light"
     },
     "output_type": "display_data"
    }
   ],
   "source": [
    "a = 11\n",
    "def line(U):\n",
    "    return (math.sqrt(math.pi)/12) * math.exp(2*math.sqrt(a*U)) / (a**(1/4) * U**(5/4))\n",
    "\n",
    "capote_line = []\n",
    "capote_line.append([])\n",
    "capote_line.append([])\n",
    "\n",
    "for j in range(10): #len(K)*2\n",
    "    capote_line[0].append(1+j/2)\n",
    "    capote_line[1].append(line(1+j/2))\n",
    "\n",
    "log_capote_line = []\n",
    "for j in range(10):\n",
    "    log_capote_line.append(math.log10(capote_line[1][j]))\n",
    "\n",
    "    \n",
    "    \n",
    "x = [0, 2, 3]\n",
    "y = [log10K[0], log10K[2]]\n",
    "k = (log10K[2] - log10K[0])/2\n",
    "y.append(log10K[2] + 1*k)\n",
    "\n",
    "\n",
    "fig, graph = plt.subplots(figsize=(12,6))\n",
    "graph.set_xlabel('Безразмерная энергия возбуждения, u')\n",
    "graph.set_ylabel('lg(ΔN)')\n",
    "\n",
    "graph.xaxis.set_major_locator(ticker.MultipleLocator(1))\n",
    "graph.yaxis.set_major_locator(ticker.MultipleLocator(2))\n",
    "graph.grid(which='major',\n",
    "        color = 'k')\n",
    "graph.minorticks_on()\n",
    "graph.grid(which='minor',\n",
    "        color = 'gray',\n",
    "        linestyle = ':')\n",
    "\n",
    "label_1 = 'Полученные данные, N = Z = ' + str(N)\n",
    "label_2 = 'Формула при безразмерном \\n параметре a = ' + str(a)\n",
    "\n",
    "graph.scatter(u, log10K, label = label_1, color = 'blue', s = 40)\n",
    "graph.plot(x, y, color = 'black')\n",
    "graph.plot(capote_line[0], log_capote_line, label = label_2, color = 'red')\n",
    "\n",
    "graph.set(xlim=(0,6))\n",
    "#graph.set(ylim=(0,20))\n",
    "graph.legend()"
   ]
  },
  {
   "cell_type": "code",
   "execution_count": null,
   "id": "bfcdc026",
   "metadata": {},
   "outputs": [],
   "source": []
  },
  {
   "cell_type": "code",
   "execution_count": null,
   "id": "a9810ef4",
   "metadata": {},
   "outputs": [],
   "source": []
  },
  {
   "cell_type": "code",
   "execution_count": null,
   "id": "f7603a9a",
   "metadata": {},
   "outputs": [],
   "source": []
  },
  {
   "cell_type": "code",
   "execution_count": null,
   "id": "49312053",
   "metadata": {},
   "outputs": [],
   "source": []
  },
  {
   "cell_type": "code",
   "execution_count": null,
   "id": "3cb331e3",
   "metadata": {},
   "outputs": [],
   "source": []
  },
  {
   "cell_type": "code",
   "execution_count": null,
   "id": "7a7b9e99",
   "metadata": {},
   "outputs": [],
   "source": []
  },
  {
   "cell_type": "code",
   "execution_count": null,
   "id": "930e79ae",
   "metadata": {},
   "outputs": [],
   "source": []
  },
  {
   "cell_type": "code",
   "execution_count": null,
   "id": "efad041c",
   "metadata": {},
   "outputs": [],
   "source": []
  },
  {
   "cell_type": "code",
   "execution_count": null,
   "id": "58589373",
   "metadata": {},
   "outputs": [],
   "source": []
  },
  {
   "cell_type": "code",
   "execution_count": null,
   "id": "37edcc64",
   "metadata": {},
   "outputs": [],
   "source": []
  },
  {
   "cell_type": "code",
   "execution_count": null,
   "id": "994344a1",
   "metadata": {},
   "outputs": [],
   "source": []
  },
  {
   "cell_type": "code",
   "execution_count": null,
   "id": "35658e24",
   "metadata": {},
   "outputs": [],
   "source": []
  },
  {
   "cell_type": "code",
   "execution_count": null,
   "id": "db61d7d1",
   "metadata": {},
   "outputs": [],
   "source": []
  },
  {
   "cell_type": "code",
   "execution_count": null,
   "id": "5cf32488",
   "metadata": {},
   "outputs": [],
   "source": []
  },
  {
   "cell_type": "code",
   "execution_count": null,
   "id": "4023e0c9",
   "metadata": {},
   "outputs": [],
   "source": []
  },
  {
   "cell_type": "code",
   "execution_count": null,
   "id": "e70675dd",
   "metadata": {},
   "outputs": [],
   "source": []
  },
  {
   "cell_type": "code",
   "execution_count": null,
   "id": "6fe1892c",
   "metadata": {},
   "outputs": [],
   "source": []
  }
 ],
 "metadata": {
  "kernelspec": {
   "display_name": "Python 3",
   "language": "python",
   "name": "python3"
  },
  "language_info": {
   "codemirror_mode": {
    "name": "ipython",
    "version": 3
   },
   "file_extension": ".py",
   "mimetype": "text/x-python",
   "name": "python",
   "nbconvert_exporter": "python",
   "pygments_lexer": "ipython3",
   "version": "3.8.8"
  }
 },
 "nbformat": 4,
 "nbformat_minor": 5
}
