{
 "cells": [
  {
   "cell_type": "markdown",
   "id": "7c405acd",
   "metadata": {},
   "source": [
    "# Description (плотность возбуждённых состояний атомных ядер)\n",
    "1. Определяем квантовые числа n1, n2, n3 состояний (и основных, и возбуждённых), а также спин и энергию.\n",
    "2. Сортируем по энергии.\n",
    "3. Алгоритм перебора всевозможных состояний.\n",
    "4. Получаем результат. Сколько возбуждённых состояний в данном интервале энергии.\n",
    "\n",
    "Не могу полностью понять, как работает этот алгоритм. Запутался в индексах... Всё выдаёт правильно, можно отследить с помощью массива T (другой файл, но алгоритм тот же)."
   ]
  },
  {
   "cell_type": "code",
   "execution_count": 1,
   "id": "6432401d",
   "metadata": {},
   "outputs": [],
   "source": [
    "import matplotlib.pyplot as plt\n",
    "import matplotlib.ticker as ticker\n",
    "import numpy as np\n",
    "import math\n",
    "from math import comb as c"
   ]
  },
  {
   "cell_type": "code",
   "execution_count": 2,
   "id": "682494d3",
   "metadata": {},
   "outputs": [
    {
     "name": "stdout",
     "output_type": "stream",
     "text": [
      "Etot 4362 level_count 174\n"
     ]
    }
   ],
   "source": [
    "N = 20\n",
    "LST = []\n",
    "Etot = 0\n",
    "level_count = 0 \n",
    "n1 = 1\n",
    "n2 = 1\n",
    "n3 = 1\n",
    "for n1 in range(1, 33):\n",
    "    for n2 in range(1, 33):\n",
    "        for n3 in range(1, 33):\n",
    "            E = n1**2 + n2**2 + n3**2\n",
    "            if E <= 40:\n",
    "                Etot += 2*E\n",
    "                level_count += 2\n",
    "                LST.append([[n1, n2, n3], '+', E])\n",
    "                LST.append([[n1, n2, n3], '-', E])\n",
    "print('Etot', Etot, 'level_count', level_count)"
   ]
  },
  {
   "cell_type": "code",
   "execution_count": 3,
   "id": "0f09b6d8",
   "metadata": {},
   "outputs": [
    {
     "name": "stdout",
     "output_type": "stream",
     "text": [
      "1 [[1, 1, 1], '+', 3]\n",
      "2 [[1, 1, 1], '-', 3]\n",
      "3 [[1, 1, 2], '+', 6]\n",
      "4 [[1, 1, 2], '-', 6]\n",
      "5 [[1, 2, 1], '+', 6]\n",
      "6 [[1, 2, 1], '-', 6]\n",
      "7 [[2, 1, 1], '+', 6]\n",
      "8 [[2, 1, 1], '-', 6]\n",
      "9 [[1, 2, 2], '+', 9]\n",
      "10 [[1, 2, 2], '-', 9]\n",
      "11 [[2, 1, 2], '+', 9]\n",
      "12 [[2, 1, 2], '-', 9]\n",
      "13 [[2, 2, 1], '+', 9]\n",
      "14 [[2, 2, 1], '-', 9]\n",
      "15 [[1, 1, 3], '+', 11]\n",
      "16 [[1, 1, 3], '-', 11]\n",
      "17 [[1, 3, 1], '+', 11]\n",
      "18 [[1, 3, 1], '-', 11]\n",
      "19 [[3, 1, 1], '+', 11]\n",
      "20 [[3, 1, 1], '-', 11]\n",
      "21 [[2, 2, 2], '+', 12]\n",
      "22 [[2, 2, 2], '-', 12]\n",
      "23 [[1, 2, 3], '+', 14]\n",
      "24 [[1, 2, 3], '-', 14]\n",
      "25 [[1, 3, 2], '+', 14]\n",
      "26 [[1, 3, 2], '-', 14]\n",
      "27 [[2, 1, 3], '+', 14]\n",
      "28 [[2, 1, 3], '-', 14]\n",
      "29 [[2, 3, 1], '+', 14]\n",
      "30 [[2, 3, 1], '-', 14]\n",
      "31 [[3, 1, 2], '+', 14]\n",
      "32 [[3, 1, 2], '-', 14]\n",
      "33 [[3, 2, 1], '+', 14]\n",
      "34 [[3, 2, 1], '-', 14]\n",
      "35 [[2, 2, 3], '+', 17]\n",
      "36 [[2, 2, 3], '-', 17]\n",
      "37 [[2, 3, 2], '+', 17]\n",
      "38 [[2, 3, 2], '-', 17]\n",
      "39 [[3, 2, 2], '+', 17]\n",
      "40 [[3, 2, 2], '-', 17]\n",
      "41 [[1, 1, 4], '+', 18]\n",
      "42 [[1, 1, 4], '-', 18]\n",
      "43 [[1, 4, 1], '+', 18]\n",
      "44 [[1, 4, 1], '-', 18]\n",
      "45 [[4, 1, 1], '+', 18]\n",
      "46 [[4, 1, 1], '-', 18]\n",
      "47 [[1, 3, 3], '+', 19]\n",
      "48 [[1, 3, 3], '-', 19]\n",
      "49 [[3, 1, 3], '+', 19]\n",
      "50 [[3, 1, 3], '-', 19]\n",
      "51 [[3, 3, 1], '+', 19]\n",
      "52 [[3, 3, 1], '-', 19]\n",
      "53 [[1, 2, 4], '+', 21]\n",
      "54 [[1, 2, 4], '-', 21]\n",
      "55 [[1, 4, 2], '+', 21]\n",
      "56 [[1, 4, 2], '-', 21]\n",
      "57 [[2, 1, 4], '+', 21]\n",
      "58 [[2, 1, 4], '-', 21]\n",
      "59 [[2, 4, 1], '+', 21]\n",
      "60 [[2, 4, 1], '-', 21]\n",
      "61 [[4, 1, 2], '+', 21]\n",
      "62 [[4, 1, 2], '-', 21]\n",
      "63 [[4, 2, 1], '+', 21]\n",
      "64 [[4, 2, 1], '-', 21]\n",
      "65 [[2, 3, 3], '+', 22]\n",
      "66 [[2, 3, 3], '-', 22]\n",
      "67 [[3, 2, 3], '+', 22]\n",
      "68 [[3, 2, 3], '-', 22]\n",
      "69 [[3, 3, 2], '+', 22]\n",
      "70 [[3, 3, 2], '-', 22]\n",
      "71 [[2, 2, 4], '+', 24]\n",
      "72 [[2, 2, 4], '-', 24]\n",
      "73 [[2, 4, 2], '+', 24]\n",
      "74 [[2, 4, 2], '-', 24]\n",
      "75 [[4, 2, 2], '+', 24]\n",
      "76 [[4, 2, 2], '-', 24]\n",
      "77 [[1, 3, 4], '+', 26]\n",
      "78 [[1, 3, 4], '-', 26]\n",
      "79 [[1, 4, 3], '+', 26]\n",
      "80 [[1, 4, 3], '-', 26]\n",
      "81 [[3, 1, 4], '+', 26]\n",
      "82 [[3, 1, 4], '-', 26]\n",
      "83 [[3, 4, 1], '+', 26]\n",
      "84 [[3, 4, 1], '-', 26]\n",
      "85 [[4, 1, 3], '+', 26]\n",
      "86 [[4, 1, 3], '-', 26]\n",
      "87 [[4, 3, 1], '+', 26]\n",
      "88 [[4, 3, 1], '-', 26]\n",
      "89 [[1, 1, 5], '+', 27]\n",
      "90 [[1, 1, 5], '-', 27]\n",
      "91 [[1, 5, 1], '+', 27]\n",
      "92 [[1, 5, 1], '-', 27]\n",
      "93 [[3, 3, 3], '+', 27]\n",
      "94 [[3, 3, 3], '-', 27]\n",
      "95 [[5, 1, 1], '+', 27]\n",
      "96 [[5, 1, 1], '-', 27]\n",
      "97 [[2, 3, 4], '+', 29]\n",
      "98 [[2, 3, 4], '-', 29]\n",
      "99 [[2, 4, 3], '+', 29]\n",
      "100 [[2, 4, 3], '-', 29]\n",
      "101 [[3, 2, 4], '+', 29]\n",
      "102 [[3, 2, 4], '-', 29]\n",
      "103 [[3, 4, 2], '+', 29]\n",
      "104 [[3, 4, 2], '-', 29]\n",
      "105 [[4, 2, 3], '+', 29]\n",
      "106 [[4, 2, 3], '-', 29]\n",
      "107 [[4, 3, 2], '+', 29]\n",
      "108 [[4, 3, 2], '-', 29]\n",
      "109 [[1, 2, 5], '+', 30]\n",
      "110 [[1, 2, 5], '-', 30]\n",
      "111 [[1, 5, 2], '+', 30]\n",
      "112 [[1, 5, 2], '-', 30]\n",
      "113 [[2, 1, 5], '+', 30]\n",
      "114 [[2, 1, 5], '-', 30]\n",
      "115 [[2, 5, 1], '+', 30]\n",
      "116 [[2, 5, 1], '-', 30]\n",
      "117 [[5, 1, 2], '+', 30]\n",
      "118 [[5, 1, 2], '-', 30]\n",
      "119 [[5, 2, 1], '+', 30]\n",
      "120 [[5, 2, 1], '-', 30]\n",
      "121 [[1, 4, 4], '+', 33]\n",
      "122 [[1, 4, 4], '-', 33]\n",
      "123 [[2, 2, 5], '+', 33]\n",
      "124 [[2, 2, 5], '-', 33]\n",
      "125 [[2, 5, 2], '+', 33]\n",
      "126 [[2, 5, 2], '-', 33]\n",
      "127 [[4, 1, 4], '+', 33]\n",
      "128 [[4, 1, 4], '-', 33]\n",
      "129 [[4, 4, 1], '+', 33]\n",
      "130 [[4, 4, 1], '-', 33]\n",
      "131 [[5, 2, 2], '+', 33]\n",
      "132 [[5, 2, 2], '-', 33]\n",
      "133 [[3, 3, 4], '+', 34]\n",
      "134 [[3, 3, 4], '-', 34]\n",
      "135 [[3, 4, 3], '+', 34]\n",
      "136 [[3, 4, 3], '-', 34]\n",
      "137 [[4, 3, 3], '+', 34]\n",
      "138 [[4, 3, 3], '-', 34]\n",
      "139 [[1, 3, 5], '+', 35]\n",
      "140 [[1, 3, 5], '-', 35]\n",
      "141 [[1, 5, 3], '+', 35]\n",
      "142 [[1, 5, 3], '-', 35]\n",
      "143 [[3, 1, 5], '+', 35]\n",
      "144 [[3, 1, 5], '-', 35]\n",
      "145 [[3, 5, 1], '+', 35]\n",
      "146 [[3, 5, 1], '-', 35]\n",
      "147 [[5, 1, 3], '+', 35]\n",
      "148 [[5, 1, 3], '-', 35]\n",
      "149 [[5, 3, 1], '+', 35]\n",
      "150 [[5, 3, 1], '-', 35]\n",
      "151 [[2, 4, 4], '+', 36]\n",
      "152 [[2, 4, 4], '-', 36]\n",
      "153 [[4, 2, 4], '+', 36]\n",
      "154 [[4, 2, 4], '-', 36]\n",
      "155 [[4, 4, 2], '+', 36]\n",
      "156 [[4, 4, 2], '-', 36]\n",
      "157 [[1, 1, 6], '+', 38]\n",
      "158 [[1, 1, 6], '-', 38]\n",
      "159 [[1, 6, 1], '+', 38]\n",
      "160 [[1, 6, 1], '-', 38]\n",
      "161 [[2, 3, 5], '+', 38]\n",
      "162 [[2, 3, 5], '-', 38]\n",
      "163 [[2, 5, 3], '+', 38]\n",
      "164 [[2, 5, 3], '-', 38]\n",
      "165 [[3, 2, 5], '+', 38]\n",
      "166 [[3, 2, 5], '-', 38]\n",
      "167 [[3, 5, 2], '+', 38]\n",
      "168 [[3, 5, 2], '-', 38]\n",
      "169 [[5, 2, 3], '+', 38]\n",
      "170 [[5, 2, 3], '-', 38]\n",
      "171 [[5, 3, 2], '+', 38]\n",
      "172 [[5, 3, 2], '-', 38]\n",
      "173 [[6, 1, 1], '+', 38]\n",
      "174 [[6, 1, 1], '-', 38]\n"
     ]
    }
   ],
   "source": [
    "def custom_key0(k):\n",
    "    return k[0]\n",
    "\n",
    "def custom_key1(k):\n",
    "    return k[1]\n",
    "\n",
    "def custom_key2(k):\n",
    "    return k[2]\n",
    "\n",
    "LST.sort(key=custom_key0)\n",
    "LST.sort(key=custom_key2)\n",
    "level_count = 0\n",
    "for i in LST:\n",
    "    level_count += 1\n",
    "    print(level_count, i)"
   ]
  },
  {
   "cell_type": "code",
   "execution_count": 4,
   "id": "28bda97d",
   "metadata": {},
   "outputs": [
    {
     "name": "stdout",
     "output_type": "stream",
     "text": [
      "1 3\n",
      "2 3\n",
      "3 6\n",
      "4 6\n",
      "5 6\n",
      "6 6\n",
      "7 6\n",
      "8 6\n",
      "9 9\n",
      "10 9\n",
      "11 9\n",
      "12 9\n",
      "13 9\n",
      "14 9\n",
      "15 11\n",
      "16 11\n",
      "17 11\n",
      "18 11\n",
      "19 11\n",
      "20 11\n",
      "21 12\n",
      "22 12\n",
      "23 14\n",
      "24 14\n",
      "25 14\n",
      "26 14\n",
      "27 14\n",
      "28 14\n",
      "29 14\n",
      "30 14\n",
      "31 14\n",
      "32 14\n",
      "33 14\n",
      "34 14\n",
      "35 17\n",
      "36 17\n",
      "37 17\n",
      "38 17\n",
      "39 17\n",
      "40 17\n",
      "41 18\n",
      "42 18\n",
      "43 18\n",
      "44 18\n",
      "45 18\n",
      "46 18\n",
      "47 19\n",
      "48 19\n",
      "49 19\n",
      "50 19\n",
      "51 19\n",
      "52 19\n",
      "53 21\n",
      "54 21\n",
      "55 21\n",
      "56 21\n",
      "57 21\n",
      "58 21\n",
      "59 21\n",
      "60 21\n",
      "61 21\n",
      "62 21\n",
      "63 21\n",
      "64 21\n",
      "65 22\n",
      "66 22\n",
      "67 22\n",
      "68 22\n",
      "69 22\n",
      "70 22\n",
      "71 24\n",
      "72 24\n",
      "73 24\n",
      "74 24\n",
      "75 24\n",
      "76 24\n",
      "77 26\n",
      "78 26\n",
      "79 26\n",
      "80 26\n",
      "81 26\n",
      "82 26\n",
      "83 26\n",
      "84 26\n",
      "85 26\n",
      "86 26\n",
      "87 26\n",
      "88 26\n",
      "89 27\n",
      "90 27\n",
      "91 27\n",
      "92 27\n",
      "93 27\n",
      "94 27\n",
      "95 27\n",
      "96 27\n",
      "97 29\n",
      "98 29\n",
      "99 29\n",
      "100 29\n",
      "101 29\n",
      "102 29\n",
      "103 29\n",
      "104 29\n",
      "105 29\n",
      "106 29\n",
      "107 29\n",
      "108 29\n",
      "109 30\n",
      "110 30\n",
      "111 30\n",
      "112 30\n",
      "113 30\n",
      "114 30\n",
      "115 30\n",
      "116 30\n",
      "117 30\n",
      "118 30\n",
      "119 30\n",
      "120 30\n",
      "121 33\n",
      "122 33\n",
      "123 33\n",
      "124 33\n",
      "125 33\n",
      "126 33\n",
      "127 33\n",
      "128 33\n",
      "129 33\n",
      "130 33\n",
      "131 33\n",
      "132 33\n",
      "133 34\n",
      "134 34\n",
      "135 34\n",
      "136 34\n",
      "137 34\n",
      "138 34\n",
      "139 35\n",
      "140 35\n",
      "141 35\n",
      "142 35\n",
      "143 35\n",
      "144 35\n",
      "145 35\n",
      "146 35\n",
      "147 35\n",
      "148 35\n",
      "149 35\n",
      "150 35\n",
      "151 36\n",
      "152 36\n",
      "153 36\n",
      "154 36\n",
      "155 36\n",
      "156 36\n",
      "157 38\n",
      "158 38\n",
      "159 38\n",
      "160 38\n",
      "161 38\n",
      "162 38\n",
      "163 38\n",
      "164 38\n",
      "165 38\n",
      "166 38\n",
      "167 38\n",
      "168 38\n",
      "169 38\n",
      "170 38\n",
      "171 38\n",
      "172 38\n",
      "173 38\n",
      "174 38\n"
     ]
    }
   ],
   "source": [
    "E = []\n",
    "for i in range(len(LST)):\n",
    "    E.append(LST[i][2])\n",
    "    print(i+1, E[i])"
   ]
  },
  {
   "cell_type": "code",
   "execution_count": 5,
   "id": "b7c75d5d",
   "metadata": {},
   "outputs": [],
   "source": [
    "# U_min = []\n",
    "# for i in range(len(LST)-N):\n",
    "#     U_min.append(E[i+N] - E[19])\n",
    "#     print(i+1, U_min[i])"
   ]
  },
  {
   "cell_type": "code",
   "execution_count": 6,
   "id": "627531d2",
   "metadata": {},
   "outputs": [],
   "source": [
    "def M_n(remn, n): # n - порядковый номер ремнанта. В качестве n_remn[n] здесь remn\\n\",\n",
    "    global Eexmin, Eexmax\n",
    "    if n == 2:\n",
    "        M_22()\n",
    "    else:\n",
    "        n_remn[n-2] = n_remn[n-1]\n",
    "        for i in range(n_remn[n-1]):\n",
    "            M_n(n_remn[n-1], n-1)\n",
    "            if Energy(C)-E0 > Eexmax:\n",
    "                break\n",
    "                \n",
    "        if n != M-N:\n",
    "            for i in range(n):\n",
    "                C[n_remn[0]+i] = 1\n",
    "            C[n_remn[n-1]+n-1+1] = 1 # !!! +1\n",
    "            for i in range(n+1):\n",
    "                C[n_remn[n-1]-1+i] = 0\n",
    "            n_remn[n-1] -= 1\n",
    "            if Eexmin <= Energy(C)-E0 <= Eexmax:\n",
    "                plus()\n",
    "                #print(C, Energy(C), E0, \"n!=M-N\")\n",
    "                \n",
    "def M_22():\n",
    "    global Eexmin, Eexmax\n",
    "    n_remn[0] = n_remn[1]\n",
    "    for b in range(n_remn[1]):\n",
    "        for a in range(n_remn[0]):\n",
    "            C[n_remn[0]-a], C[n_remn[0]-1-a] = 1, 0\n",
    "            if Eexmin <= Energy(C)-E0 <= Eexmax:\n",
    "                plus()\n",
    "                #print(C, Energy(C), E0, \"M_22 in for\")\n",
    "#             elif Energy(C)-E0 > Eexmax:\n",
    "#                 #print(C, 'check', Energy(C), E0)\n",
    "#                 C[n_remn[0]-1-a] = 1 #new \n",
    "#                 break\n",
    "                \n",
    "        C[n_remn[0]+1], C[n_remn[0]] = 1, 0\n",
    "        C[n_remn[0]-1] = 0\n",
    "        if b != n_remn[1]-1:\n",
    "            C[0] = 1\n",
    "        n_remn[0] -= 1\n",
    "        #print(C, 'meow', Energy(C), E0)\n",
    "        if Eexmin <= Energy(C)-E0 <= Eexmax:\n",
    "            plus()\n",
    "            #print(C, Energy(C), E0, \"M_22 after for\")\n",
    "        elif Energy(C)-E0 > Eexmax:\n",
    "            break\n",
    "            \n",
    "    C[n_remn[0]+1], C[n_remn[0]] = 1, 1\n",
    "    C[n_remn[1]+2], C[n_remn[1]+1], C[n_remn[1]], C[n_remn[1]-1] = 1, 0, 0, 0\n",
    "    n_remn[1] -= 1\n",
    "    if Eexmin <= Energy(C)-E0 <= Eexmax:\n",
    "        plus()\n",
    "        #print(C, Energy(C), E0, \"in M_22 after for for\")\n",
    "        \n",
    "def Energy(array): # array - ряд из 0 и 1\n",
    "    summ = 0\n",
    "    for i in range(len(array)):\n",
    "        summ += array[i]*E[i]\n",
    "    return summ\n",
    "\n",
    "def plus():\n",
    "    global level_count\n",
    "    level_count += 1\n",
    "    #print(C, Energy(C))\n",
    "    "
   ]
  },
  {
   "cell_type": "code",
   "execution_count": 7,
   "id": "382c917d",
   "metadata": {},
   "outputs": [
    {
     "name": "stdout",
     "output_type": "stream",
     "text": [
      "21756\n"
     ]
    }
   ],
   "source": [
    "M = 174 # \n",
    "N = 20\n",
    "Eexmin = 10\n",
    "Eexmax = Eexmin\n",
    "\n",
    "n_remn = []\n",
    "for i in range(M-N):\n",
    "    n_remn.append(N)\n",
    "\n",
    "    \n",
    "C = [0 for i in range(M)]\n",
    "for i in range(N):\n",
    "    C[i] = 1\n",
    "    \n",
    "E0 = Energy(C.copy())\n",
    "\n",
    "#T = []\n",
    "#T.append([Energy(C.copy()), 0, C.copy()])\n",
    "level_count = 0\n",
    "\n",
    "M_n(N, M-N)\n",
    "\n",
    "print(level_count)"
   ]
  },
  {
   "cell_type": "markdown",
   "id": "68a2cda5",
   "metadata": {},
   "source": [
    "# Если количество n = p, то:"
   ]
  },
  {
   "cell_type": "code",
   "execution_count": 8,
   "id": "049b1f97",
   "metadata": {},
   "outputs": [
    {
     "name": "stdout",
     "output_type": "stream",
     "text": [
      "174\n"
     ]
    }
   ],
   "source": [
    "K_u = [1, 12, 15, 84, 396, 312, 1907, 3972, 4170, 20106, 21756, 45714, 119673, 111060, 326827, 501508, 646005]\n",
    "# K depends on u\n",
    "\n",
    "U_excited = 2\n",
    "num_of_iters = U_excited + 1\n",
    "\n",
    "# if(num_of_iters % 2 == 0):\n",
    "#     num_of_iters = num_of_iters / 2\n",
    "# else:\n",
    "#     num_of_iters = num_of_iters / 2 + 1\n",
    "\n",
    "K_total = 0\n",
    "\n",
    "for i in range(num_of_iters):\n",
    "    K_total += K_u[i] * K_u[U_excited-i]\n",
    "    #print(\"i =\", i, \"K_u =\", K_u[i], \"U_excited-i =\", U_excited-i, \"K_u =\", K_u[U_excited-i])\n",
    "    \n",
    "print(K_total)\n",
    "    \n"
   ]
  },
  {
   "cell_type": "markdown",
   "id": "ca91ac7c",
   "metadata": {},
   "source": [
    "# We got the following result:\n",
    "Dimensionless constant a is appoximately equals 11.5.\n",
    "\n",
    "This means, a = 2.24 MeV^{-1}"
   ]
  },
  {
   "cell_type": "markdown",
   "id": "923e3664",
   "metadata": {},
   "source": [
    "# N = 22"
   ]
  },
  {
   "cell_type": "code",
   "execution_count": 7,
   "id": "97c5162f",
   "metadata": {},
   "outputs": [
    {
     "name": "stdout",
     "output_type": "stream",
     "text": [
      "0\n"
     ]
    }
   ],
   "source": [
    "M = 174 # \n",
    "N = 22\n",
    "Eexmin = 1\n",
    "Eexmax = Eexmin\n",
    "\n",
    "n_remn = []\n",
    "for i in range(M-N):\n",
    "    n_remn.append(N)\n",
    "\n",
    "    \n",
    "C = [0 for i in range(M)]\n",
    "for i in range(N):\n",
    "    C[i] = 1\n",
    "    \n",
    "E0 = Energy(C.copy())\n",
    "\n",
    "#T = []\n",
    "#T.append([Energy(C.copy()), 0, C.copy()])\n",
    "level_count = 0\n",
    "\n",
    "M_n(N, M-N)\n",
    "\n",
    "print(level_count)"
   ]
  },
  {
   "cell_type": "code",
   "execution_count": 17,
   "id": "a957808c",
   "metadata": {},
   "outputs": [
    {
     "name": "stdout",
     "output_type": "stream",
     "text": [
      "1\n",
      "0\n",
      "48\n",
      "144\n",
      "708\n",
      "5208\n",
      "10428\n",
      "56016\n",
      "200436\n",
      "387832\n",
      "1768980\n",
      "4057920\n",
      "9017334\n",
      "31022100\n",
      "55948662\n",
      "143033764\n",
      "[1, 0, 48, 144, 708, 5208, 10428, 56016, 200436, 387832, 1768980, 4057920, 9017334, 31022100, 55948662, 143033764]\n"
     ]
    }
   ],
   "source": [
    "K_u = [1, 0, 24, 72, 66, 876, 1038, 2232, 10056, 7796, 30246, 61224, 63801, 223554, 280407, 484394]\n",
    "# K depends on u\n",
    "\n",
    "K = []\n",
    "for k in range(len(K_u)):\n",
    "    U_excited = k\n",
    "    num_of_iters = U_excited + 1\n",
    "\n",
    "    K_total = 0\n",
    "\n",
    "    for i in range(num_of_iters):\n",
    "        K_total += K_u[i] * K_u[U_excited-i]\n",
    "        #print(\"i =\", i, \"K_u =\", K_u[i], \"U_excited-i =\", U_excited-i, \"K_u =\", K_u[U_excited-i])\n",
    "\n",
    "    print(K_total)\n",
    "    K.append(K_total)\n",
    "print(K)"
   ]
  },
  {
   "cell_type": "markdown",
   "id": "3a56c875",
   "metadata": {},
   "source": [
    "# N = 24"
   ]
  },
  {
   "cell_type": "code",
   "execution_count": 40,
   "id": "844c11e8",
   "metadata": {},
   "outputs": [
    {
     "name": "stdout",
     "output_type": "stream",
     "text": [
      "8124\n"
     ]
    }
   ],
   "source": [
    "M = 174 # \n",
    "N = 24\n",
    "Eexmin = 5\n",
    "Eexmax = Eexmin\n",
    "\n",
    "n_remn = []\n",
    "for i in range(M-N):\n",
    "    n_remn.append(N)\n",
    "\n",
    "    \n",
    "C = [0 for i in range(M)]\n",
    "for i in range(N):\n",
    "    C[i] = 1\n",
    "    \n",
    "E0 = Energy(C.copy())\n",
    "\n",
    "#T = []\n",
    "#T.append([Energy(C.copy()), 0, C.copy()])\n",
    "level_count = 0\n",
    "\n",
    "M_n(N, M-N)\n",
    "\n",
    "print(level_count)"
   ]
  },
  {
   "cell_type": "code",
   "execution_count": 46,
   "id": "82d4a47c",
   "metadata": {},
   "outputs": [
    {
     "name": "stdout",
     "output_type": "stream",
     "text": [
      "0\n"
     ]
    }
   ],
   "source": [
    "K_u = [66, 0, 440, 1392, 567, 8124, 10608, 15360, 65295, 63492, 166182, 343992, 418608, 1050096]\n",
    "# K depends on u\n",
    "\n",
    "U_excited = 1\n",
    "num_of_iters = U_excited + 1\n",
    "\n",
    "# if(num_of_iters % 2 == 0):\n",
    "#     num_of_iters = num_of_iters / 2\n",
    "# else:\n",
    "#     num_of_iters = num_of_iters / 2 + 1\n",
    "\n",
    "K_total = 0\n",
    "\n",
    "for i in range(num_of_iters):\n",
    "    K_total += K_u[i] * K_u[U_excited-i]\n",
    "    #print(\"i =\", i, \"K_u =\", K_u[i], \"U_excited-i =\", U_excited-i, \"K_u =\", K_u[U_excited-i])\n",
    "    \n",
    "print(K_total)"
   ]
  },
  {
   "cell_type": "markdown",
   "id": "0365d94c",
   "metadata": {},
   "source": [
    "# N = 26"
   ]
  },
  {
   "cell_type": "code",
   "execution_count": 137,
   "id": "9603075b",
   "metadata": {},
   "outputs": [
    {
     "name": "stdout",
     "output_type": "stream",
     "text": [
      "494\n"
     ]
    }
   ],
   "source": [
    "M = 174 # \n",
    "N = 26\n",
    "Eexmin = 0\n",
    "Eexmax = Eexmin\n",
    "\n",
    "n_remn = []\n",
    "for i in range(M-N):\n",
    "    n_remn.append(N)\n",
    "\n",
    "    \n",
    "C = [0 for i in range(M)]\n",
    "for i in range(N):\n",
    "    C[i] = 1\n",
    "    \n",
    "E0 = Energy(C.copy())\n",
    "\n",
    "#T = []\n",
    "#T.append([Energy(C.copy()), 0, C.copy()])\n",
    "level_count = 0\n",
    "\n",
    "M_n(N, M-N)\n",
    "\n",
    "print(level_count)"
   ]
  },
  {
   "cell_type": "code",
   "execution_count": 144,
   "id": "35fbbdfd",
   "metadata": {},
   "outputs": [
    {
     "name": "stdout",
     "output_type": "stream",
     "text": [
      "i = 0 K_u = 495 U_excited-i = 3 K_u = 6072\n",
      "i = 1 K_u = 0 U_excited-i = 2 K_u = 1584\n",
      "i = 2 K_u = 1584 U_excited-i = 1 K_u = 0\n",
      "i = 3 K_u = 6072 U_excited-i = 0 K_u = 495\n",
      "6011280\n"
     ]
    }
   ],
   "source": [
    "K_u = [495, 0, 1584, 6072, 2244, 23100, 38610, 49368, 170478, 221604, 452796, 891840]\n",
    "# K depends on u\n",
    "\n",
    "U_excited = 3\n",
    "num_of_iters = U_excited + 1\n",
    "\n",
    "# if(num_of_iters % 2 == 0):\n",
    "#     num_of_iters = num_of_iters / 2\n",
    "# else:\n",
    "#     num_of_iters = num_of_iters / 2 + 1\n",
    "\n",
    "K_total = 0\n",
    "\n",
    "for i in range(num_of_iters):\n",
    "    K_total += K_u[i] * K_u[U_excited-i]\n",
    "    print(\"i =\", i, \"K_u =\", K_u[i], \"U_excited-i =\", U_excited-i, \"K_u =\", K_u[U_excited-i])\n",
    "    \n",
    "print(K_total)"
   ]
  },
  {
   "cell_type": "markdown",
   "id": "9891b4ea",
   "metadata": {},
   "source": [
    "# N = 30"
   ]
  },
  {
   "cell_type": "code",
   "execution_count": 130,
   "id": "09da01db",
   "metadata": {},
   "outputs": [
    {
     "name": "stdout",
     "output_type": "stream",
     "text": [
      "244380\n"
     ]
    }
   ],
   "source": [
    "M = 174 # \n",
    "N = 30\n",
    "Eexmin = 9\n",
    "Eexmax = Eexmin\n",
    "\n",
    "n_remn = []\n",
    "for i in range(M-N):\n",
    "    n_remn.append(N)\n",
    "\n",
    "    \n",
    "C = [0 for i in range(M)]\n",
    "for i in range(N):\n",
    "    C[i] = 1\n",
    "    \n",
    "E0 = Energy(C.copy())\n",
    "\n",
    "#T = []\n",
    "#T.append([Energy(C.copy()), 0, C.copy()])\n",
    "level_count = 0\n",
    "\n",
    "M_n(N, M-N)\n",
    "\n",
    "print(level_count)"
   ]
  },
  {
   "cell_type": "code",
   "execution_count": 161,
   "id": "2576a2b2",
   "metadata": {},
   "outputs": [
    {
     "ename": "IndexError",
     "evalue": "list index out of range",
     "output_type": "error",
     "traceback": [
      "\u001b[1;31m---------------------------------------------------------------------------\u001b[0m",
      "\u001b[1;31mIndexError\u001b[0m                                Traceback (most recent call last)",
      "\u001b[1;32m<ipython-input-161-afe79e598279>\u001b[0m in \u001b[0;36m<module>\u001b[1;34m\u001b[0m\n\u001b[0;32m     13\u001b[0m \u001b[1;33m\u001b[0m\u001b[0m\n\u001b[0;32m     14\u001b[0m \u001b[1;32mfor\u001b[0m \u001b[0mi\u001b[0m \u001b[1;32min\u001b[0m \u001b[0mrange\u001b[0m\u001b[1;33m(\u001b[0m\u001b[0mnum_of_iters\u001b[0m\u001b[1;33m)\u001b[0m\u001b[1;33m:\u001b[0m\u001b[1;33m\u001b[0m\u001b[1;33m\u001b[0m\u001b[0m\n\u001b[1;32m---> 15\u001b[1;33m     \u001b[0mK_total\u001b[0m \u001b[1;33m+=\u001b[0m \u001b[0mK_u\u001b[0m\u001b[1;33m[\u001b[0m\u001b[0mi\u001b[0m\u001b[1;33m]\u001b[0m \u001b[1;33m*\u001b[0m \u001b[0mK_u\u001b[0m\u001b[1;33m[\u001b[0m\u001b[0mU_excited\u001b[0m\u001b[1;33m-\u001b[0m\u001b[0mi\u001b[0m\u001b[1;33m]\u001b[0m\u001b[1;33m\u001b[0m\u001b[1;33m\u001b[0m\u001b[0m\n\u001b[0m\u001b[0;32m     16\u001b[0m     \u001b[1;31m#print(\"i =\", i, \"K_u =\", K_u[i], \"U_excited-i =\", U_excited-i, \"K_u =\", K_u[U_excited-i])\u001b[0m\u001b[1;33m\u001b[0m\u001b[1;33m\u001b[0m\u001b[1;33m\u001b[0m\u001b[0m\n\u001b[0;32m     17\u001b[0m \u001b[1;33m\u001b[0m\u001b[0m\n",
      "\u001b[1;31mIndexError\u001b[0m: list index out of range"
     ]
    }
   ],
   "source": [
    "K_u = [495, 0, 440, 6070, 4818, 12804, 38610, 68712, 132492, 244380]\n",
    "# K depends on u\n",
    "\n",
    "U_excited = 10\n",
    "num_of_iters = U_excited + 1\n",
    "\n",
    "# if(num_of_iters % 2 == 0):\n",
    "#     num_of_iters = num_of_iters / 2\n",
    "# else:\n",
    "#     num_of_iters = num_of_iters / 2 + 1\n",
    "\n",
    "K_total = 0\n",
    "\n",
    "for i in range(num_of_iters):\n",
    "    K_total += K_u[i] * K_u[U_excited-i]\n",
    "    #print(\"i =\", i, \"K_u =\", K_u[i], \"U_excited-i =\", U_excited-i, \"K_u =\", K_u[U_excited-i])\n",
    "    \n",
    "print(K_total)"
   ]
  },
  {
   "cell_type": "code",
   "execution_count": null,
   "id": "ad617614",
   "metadata": {},
   "outputs": [],
   "source": []
  },
  {
   "cell_type": "code",
   "execution_count": null,
   "id": "e0bbe97a",
   "metadata": {},
   "outputs": [],
   "source": []
  },
  {
   "cell_type": "code",
   "execution_count": 18,
   "id": "4c2417e2",
   "metadata": {},
   "outputs": [],
   "source": [
    "#K = [1, 0, 48, 144, 708, 5208, 10428, 56016, 200436, 387832, 1768980, 4057920, 9017334, 31022100, 55948662, 143033764]\n",
    "log10K = []\n",
    "\n",
    "for i in K:\n",
    "    if i != 0:\n",
    "        log10K.append(math.log10(i))\n",
    "    else:\n",
    "        log10K.append(0.0)"
   ]
  },
  {
   "cell_type": "code",
   "execution_count": 19,
   "id": "576ac66c",
   "metadata": {},
   "outputs": [
    {
     "name": "stdout",
     "output_type": "stream",
     "text": [
      "[1, 0, 48, 144, 708, 5208, 10428, 56016, 200436, 387832, 1768980, 4057920, 9017334, 31022100, 55948662, 143033764]\n",
      "[0.0, 0.0, 1.6812412373755872, 2.1583624920952498, 2.850033257689769, 3.7166709755601355, 4.018201022496291, 4.7483120934209575, 5.301975727161332, 5.58864363983827, 6.247722922825642, 6.608303480868587, 6.955078156141766, 7.4916711934628335, 7.747789704931125, 8.155438567451382]\n"
     ]
    }
   ],
   "source": [
    "print(K)\n",
    "print(log10K)"
   ]
  },
  {
   "cell_type": "code",
   "execution_count": 20,
   "id": "8591b92b",
   "metadata": {},
   "outputs": [
    {
     "name": "stdout",
     "output_type": "stream",
     "text": [
      "[0, 1, 2, 3, 4, 5, 6, 7, 8, 9, 10, 11, 12, 13, 14, 15]\n"
     ]
    }
   ],
   "source": [
    "u = [] # x axis\n",
    "for l in range(len(K)):\n",
    "    u.append(l)\n",
    "print(u)"
   ]
  },
  {
   "cell_type": "code",
   "execution_count": 21,
   "id": "fd74d44a",
   "metadata": {},
   "outputs": [],
   "source": [
    "def line(U):\n",
    "    a = 10\n",
    "    return (math.sqrt(math.pi)/12) * math.exp(2*math.sqrt(a*U)) / (a**(1/4) * U**(5/4))\n",
    "\n",
    "capote_line = []\n",
    "capote_line.append([])\n",
    "capote_line.append([])\n",
    "\n",
    "for j in range(len(K)*2):\n",
    "    capote_line[0].append(1+j/2)\n",
    "    capote_line[1].append(line(1+j/2))\n",
    "\n",
    "log_capote_line = []\n",
    "for j in range(len(K)*2):\n",
    "    log_capote_line.append(math.log10(capote_line[1][j]))"
   ]
  },
  {
   "cell_type": "code",
   "execution_count": 25,
   "id": "9fd93a86",
   "metadata": {},
   "outputs": [
    {
     "data": {
      "text/plain": [
       "<matplotlib.legend.Legend at 0x22db383d1c0>"
      ]
     },
     "execution_count": 25,
     "metadata": {},
     "output_type": "execute_result"
    },
    {
     "data": {
      "image/png": "[encoded data removed]",
      "text/plain": [
       "<Figure size 864x432 with 1 Axes>"
      ]
     },
     "metadata": {
      "needs_background": "light"
     },
     "output_type": "display_data"
    }
   ],
   "source": [
    "fig, graph = plt.subplots(figsize=(12,6))\n",
    "graph.set_xlabel('Безразмерная энергия возбуждения, u')\n",
    "graph.set_ylabel('lg(ΔN)')\n",
    "\n",
    "graph.xaxis.set_major_locator(ticker.MultipleLocator(1))\n",
    "graph.yaxis.set_major_locator(ticker.MultipleLocator(1))\n",
    "graph.grid(which='major',\n",
    "        color = 'k')\n",
    "graph.minorticks_on()\n",
    "graph.grid(which='minor',\n",
    "        color = 'gray',\n",
    "        linestyle = ':')\n",
    "\n",
    "plt.xlabel(\"Безразмерная энергия возбуждения, u\", fontsize=18, fontweight=\"bold\")\n",
    "plt.ylabel(\"log10(ΔN)\", fontsize=18, fontweight=\"bold\")\n",
    "\n",
    "label_1 = 'Полученные данные, N = Z = ' + str(N)\n",
    "label_2 = 'Формула при безразмерном \\n параметре a = 10.0'\n",
    "\n",
    "graph.scatter(u, log10K, label = label_1, color = 'blue')\n",
    "graph.plot(capote_line[0], log_capote_line, label = label_2, color = 'red')\n",
    "graph.legend()"
   ]
  },
  {
   "cell_type": "code",
   "execution_count": null,
   "id": "d52799fb",
   "metadata": {},
   "outputs": [],
   "source": []
  },
  {
   "cell_type": "code",
   "execution_count": null,
   "id": "161c16e8",
   "metadata": {},
   "outputs": [],
   "source": []
  },
  {
   "cell_type": "code",
   "execution_count": null,
   "id": "897ea674",
   "metadata": {},
   "outputs": [],
   "source": []
  },
  {
   "cell_type": "code",
   "execution_count": null,
   "id": "b297e970",
   "metadata": {},
   "outputs": [],
   "source": []
  },
  {
   "cell_type": "code",
   "execution_count": 18,
   "id": "4ee0a351",
   "metadata": {},
   "outputs": [
    {
     "data": {
      "text/plain": [
       "1.0"
      ]
     },
     "execution_count": 18,
     "metadata": {},
     "output_type": "execute_result"
    }
   ],
   "source": [
    "math.log10(10)"
   ]
  },
  {
   "cell_type": "code",
   "execution_count": null,
   "id": "14017673",
   "metadata": {},
   "outputs": [],
   "source": []
  },
  {
   "cell_type": "code",
   "execution_count": null,
   "id": "97988746",
   "metadata": {},
   "outputs": [],
   "source": []
  },
  {
   "cell_type": "code",
   "execution_count": null,
   "id": "e927a765",
   "metadata": {},
   "outputs": [],
   "source": []
  },
  {
   "cell_type": "code",
   "execution_count": null,
   "id": "24077f13",
   "metadata": {},
   "outputs": [],
   "source": []
  },
  {
   "cell_type": "markdown",
   "id": "e2d384ca",
   "metadata": {},
   "source": [
    "# Сюжетный твист:\n",
    "\n",
    "Энергия u, переданная в подсистему, может израсходоваться ОТЧАСТИ на возбуждение самой подсистемы.\n",
    "\n",
    "Например, для N_n = N_p = 22 нет многочастичных состояний при u = 1. Но есть 66 (включая основное) при u = 0.\n",
    "\n",
    "Но можем ли мы тогда сказать, что само ядро обладает определённой энергией?"
   ]
  },
  {
   "cell_type": "markdown",
   "id": "2b8a4779",
   "metadata": {},
   "source": [
    "# N = 24"
   ]
  },
  {
   "cell_type": "code",
   "execution_count": 112,
   "id": "c143611f",
   "metadata": {},
   "outputs": [
    {
     "name": "stdout",
     "output_type": "stream",
     "text": [
      "[66, 66, 506, 1898, 2465, 10589, 21197, 36557, 101852, 165344, 331526, 675518, 1094126, 2144222]\n",
      "6891523882\n"
     ]
    }
   ],
   "source": [
    "K_u = [66, 0, 440, 1392, 567, 8124, 10608, 15360, 65295, 63492, 166182, 343992, 418608, 1050096]\n",
    "K_u_new = []\n",
    "summ = 0\n",
    "for i in range(len(K_u)):\n",
    "    for j in range(i+1):\n",
    "        summ += K_u[j]\n",
    "    K_u_new.append(summ)\n",
    "    summ = 0\n",
    "print(K_u_new)\n",
    "\n",
    "U_excited = 13\n",
    "num_of_iters = U_excited + 1\n",
    "\n",
    "# if(num_of_iters % 2 == 0):\n",
    "#     num_of_iters = num_of_iters / 2\n",
    "# else:\n",
    "#     num_of_iters = num_of_iters / 2 + 1\n",
    "\n",
    "K_total = 0\n",
    "\n",
    "for i in range(num_of_iters):\n",
    "    K_total += K_u_new[i] * K_u_new[U_excited-i]\n",
    "    #print(\"i =\", i, \"K_u_new =\", K_u_new[i], \"U_excited-i =\", U_excited-i, \"K_u_new =\", K_u_new[U_excited-i])\n",
    "    \n",
    "print(K_total)"
   ]
  },
  {
   "cell_type": "code",
   "execution_count": null,
   "id": "f842132d",
   "metadata": {},
   "outputs": [],
   "source": []
  },
  {
   "cell_type": "code",
   "execution_count": null,
   "id": "a8f601fa",
   "metadata": {},
   "outputs": [],
   "source": []
  },
  {
   "cell_type": "code",
   "execution_count": null,
   "id": "d0ea2dae",
   "metadata": {},
   "outputs": [],
   "source": []
  },
  {
   "cell_type": "code",
   "execution_count": null,
   "id": "b45bee2f",
   "metadata": {},
   "outputs": [],
   "source": []
  }
 ],
 "metadata": {
  "kernelspec": {
   "display_name": "Python 3",
   "language": "python",
   "name": "python3"
  },
  "language_info": {
   "codemirror_mode": {
    "name": "ipython",
    "version": 3
   },
   "file_extension": ".py",
   "mimetype": "text/x-python",
   "name": "python",
   "nbconvert_exporter": "python",
   "pygments_lexer": "ipython3",
   "version": "3.8.8"
  }
 },
 "nbformat": 4,
 "nbformat_minor": 5
}
