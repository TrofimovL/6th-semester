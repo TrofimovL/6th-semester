{
 "cells": [
  {
   "cell_type": "markdown",
   "id": "9c898696",
   "metadata": {},
   "source": [
    "# INFORMATION\n",
    "\n",
    "1 dimensional harmonic oscillator.\n",
    "\n",
    "Modeling level densities via the same algorithm"
   ]
  },
  {
   "cell_type": "code",
   "execution_count": 148,
   "id": "670e894e",
   "metadata": {},
   "outputs": [],
   "source": [
    "E_ceiling = 39\n",
    "\n",
    "info = []\n",
    "E = []\n",
    "\n",
    "n = 1\n",
    "\n",
    "for n in range(0, E_ceiling+1):\n",
    "    if n <= E_ceiling:\n",
    "        info.append([n, '+'])\n",
    "        info.append([n, '-'])\n",
    "        E.append(n)\n",
    "        E.append(n)"
   ]
  },
  {
   "cell_type": "code",
   "execution_count": 149,
   "id": "05df1d07",
   "metadata": {
    "scrolled": true
   },
   "outputs": [
    {
     "name": "stdout",
     "output_type": "stream",
     "text": [
      "1 [0, '+']\n",
      "2 [0, '-']\n",
      "3 [1, '+']\n",
      "4 [1, '-']\n",
      "5 [2, '+']\n",
      "6 [2, '-']\n",
      "7 [3, '+']\n",
      "8 [3, '-']\n",
      "9 [4, '+']\n",
      "10 [4, '-']\n",
      "11 [5, '+']\n",
      "12 [5, '-']\n",
      "13 [6, '+']\n",
      "14 [6, '-']\n",
      "15 [7, '+']\n",
      "16 [7, '-']\n",
      "17 [8, '+']\n",
      "18 [8, '-']\n",
      "19 [9, '+']\n",
      "20 [9, '-']\n",
      "21 [10, '+']\n",
      "22 [10, '-']\n",
      "23 [11, '+']\n",
      "24 [11, '-']\n",
      "25 [12, '+']\n",
      "26 [12, '-']\n",
      "27 [13, '+']\n",
      "28 [13, '-']\n",
      "29 [14, '+']\n",
      "30 [14, '-']\n",
      "31 [15, '+']\n",
      "32 [15, '-']\n",
      "33 [16, '+']\n",
      "34 [16, '-']\n",
      "35 [17, '+']\n",
      "36 [17, '-']\n",
      "37 [18, '+']\n",
      "38 [18, '-']\n",
      "39 [19, '+']\n",
      "40 [19, '-']\n",
      "41 [20, '+']\n",
      "42 [20, '-']\n",
      "43 [21, '+']\n",
      "44 [21, '-']\n",
      "45 [22, '+']\n",
      "46 [22, '-']\n",
      "47 [23, '+']\n",
      "48 [23, '-']\n",
      "49 [24, '+']\n",
      "50 [24, '-']\n",
      "51 [25, '+']\n",
      "52 [25, '-']\n",
      "53 [26, '+']\n",
      "54 [26, '-']\n",
      "55 [27, '+']\n",
      "56 [27, '-']\n",
      "57 [28, '+']\n",
      "58 [28, '-']\n",
      "59 [29, '+']\n",
      "60 [29, '-']\n",
      "61 [30, '+']\n",
      "62 [30, '-']\n",
      "63 [31, '+']\n",
      "64 [31, '-']\n",
      "65 [32, '+']\n",
      "66 [32, '-']\n",
      "67 [33, '+']\n",
      "68 [33, '-']\n",
      "69 [34, '+']\n",
      "70 [34, '-']\n",
      "71 [35, '+']\n",
      "72 [35, '-']\n",
      "73 [36, '+']\n",
      "74 [36, '-']\n",
      "75 [37, '+']\n",
      "76 [37, '-']\n",
      "77 [38, '+']\n",
      "78 [38, '-']\n",
      "79 [39, '+']\n",
      "80 [39, '-']\n"
     ]
    }
   ],
   "source": [
    "for i in range(len(info)):\n",
    "    print(i+1, info[i])"
   ]
  },
  {
   "cell_type": "code",
   "execution_count": 150,
   "id": "172a53cd",
   "metadata": {},
   "outputs": [
    {
     "name": "stdout",
     "output_type": "stream",
     "text": [
      "80\n"
     ]
    }
   ],
   "source": [
    "print(len(info))"
   ]
  },
  {
   "cell_type": "code",
   "execution_count": 151,
   "id": "9ea982f4",
   "metadata": {
    "scrolled": true
   },
   "outputs": [
    {
     "name": "stdout",
     "output_type": "stream",
     "text": [
      "0\n",
      "0\n",
      "1\n",
      "1\n",
      "2\n",
      "2\n",
      "3\n",
      "3\n",
      "4\n",
      "4\n",
      "5\n",
      "5\n",
      "6\n",
      "6\n",
      "7\n",
      "7\n",
      "8\n",
      "8\n",
      "9\n",
      "9\n",
      "10\n",
      "10\n",
      "11\n",
      "11\n",
      "12\n",
      "12\n",
      "13\n",
      "13\n",
      "14\n",
      "14\n",
      "15\n",
      "15\n",
      "16\n",
      "16\n",
      "17\n",
      "17\n",
      "18\n",
      "18\n",
      "19\n",
      "19\n",
      "20\n",
      "20\n",
      "21\n",
      "21\n",
      "22\n",
      "22\n",
      "23\n",
      "23\n",
      "24\n",
      "24\n",
      "25\n",
      "25\n",
      "26\n",
      "26\n",
      "27\n",
      "27\n",
      "28\n",
      "28\n",
      "29\n",
      "29\n",
      "30\n",
      "30\n",
      "31\n",
      "31\n",
      "32\n",
      "32\n",
      "33\n",
      "33\n",
      "34\n",
      "34\n",
      "35\n",
      "35\n",
      "36\n",
      "36\n",
      "37\n",
      "37\n",
      "38\n",
      "38\n",
      "39\n",
      "39\n"
     ]
    }
   ],
   "source": [
    "for i in range(len(E)):\n",
    "    print(E[i])"
   ]
  },
  {
   "cell_type": "markdown",
   "id": "2cca586e",
   "metadata": {},
   "source": [
    "# The old algorithm"
   ]
  },
  {
   "cell_type": "code",
   "execution_count": 152,
   "id": "275e8909",
   "metadata": {},
   "outputs": [],
   "source": [
    "def M_n(remn, n): # n - порядковый номер ремнанта. В качестве n_remn[n] здесь remn\\n\",\n",
    "    global Eexmin, Eexmax\n",
    "    if n == 2:\n",
    "        M_22()\n",
    "    else:\n",
    "        n_remn[n-2] = n_remn[n-1]\n",
    "        for i in range(n_remn[n-1]):\n",
    "            M_n(n_remn[n-1], n-1)\n",
    "            if Energy(C)-E0 > Eexmax:\n",
    "                break\n",
    "                \n",
    "        if n != M-N:\n",
    "            for i in range(n):\n",
    "                C[n_remn[0]+i] = 1\n",
    "            C[n_remn[n-1]+n-1+1] = 1 # !!! +1\n",
    "            for i in range(n+1):\n",
    "                C[n_remn[n-1]-1+i] = 0\n",
    "            n_remn[n-1] -= 1\n",
    "            if Eexmin <= Energy(C)-E0 <= Eexmax:\n",
    "                plus()\n",
    "                \n",
    "def M_22():\n",
    "    global Eexmin, Eexmax\n",
    "    n_remn[0] = n_remn[1]\n",
    "    for b in range(n_remn[1]):\n",
    "        for a in range(n_remn[0]):\n",
    "            C[n_remn[0]-a], C[n_remn[0]-1-a] = 1, 0\n",
    "            if Eexmin <= Energy(C)-E0 <= Eexmax:\n",
    "                plus()\n",
    "#             elif Energy(C)-E0 > Eexmax:\n",
    "#                 #print(C, 'check', Energy(C), E0)\n",
    "#                 C[n_remn[0]-1-a] = 1 #new \n",
    "#                 break\n",
    "                \n",
    "        C[n_remn[0]+1], C[n_remn[0]] = 1, 0\n",
    "        C[n_remn[0]-1] = 0\n",
    "        if b != n_remn[1]-1:\n",
    "            C[0] = 1\n",
    "        n_remn[0] -= 1\n",
    "        #print(C, 'meow', Energy(C), E0)\n",
    "        if Eexmin <= Energy(C)-E0 <= Eexmax:\n",
    "            plus()\n",
    "        elif Energy(C)-E0 > Eexmax:\n",
    "            break\n",
    "            \n",
    "    C[n_remn[0]+1], C[n_remn[0]] = 1, 1\n",
    "    C[n_remn[1]+2], C[n_remn[1]+1], C[n_remn[1]], C[n_remn[1]-1] = 1, 0, 0, 0\n",
    "    n_remn[1] -= 1\n",
    "    if Eexmin <= Energy(C)-E0 <= Eexmax:\n",
    "        plus()\n",
    "        \n",
    "def Energy(array): # array - ряд из 0 и 1\n",
    "    summ = 0\n",
    "    for i in range(len(array)):\n",
    "        summ += array[i]*E[i]\n",
    "    return summ\n",
    "\n",
    "def plus():\n",
    "    global level_count\n",
    "    level_count += 1\n",
    "    #print(C, Energy(C))"
   ]
  },
  {
   "cell_type": "code",
   "execution_count": 153,
   "id": "1fee086e",
   "metadata": {},
   "outputs": [
    {
     "name": "stdout",
     "output_type": "stream",
     "text": [
      "69006\n"
     ]
    }
   ],
   "source": [
    "M = 80\n",
    "N = 20\n",
    "Eexmin = 20\n",
    "Eexmax = Eexmin\n",
    "\n",
    "n_remn = []\n",
    "for i in range(M-N):\n",
    "    n_remn.append(N)\n",
    "    \n",
    "C = [0 for i in range(M)]\n",
    "for i in range(N):\n",
    "    C[i] = 1\n",
    "    \n",
    "E0 = Energy(C.copy())\n",
    "\n",
    "#T = []\n",
    "#T.append([Energy(C.copy()), 0, C.copy()])\n",
    "level_count = 0\n",
    "\n",
    "M_n(N, M-N)\n",
    "\n",
    "print(level_count)\n",
    "#T.remove(T[0])"
   ]
  },
  {
   "cell_type": "markdown",
   "id": "1b66e112",
   "metadata": {},
   "source": [
    "## Массив количества многочастичных возбуждённых состояний для подсистемы для нейтронов или протонов:"
   ]
  },
  {
   "cell_type": "code",
   "execution_count": 115,
   "id": "f2ac62c5",
   "metadata": {},
   "outputs": [],
   "source": [
    "K_u = [1, 4, 9, 20, 42, 80, 147, 260, 445, 744, 1215, 1940, 3047, 4704, 7155, 10736, 15918, 23316, 33806, 48520, 69006]"
   ]
  },
  {
   "cell_type": "code",
   "execution_count": 154,
   "id": "f2de5265",
   "metadata": {},
   "outputs": [
    {
     "name": "stdout",
     "output_type": "stream",
     "text": [
      "i = 0 K_u = 1 U_excited-i = 7 K_u = 260\n",
      "i = 1 K_u = 4 U_excited-i = 6 K_u = 147\n",
      "i = 2 K_u = 9 U_excited-i = 5 K_u = 80\n",
      "i = 3 K_u = 20 U_excited-i = 4 K_u = 42\n",
      "i = 4 K_u = 42 U_excited-i = 3 K_u = 20\n",
      "i = 5 K_u = 80 U_excited-i = 2 K_u = 9\n",
      "i = 6 K_u = 147 U_excited-i = 1 K_u = 4\n",
      "i = 7 K_u = 260 U_excited-i = 0 K_u = 1\n",
      "4816\n"
     ]
    }
   ],
   "source": [
    "U_excited = 7\n",
    "num_of_iters = U_excited + 1\n",
    "\n",
    "K_total = 0\n",
    "\n",
    "for i in range(num_of_iters):\n",
    "    K_total += K_u[i] * K_u[U_excited-i]\n",
    "    print(\"i =\", i, \"K_u =\", K_u[i], \"U_excited-i =\", U_excited-i, \"K_u =\", K_u[U_excited-i])\n",
    "    \n",
    "print(K_total)"
   ]
  },
  {
   "cell_type": "code",
   "execution_count": 119,
   "id": "5ec3705d",
   "metadata": {},
   "outputs": [
    {
     "name": "stdout",
     "output_type": "stream",
     "text": [
      "range(2, 101, 2)\n"
     ]
    }
   ],
   "source": []
  },
  {
   "cell_type": "code",
   "execution_count": null,
   "id": "7555247b",
   "metadata": {},
   "outputs": [],
   "source": []
  },
  {
   "cell_type": "code",
   "execution_count": 16,
   "id": "4eabd260",
   "metadata": {},
   "outputs": [
    {
     "name": "stdout",
     "output_type": "stream",
     "text": [
      "4.75\n"
     ]
    }
   ],
   "source": [
    "s1 = [5, 5, 5, 5]\n",
    "s2 = [5, 4, 4, 4, 5]\n",
    "s3 = [5, 4, 4, 5, 5]\n",
    "s4 = [4, 5, 4, 4, 4, 5]\n",
    "s5 = [5, 5, 5, 5]\n",
    "s6 = [5, 5, 5, 5, 5]\n",
    "s_rest = [5, 5, 5, 5, 5, 5, 5]\n",
    "\n",
    "l = 4 + 5 + 5 + 6 + 4 + 5 + 7\n",
    "\n",
    "s = []\n",
    "s.append(sum(s1))\n",
    "s.append(sum(s2))\n",
    "s.append(sum(s3))\n",
    "s.append(sum(s4))\n",
    "s.append(sum(s5))\n",
    "s.append(sum(s6))\n",
    "s.append(sum(s_rest))\n",
    "\n",
    "print(sum(s) / l)\n"
   ]
  },
  {
   "cell_type": "code",
   "execution_count": null,
   "id": "8da84503",
   "metadata": {},
   "outputs": [],
   "source": []
  },
  {
   "cell_type": "code",
   "execution_count": null,
   "id": "e526e40d",
   "metadata": {},
   "outputs": [],
   "source": []
  },
  {
   "cell_type": "code",
   "execution_count": null,
   "id": "9fc1e8a6",
   "metadata": {},
   "outputs": [],
   "source": []
  }
 ],
 "metadata": {
  "kernelspec": {
   "display_name": "Python 3",
   "language": "python",
   "name": "python3"
  },
  "language_info": {
   "codemirror_mode": {
    "name": "ipython",
    "version": 3
   },
   "file_extension": ".py",
   "mimetype": "text/x-python",
   "name": "python",
   "nbconvert_exporter": "python",
   "pygments_lexer": "ipython3",
   "version": "3.8.8"
  }
 },
 "nbformat": 4,
 "nbformat_minor": 5
}
